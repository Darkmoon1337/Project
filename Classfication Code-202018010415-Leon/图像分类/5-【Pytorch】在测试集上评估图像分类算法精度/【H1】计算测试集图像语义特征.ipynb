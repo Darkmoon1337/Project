{
 "cells": [
  {
   "cell_type": "markdown",
   "id": "753ae5b1-2f57-4f1c-ba12-0c2a6f62a23a",
   "metadata": {},
   "source": [
    "# 计算测试集图像语义特征\n",
    "\n",
    "抽取Pytorch训练得到的图像分类模型中间层的输出特征，作为输入图像的语义特征。\n",
    "\n",
    "计算测试集所有图像的语义特征，使用t-SNE和UMAP两种降维方法降维至二维和三维，可视化。\n",
    "\n",
    "分析不同类别的语义距离、异常数据、细粒度分类、高维数据结构。\n",
    "\n",
    "同济子豪兄：https://space.bilibili.com/1900783\n",
    "\n",
    "[代码运行云GPU环境](https://featurize.cn/?s=d7ce99f842414bfcaea5662a97581bd1)：GPU RTX 3060、CUDA v11.2"
   ]
  },
  {
   "cell_type": "markdown",
   "id": "0a2a232f-0178-4661-98d8-f27f6fa130bf",
   "metadata": {},
   "source": [
    "## 导入工具包"
   ]
  },
  {
   "cell_type": "code",
   "execution_count": 28,
   "id": "57328106-567d-4be0-a0bc-1a20e88ceb01",
   "metadata": {
    "ExecuteTime": {
     "end_time": "2024-04-10T10:45:08.870635600Z",
     "start_time": "2024-04-10T10:45:08.856025700Z"
    }
   },
   "outputs": [
    {
     "name": "stdout",
     "output_type": "stream",
     "text": [
      "device cuda:0\n"
     ]
    }
   ],
   "source": [
    "from tqdm import tqdm\n",
    "\n",
    "import pandas as pd\n",
    "import numpy as np\n",
    "\n",
    "import torch\n",
    "\n",
    "import cv2\n",
    "from PIL import Image\n",
    "\n",
    "# 忽略烦人的红色提示\n",
    "import warnings\n",
    "warnings.filterwarnings(\"ignore\")\n",
    "\n",
    "# 有 GPU 就用 GPU，没有就用 CPU\n",
    "device = torch.device('cuda:0' if torch.cuda.is_available() else 'cpu')\n",
    "print('device', device)"
   ]
  },
  {
   "cell_type": "markdown",
   "id": "7500ea23-53d8-4421-92f6-647d41e34d80",
   "metadata": {},
   "source": [
    "## 图像预处理"
   ]
  },
  {
   "cell_type": "code",
   "execution_count": 29,
   "id": "b562b97f-9a4a-4729-b238-4acb2e77e9dc",
   "metadata": {
    "ExecuteTime": {
     "end_time": "2024-04-10T10:45:10.361608800Z",
     "start_time": "2024-04-10T10:45:10.337840100Z"
    }
   },
   "outputs": [],
   "source": [
    "from torchvision import transforms\n",
    "\n",
    "# # 训练集图像预处理：缩放裁剪、图像增强、转 Tensor、归一化\n",
    "# train_transform = transforms.Compose([transforms.RandomResizedCrop(224),\n",
    "#                                       transforms.RandomHorizontalFlip(),\n",
    "#                                       transforms.ToTensor(),\n",
    "#                                       transforms.Normalize([0.485, 0.456, 0.406], [0.229, 0.224, 0.225])\n",
    "#                                      ])\n",
    "\n",
    "# 测试集图像预处理-RCTN：缩放、裁剪、转 Tensor、归一化\n",
    "test_transform = transforms.Compose([transforms.Resize(256),\n",
    "                                     transforms.CenterCrop(224),\n",
    "                                     transforms.ToTensor(),\n",
    "                                     transforms.Normalize(\n",
    "                                         mean=[0.485, 0.456, 0.406], \n",
    "                                         std=[0.229, 0.224, 0.225])\n",
    "                                    ])"
   ]
  },
  {
   "cell_type": "markdown",
   "id": "f4a3347a-1c09-4b48-b19a-fbcc3791c08b",
   "metadata": {},
   "source": [
    "## 导入训练好的模型"
   ]
  },
  {
   "cell_type": "code",
   "execution_count": 30,
   "id": "618333ec-6e91-4342-acf3-86aaa1654068",
   "metadata": {
    "ExecuteTime": {
     "end_time": "2024-04-10T10:45:12.396527Z",
     "start_time": "2024-04-10T10:45:12.057789100Z"
    }
   },
   "outputs": [],
   "source": [
    "model = torch.load( r'E:\\MV-Code-202018010103-Lucy\\main\\Train_Custom_Dataset\\图像分类\\3-【Pytorch】迁移学习训练自己的图像分类模型\\checkpoint\\best-1.000.pth')\n",
    "model = model.eval().to(device)"
   ]
  },
  {
   "cell_type": "markdown",
   "id": "e41c4cb2-e516-4150-9e9c-9580a26c72a3",
   "metadata": {},
   "source": [
    "## 抽取模型中间层输出结果作为语义特征"
   ]
  },
  {
   "cell_type": "code",
   "execution_count": 31,
   "id": "a9fdf127-c713-4bb4-bcc8-4f808e011229",
   "metadata": {
    "ExecuteTime": {
     "end_time": "2024-04-10T10:45:16.052199700Z",
     "start_time": "2024-04-10T10:45:16.032377400Z"
    }
   },
   "outputs": [],
   "source": [
    "from torchvision.models.feature_extraction import create_feature_extractor"
   ]
  },
  {
   "cell_type": "markdown",
   "source": [],
   "metadata": {
    "collapsed": false
   },
   "id": "e7dfe16d44215a1e"
  },
  {
   "cell_type": "code",
   "execution_count": 32,
   "id": "0a4dda05-7510-40a5-bc6f-6df80fdc4c64",
   "metadata": {
    "ExecuteTime": {
     "end_time": "2024-04-10T10:45:20.124606500Z",
     "start_time": "2024-04-10T10:45:19.963620600Z"
    }
   },
   "outputs": [],
   "source": [
    "model_trunc = create_feature_extractor(model, return_nodes={'avgpool': 'semantic_feature'})"
   ]
  },
  {
   "cell_type": "markdown",
   "id": "1b7137df-1c4a-452e-be96-de7ec6a5d85e",
   "metadata": {},
   "source": [
    "## 计算单张图像的语义特征"
   ]
  },
  {
   "cell_type": "code",
   "execution_count": 33,
   "id": "157f9102-fc51-468e-a43e-1a9256dfe22a",
   "metadata": {
    "ExecuteTime": {
     "end_time": "2024-04-10T10:45:27.689207Z",
     "start_time": "2024-04-10T10:45:27.145911800Z"
    }
   },
   "outputs": [],
   "source": [
    "img_path = r\"D:\\dataset\\sr\\train\\parasitized\\C39P4thinF_original_IMG_20150622_105554_cell_9_RCAN_BIX4-official.png\"\n",
    "img_pil = Image.open(img_path)\n",
    "input_img = test_transform(img_pil) # 预处理\n",
    "input_img = input_img.unsqueeze(0).to(device)\n",
    "# 执行前向预测，得到指定中间层的输出\n",
    "pred_logits = model_trunc(input_img) "
   ]
  },
  {
   "cell_type": "code",
   "execution_count": 34,
   "id": "108eb111-dc92-408c-8bf8-6111ad6a28e7",
   "metadata": {
    "ExecuteTime": {
     "end_time": "2024-04-10T10:45:33.376067800Z",
     "start_time": "2024-04-10T10:45:33.321131800Z"
    }
   },
   "outputs": [
    {
     "data": {
      "text/plain": "(912,)"
     },
     "execution_count": 34,
     "metadata": {},
     "output_type": "execute_result"
    }
   ],
   "source": [
    "pred_logits['semantic_feature'].squeeze().detach().cpu().numpy().shape"
   ]
  },
  {
   "cell_type": "code",
   "execution_count": 35,
   "id": "f70ba1f3-02c3-4bc7-92c2-5b0ee5a76762",
   "metadata": {
    "ExecuteTime": {
     "end_time": "2024-04-10T10:45:34.540918Z",
     "start_time": "2024-04-10T10:45:34.518523300Z"
    }
   },
   "outputs": [],
   "source": [
    "# pred_logits['semantic_feature'].squeeze().detach().cpu().numpy()"
   ]
  },
  {
   "cell_type": "markdown",
   "id": "b1d681eb-d2af-4e54-bfa2-78590dffafbe",
   "metadata": {},
   "source": [
    "## 载入测试集图像分类结果"
   ]
  },
  {
   "cell_type": "code",
   "execution_count": 36,
   "id": "6bb76734-83d2-49c9-ae35-3240595d5861",
   "metadata": {
    "ExecuteTime": {
     "end_time": "2024-04-10T10:45:36.692479300Z",
     "start_time": "2024-04-10T10:45:36.634769200Z"
    }
   },
   "outputs": [],
   "source": [
    "df = pd.read_csv('测试集预测结果.csv')"
   ]
  },
  {
   "cell_type": "code",
   "execution_count": 37,
   "id": "6de3a2b3-0035-4f01-afbc-69b87e1af806",
   "metadata": {
    "ExecuteTime": {
     "end_time": "2024-04-10T10:45:37.587130Z",
     "start_time": "2024-04-10T10:45:37.537558600Z"
    }
   },
   "outputs": [
    {
     "data": {
      "text/plain": "                                                图像路径  标注类别ID       标注类别名称  \\\n0  D:\\dataset\\sr\\val\\parasitized\\C100P61ThinF_IMG...       0  parasitized   \n1  D:\\dataset\\sr\\val\\parasitized\\C100P61ThinF_IMG...       0  parasitized   \n2  D:\\dataset\\sr\\val\\parasitized\\C100P61ThinF_IMG...       0  parasitized   \n3  D:\\dataset\\sr\\val\\parasitized\\C100P61ThinF_IMG...       0  parasitized   \n4  D:\\dataset\\sr\\val\\parasitized\\C100P61ThinF_IMG...       0  parasitized   \n\n   top-1-预测ID   top-1-预测名称  top-2-预测ID  top-2-预测名称  top-n预测正确  \\\n0           0  parasitized           1  uninfected       True   \n1           0  parasitized           1  uninfected       True   \n2           0  parasitized           1  uninfected       True   \n3           0  parasitized           1  uninfected       True   \n4           0  parasitized           1  uninfected       True   \n\n   parasitized-预测置信度  uninfected-预测置信度  \n0           0.999998      2.221901e-06  \n1           0.999980      2.029260e-05  \n2           1.000000      3.772365e-10  \n3           1.000000      2.734464e-08  \n4           1.000000      2.457842e-09  ",
      "text/html": "<div>\n<style scoped>\n    .dataframe tbody tr th:only-of-type {\n        vertical-align: middle;\n    }\n\n    .dataframe tbody tr th {\n        vertical-align: top;\n    }\n\n    .dataframe thead th {\n        text-align: right;\n    }\n</style>\n<table border=\"1\" class=\"dataframe\">\n  <thead>\n    <tr style=\"text-align: right;\">\n      <th></th>\n      <th>图像路径</th>\n      <th>标注类别ID</th>\n      <th>标注类别名称</th>\n      <th>top-1-预测ID</th>\n      <th>top-1-预测名称</th>\n      <th>top-2-预测ID</th>\n      <th>top-2-预测名称</th>\n      <th>top-n预测正确</th>\n      <th>parasitized-预测置信度</th>\n      <th>uninfected-预测置信度</th>\n    </tr>\n  </thead>\n  <tbody>\n    <tr>\n      <th>0</th>\n      <td>D:\\dataset\\sr\\val\\parasitized\\C100P61ThinF_IMG...</td>\n      <td>0</td>\n      <td>parasitized</td>\n      <td>0</td>\n      <td>parasitized</td>\n      <td>1</td>\n      <td>uninfected</td>\n      <td>True</td>\n      <td>0.999998</td>\n      <td>2.221901e-06</td>\n    </tr>\n    <tr>\n      <th>1</th>\n      <td>D:\\dataset\\sr\\val\\parasitized\\C100P61ThinF_IMG...</td>\n      <td>0</td>\n      <td>parasitized</td>\n      <td>0</td>\n      <td>parasitized</td>\n      <td>1</td>\n      <td>uninfected</td>\n      <td>True</td>\n      <td>0.999980</td>\n      <td>2.029260e-05</td>\n    </tr>\n    <tr>\n      <th>2</th>\n      <td>D:\\dataset\\sr\\val\\parasitized\\C100P61ThinF_IMG...</td>\n      <td>0</td>\n      <td>parasitized</td>\n      <td>0</td>\n      <td>parasitized</td>\n      <td>1</td>\n      <td>uninfected</td>\n      <td>True</td>\n      <td>1.000000</td>\n      <td>3.772365e-10</td>\n    </tr>\n    <tr>\n      <th>3</th>\n      <td>D:\\dataset\\sr\\val\\parasitized\\C100P61ThinF_IMG...</td>\n      <td>0</td>\n      <td>parasitized</td>\n      <td>0</td>\n      <td>parasitized</td>\n      <td>1</td>\n      <td>uninfected</td>\n      <td>True</td>\n      <td>1.000000</td>\n      <td>2.734464e-08</td>\n    </tr>\n    <tr>\n      <th>4</th>\n      <td>D:\\dataset\\sr\\val\\parasitized\\C100P61ThinF_IMG...</td>\n      <td>0</td>\n      <td>parasitized</td>\n      <td>0</td>\n      <td>parasitized</td>\n      <td>1</td>\n      <td>uninfected</td>\n      <td>True</td>\n      <td>1.000000</td>\n      <td>2.457842e-09</td>\n    </tr>\n  </tbody>\n</table>\n</div>"
     },
     "execution_count": 37,
     "metadata": {},
     "output_type": "execute_result"
    }
   ],
   "source": [
    "df.head()"
   ]
  },
  {
   "cell_type": "markdown",
   "id": "74e7d010-df35-4fb9-8dcb-1af2d5399681",
   "metadata": {},
   "source": [
    "## 计算测试集每张图像的语义特征"
   ]
  },
  {
   "cell_type": "code",
   "execution_count": 38,
   "id": "0d630667-6b6b-4fdd-8c4d-28286499330b",
   "metadata": {
    "ExecuteTime": {
     "end_time": "2024-04-10T10:47:33.688465700Z",
     "start_time": "2024-04-10T10:45:39.966450900Z"
    }
   },
   "outputs": [
    {
     "name": "stderr",
     "output_type": "stream",
     "text": [
      "100%|██████████| 5512/5512 [01:53<00:00, 48.49it/s]\n"
     ]
    }
   ],
   "source": [
    "encoding_array = []\n",
    "img_path_list = []\n",
    "\n",
    "for img_path in tqdm(df['图像路径']):\n",
    "    img_path_list.append(img_path)\n",
    "    img_pil = Image.open(img_path).convert('RGB')\n",
    "    input_img = test_transform(img_pil).unsqueeze(0).to(device) # 预处理\n",
    "    feature = model_trunc(input_img)['semantic_feature'].squeeze().detach().cpu().numpy() # 执行前向预测，得到 avgpool 层输出的语义特征\n",
    "    encoding_array.append(feature)\n",
    "encoding_array = np.array(encoding_array)"
   ]
  },
  {
   "cell_type": "code",
   "execution_count": 39,
   "id": "fec12f5b-35d0-4367-8ac1-7d7321eecee9",
   "metadata": {
    "ExecuteTime": {
     "end_time": "2024-04-10T10:47:35.659309600Z",
     "start_time": "2024-04-10T10:47:35.640399900Z"
    }
   },
   "outputs": [
    {
     "data": {
      "text/plain": "(5512, 912)"
     },
     "execution_count": 39,
     "metadata": {},
     "output_type": "execute_result"
    }
   ],
   "source": [
    "encoding_array.shape"
   ]
  },
  {
   "cell_type": "markdown",
   "id": "c434aad3-9689-4e77-bef7-1daa4400e590",
   "metadata": {},
   "source": [
    "## 保存为本地的.npy文件"
   ]
  },
  {
   "cell_type": "code",
   "execution_count": 40,
   "id": "896a318d-430c-4b59-9c94-0b08ba0106dd",
   "metadata": {
    "ExecuteTime": {
     "end_time": "2024-04-10T10:47:37.273120700Z",
     "start_time": "2024-04-10T10:47:37.234019700Z"
    }
   },
   "outputs": [],
   "source": [
    "# 保存为本地的 npy 文件\n",
    "np.save('测试集语义特征.npy', encoding_array)"
   ]
  },
  {
   "cell_type": "code",
   "execution_count": null,
   "id": "4417cdc4-0bad-428c-896f-1d35d31401a8",
   "metadata": {},
   "outputs": [],
   "source": []
  }
 ],
 "metadata": {
  "kernelspec": {
   "display_name": "Python 3 (ipykernel)",
   "language": "python",
   "name": "python3"
  },
  "language_info": {
   "codemirror_mode": {
    "name": "ipython",
    "version": 3
   },
   "file_extension": ".py",
   "mimetype": "text/x-python",
   "name": "python",
   "nbconvert_exporter": "python",
   "pygments_lexer": "ipython3",
   "version": "3.7.10"
  }
 },
 "nbformat": 4,
 "nbformat_minor": 5
}
