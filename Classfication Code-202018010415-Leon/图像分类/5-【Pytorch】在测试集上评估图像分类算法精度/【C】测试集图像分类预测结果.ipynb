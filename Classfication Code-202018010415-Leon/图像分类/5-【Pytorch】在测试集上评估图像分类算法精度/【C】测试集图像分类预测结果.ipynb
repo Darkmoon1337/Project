{
 "cells": [
  {
   "cell_type": "markdown",
   "id": "753ae5b1-2f57-4f1c-ba12-0c2a6f62a23a",
   "metadata": {},
   "source": [
    "# 测试集图像分类预测结果\n",
    "\n",
    "使用训练好的图像分类模型，预测测试集的所有图像，得到预测结果表格。\n",
    "\n",
    "同济子豪兄：https://space.bilibili.com/1900783\n",
    "\n",
    "[代码运行云GPU环境](https://featurize.cn/?s=d7ce99f842414bfcaea5662a97581bd1)：GPU RTX 3060、CUDA v11.2"
   ]
  },
  {
   "cell_type": "markdown",
   "id": "0a2a232f-0178-4661-98d8-f27f6fa130bf",
   "metadata": {},
   "source": [
    "## 导入工具包"
   ]
  },
  {
   "cell_type": "code",
   "execution_count": 1,
   "id": "9d995962-4dff-4a21-bf0f-0e88c707c1a6",
   "metadata": {
    "ExecuteTime": {
     "end_time": "2024-04-12T15:29:47.998184100Z",
     "start_time": "2024-04-12T15:29:41.957999600Z"
    }
   },
   "outputs": [
    {
     "name": "stdout",
     "output_type": "stream",
     "text": [
      "device cuda:0\n"
     ]
    }
   ],
   "source": [
    "import os\n",
    "from tqdm import tqdm\n",
    "\n",
    "import numpy as np\n",
    "import pandas as pd\n",
    "\n",
    "from PIL import Image\n",
    "\n",
    "import torch\n",
    "import torch.nn.functional as F\n",
    "\n",
    "# 有 GPU 就用 GPU，没有就用 CPU\n",
    "device = torch.device('cuda:0' if torch.cuda.is_available() else 'cpu')\n",
    "print('device', device)"
   ]
  },
  {
   "cell_type": "markdown",
   "id": "7500ea23-53d8-4421-92f6-647d41e34d80",
   "metadata": {},
   "source": [
    "## 图像预处理"
   ]
  },
  {
   "cell_type": "code",
   "execution_count": 2,
   "id": "b562b97f-9a4a-4729-b238-4acb2e77e9dc",
   "metadata": {
    "ExecuteTime": {
     "end_time": "2024-04-12T15:29:55.338168400Z",
     "start_time": "2024-04-12T15:29:52.804978800Z"
    }
   },
   "outputs": [
    {
     "name": "stderr",
     "output_type": "stream",
     "text": [
      "D:\\Software\\anaconda\\envs\\Pytorch\\lib\\site-packages\\torchvision\\io\\image.py:13: UserWarning: Failed to load image Python extension: '[WinError 127] The specified procedure could not be found'If you don't plan on using image functionality from `torchvision.io`, you can ignore this warning. Otherwise, there might be something wrong with your environment. Did you have `libjpeg` or `libpng` installed before building `torchvision` from source?\n",
      "  warn(\n"
     ]
    }
   ],
   "source": [
    "from torchvision import transforms\n",
    "\n",
    "# # 训练集图像预处理：缩放裁剪、图像增强、转 Tensor、归一化\n",
    "# train_transform = transforms.Compose([transforms.RandomResizedCrop(224),\n",
    "#                                       transforms.RandomHorizontalFlip(),\n",
    "#                                       transforms.ToTensor(),\n",
    "#                                       transforms.Normalize([0.485, 0.456, 0.406], [0.229, 0.224, 0.225])\n",
    "#                                      ])\n",
    "\n",
    "# 测试集图像预处理-RCTN：缩放、裁剪、转 Tensor、归一化\n",
    "test_transform = transforms.Compose([transforms.Resize(256),\n",
    "                                     transforms.CenterCrop(224),\n",
    "                                     transforms.ToTensor(),\n",
    "                                     transforms.Normalize(\n",
    "                                         mean=[0.485, 0.456, 0.406], \n",
    "                                         std=[0.229, 0.224, 0.225])\n",
    "                                    ])"
   ]
  },
  {
   "cell_type": "markdown",
   "id": "1c5a8421-c8db-4e91-bb9e-9f39a14951ad",
   "metadata": {},
   "source": [
    "## 载入测试集（和训练代码教程相同）"
   ]
  },
  {
   "cell_type": "code",
   "execution_count": 3,
   "id": "c1569e29-a9f8-4ddf-95ed-b3afd7105640",
   "metadata": {
    "ExecuteTime": {
     "end_time": "2024-04-12T15:29:59.398657700Z",
     "start_time": "2024-04-12T15:29:59.329493900Z"
    }
   },
   "outputs": [
    {
     "name": "stdout",
     "output_type": "stream",
     "text": [
      "测试集图像数量 5512\n",
      "类别个数 2\n",
      "各类别名称 ['parasitized', 'uninfected']\n",
      "['parasitized', 'uninfected']\n"
     ]
    }
   ],
   "source": [
    "# 数据集文件夹路径\n",
    "dataset_dir = r'D:\\dataset\\sr'\n",
    "test_path = os.path.join(dataset_dir, 'val')\n",
    "from torchvision import datasets\n",
    "# 载入测试集\n",
    "test_dataset = datasets.ImageFolder(test_path, test_transform)\n",
    "print('测试集图像数量', len(test_dataset))\n",
    "print('类别个数', len(test_dataset.classes))\n",
    "print('各类别名称', test_dataset.classes)\n",
    "# 载入类别名称 和 ID索引号 的映射字典\n",
    "idx_to_labels = np.load(r'E:\\MV-Code-202018010103-Lucy\\main\\Train_Custom_Dataset\\图像分类\\3-【Pytorch】迁移学习训练自己的图像分类模型\\idx_to_labels.npy', allow_pickle=True).item()\n",
    "# 获得类别名称\n",
    "classes = list(idx_to_labels.values())\n",
    "print(classes)"
   ]
  },
  {
   "cell_type": "markdown",
   "id": "f4a3347a-1c09-4b48-b19a-fbcc3791c08b",
   "metadata": {},
   "source": [
    "## 导入训练好的模型"
   ]
  },
  {
   "cell_type": "code",
   "execution_count": 6,
   "id": "618333ec-6e91-4342-acf3-86aaa1654068",
   "metadata": {
    "ExecuteTime": {
     "end_time": "2024-04-12T15:30:37.580333700Z",
     "start_time": "2024-04-12T15:30:37.231091Z"
    }
   },
   "outputs": [],
   "source": [
    "model = torch.load( r'E:\\MV-Code-202018010103-Lucy\\main\\Train_Custom_Dataset\\图像分类\\3-【Pytorch】迁移学习训练自己的图像分类模型\\checkpoint\\best-0.911.pth')\n",
    "model = model.eval().to(device)"
   ]
  },
  {
   "cell_type": "markdown",
   "id": "d9652b70-7371-4798-85d6-5ad4170341f2",
   "metadata": {},
   "source": [
    "## 表格A-测试集图像路径及标注"
   ]
  },
  {
   "cell_type": "code",
   "execution_count": 7,
   "id": "0a169289-b385-497b-81d4-1c7d206ea480",
   "metadata": {
    "ExecuteTime": {
     "end_time": "2024-04-12T15:30:39.030045200Z",
     "start_time": "2024-04-12T15:30:39.011390900Z"
    }
   },
   "outputs": [
    {
     "data": {
      "text/plain": "[('D:\\\\dataset\\\\sr\\\\val\\\\parasitized\\\\C100P61ThinF_IMG_20150918_144104_cell_163_RCAN_BIX4-official.png',\n  0),\n ('D:\\\\dataset\\\\sr\\\\val\\\\parasitized\\\\C100P61ThinF_IMG_20150918_144104_cell_166_RCAN_BIX4-official.png',\n  0),\n ('D:\\\\dataset\\\\sr\\\\val\\\\parasitized\\\\C100P61ThinF_IMG_20150918_144104_cell_167_RCAN_BIX4-official.png',\n  0),\n ('D:\\\\dataset\\\\sr\\\\val\\\\parasitized\\\\C100P61ThinF_IMG_20150918_144104_cell_171_RCAN_BIX4-official.png',\n  0),\n ('D:\\\\dataset\\\\sr\\\\val\\\\parasitized\\\\C100P61ThinF_IMG_20150918_144348_cell_139_RCAN_BIX4-official.png',\n  0),\n ('D:\\\\dataset\\\\sr\\\\val\\\\parasitized\\\\C100P61ThinF_IMG_20150918_144348_cell_141_RCAN_BIX4-official.png',\n  0),\n ('D:\\\\dataset\\\\sr\\\\val\\\\parasitized\\\\C100P61ThinF_IMG_20150918_144348_cell_144_RCAN_BIX4-official.png',\n  0),\n ('D:\\\\dataset\\\\sr\\\\val\\\\parasitized\\\\C100P61ThinF_IMG_20150918_144823_cell_161_RCAN_BIX4-official.png',\n  0),\n ('D:\\\\dataset\\\\sr\\\\val\\\\parasitized\\\\C100P61ThinF_IMG_20150918_145609_cell_146_RCAN_BIX4-official.png',\n  0),\n ('D:\\\\dataset\\\\sr\\\\val\\\\parasitized\\\\C100P61ThinF_IMG_20150918_150041_cell_147_RCAN_BIX4-official.png',\n  0)]"
     },
     "execution_count": 7,
     "metadata": {},
     "output_type": "execute_result"
    }
   ],
   "source": [
    "test_dataset.imgs[:10]"
   ]
  },
  {
   "cell_type": "code",
   "execution_count": 8,
   "id": "2fa4d1bd-b60b-4837-b6b0-18b32872c21c",
   "metadata": {
    "ExecuteTime": {
     "end_time": "2024-04-12T15:30:40.900549400Z",
     "start_time": "2024-04-12T15:30:40.873452100Z"
    }
   },
   "outputs": [],
   "source": [
    "img_paths = [each[0] for each in test_dataset.imgs]"
   ]
  },
  {
   "cell_type": "code",
   "execution_count": 9,
   "id": "2fcbbb76-6d90-4e8d-903b-4ab042529623",
   "metadata": {
    "ExecuteTime": {
     "end_time": "2024-04-12T15:30:42.269037100Z",
     "start_time": "2024-04-12T15:30:42.235491300Z"
    }
   },
   "outputs": [],
   "source": [
    "df = pd.DataFrame()\n",
    "df['图像路径'] = img_paths\n",
    "df['标注类别ID'] = test_dataset.targets\n",
    "df['标注类别名称'] = [idx_to_labels[ID] for ID in test_dataset.targets]"
   ]
  },
  {
   "cell_type": "code",
   "execution_count": 10,
   "id": "d22ef546-903e-409f-8811-8505e987e886",
   "metadata": {
    "ExecuteTime": {
     "end_time": "2024-04-12T15:30:44.175588100Z",
     "start_time": "2024-04-12T15:30:44.128023Z"
    }
   },
   "outputs": [
    {
     "data": {
      "text/plain": "                                                   图像路径  标注类别ID       标注类别名称\n0     D:\\dataset\\sr\\val\\parasitized\\C100P61ThinF_IMG...       0  parasitized\n1     D:\\dataset\\sr\\val\\parasitized\\C100P61ThinF_IMG...       0  parasitized\n2     D:\\dataset\\sr\\val\\parasitized\\C100P61ThinF_IMG...       0  parasitized\n3     D:\\dataset\\sr\\val\\parasitized\\C100P61ThinF_IMG...       0  parasitized\n4     D:\\dataset\\sr\\val\\parasitized\\C100P61ThinF_IMG...       0  parasitized\n...                                                 ...     ...          ...\n5507  D:\\dataset\\sr\\val\\uninfected\\C99P60ThinF_IMG_2...       1   uninfected\n5508  D:\\dataset\\sr\\val\\uninfected\\C99P60ThinF_IMG_2...       1   uninfected\n5509  D:\\dataset\\sr\\val\\uninfected\\C99P60ThinF_IMG_2...       1   uninfected\n5510  D:\\dataset\\sr\\val\\uninfected\\C99P60ThinF_IMG_2...       1   uninfected\n5511  D:\\dataset\\sr\\val\\uninfected\\C99P60ThinF_IMG_2...       1   uninfected\n\n[5512 rows x 3 columns]",
      "text/html": "<div>\n<style scoped>\n    .dataframe tbody tr th:only-of-type {\n        vertical-align: middle;\n    }\n\n    .dataframe tbody tr th {\n        vertical-align: top;\n    }\n\n    .dataframe thead th {\n        text-align: right;\n    }\n</style>\n<table border=\"1\" class=\"dataframe\">\n  <thead>\n    <tr style=\"text-align: right;\">\n      <th></th>\n      <th>图像路径</th>\n      <th>标注类别ID</th>\n      <th>标注类别名称</th>\n    </tr>\n  </thead>\n  <tbody>\n    <tr>\n      <th>0</th>\n      <td>D:\\dataset\\sr\\val\\parasitized\\C100P61ThinF_IMG...</td>\n      <td>0</td>\n      <td>parasitized</td>\n    </tr>\n    <tr>\n      <th>1</th>\n      <td>D:\\dataset\\sr\\val\\parasitized\\C100P61ThinF_IMG...</td>\n      <td>0</td>\n      <td>parasitized</td>\n    </tr>\n    <tr>\n      <th>2</th>\n      <td>D:\\dataset\\sr\\val\\parasitized\\C100P61ThinF_IMG...</td>\n      <td>0</td>\n      <td>parasitized</td>\n    </tr>\n    <tr>\n      <th>3</th>\n      <td>D:\\dataset\\sr\\val\\parasitized\\C100P61ThinF_IMG...</td>\n      <td>0</td>\n      <td>parasitized</td>\n    </tr>\n    <tr>\n      <th>4</th>\n      <td>D:\\dataset\\sr\\val\\parasitized\\C100P61ThinF_IMG...</td>\n      <td>0</td>\n      <td>parasitized</td>\n    </tr>\n    <tr>\n      <th>...</th>\n      <td>...</td>\n      <td>...</td>\n      <td>...</td>\n    </tr>\n    <tr>\n      <th>5507</th>\n      <td>D:\\dataset\\sr\\val\\uninfected\\C99P60ThinF_IMG_2...</td>\n      <td>1</td>\n      <td>uninfected</td>\n    </tr>\n    <tr>\n      <th>5508</th>\n      <td>D:\\dataset\\sr\\val\\uninfected\\C99P60ThinF_IMG_2...</td>\n      <td>1</td>\n      <td>uninfected</td>\n    </tr>\n    <tr>\n      <th>5509</th>\n      <td>D:\\dataset\\sr\\val\\uninfected\\C99P60ThinF_IMG_2...</td>\n      <td>1</td>\n      <td>uninfected</td>\n    </tr>\n    <tr>\n      <th>5510</th>\n      <td>D:\\dataset\\sr\\val\\uninfected\\C99P60ThinF_IMG_2...</td>\n      <td>1</td>\n      <td>uninfected</td>\n    </tr>\n    <tr>\n      <th>5511</th>\n      <td>D:\\dataset\\sr\\val\\uninfected\\C99P60ThinF_IMG_2...</td>\n      <td>1</td>\n      <td>uninfected</td>\n    </tr>\n  </tbody>\n</table>\n<p>5512 rows × 3 columns</p>\n</div>"
     },
     "execution_count": 10,
     "metadata": {},
     "output_type": "execute_result"
    }
   ],
   "source": [
    "df"
   ]
  },
  {
   "cell_type": "markdown",
   "id": "ba15f7d4-6dc3-46dd-9aa0-a44912e8b555",
   "metadata": {},
   "source": [
    "## 表格B-测试集每张图像的图像分类预测结果，以及各类别置信度"
   ]
  },
  {
   "cell_type": "code",
   "execution_count": 11,
   "id": "e7c894fe-454f-400b-9507-253f8436520d",
   "metadata": {
    "ExecuteTime": {
     "end_time": "2024-04-12T15:30:46.226724400Z",
     "start_time": "2024-04-12T15:30:46.201236700Z"
    }
   },
   "outputs": [],
   "source": [
    "# 记录 top-n 预测结果\n",
    "n = 2"
   ]
  },
  {
   "cell_type": "code",
   "execution_count": 12,
   "id": "7ef6f5af-525d-46cd-ad57-a0936bd34177",
   "metadata": {
    "ExecuteTime": {
     "end_time": "2024-04-12T15:32:16.310834200Z",
     "start_time": "2024-04-12T15:30:47.140844300Z"
    }
   },
   "outputs": [
    {
     "name": "stderr",
     "output_type": "stream",
     "text": [
      "100%|██████████| 5512/5512 [01:29<00:00, 61.83it/s]\n"
     ]
    },
    {
     "data": {
      "text/plain": "      top-1-预测ID   top-1-预测名称  top-2-预测ID   top-2-预测名称  top-n预测正确  \\\n0              0  parasitized           1   uninfected       True   \n1              1   uninfected           0  parasitized       True   \n2              0  parasitized           1   uninfected       True   \n3              0  parasitized           1   uninfected       True   \n4              0  parasitized           1   uninfected       True   \n...          ...          ...         ...          ...        ...   \n5507           1   uninfected           0  parasitized       True   \n5508           0  parasitized           1   uninfected       True   \n5509           1   uninfected           0  parasitized       True   \n5510           1   uninfected           0  parasitized       True   \n5511           0  parasitized           1   uninfected       True   \n\n      parasitized-预测置信度  uninfected-预测置信度  \n0              0.965240          0.034760  \n1              0.383567          0.616433  \n2              0.780675          0.219325  \n3              0.994083          0.005918  \n4              0.997244          0.002756  \n...                 ...               ...  \n5507           0.078119          0.921881  \n5508           0.636197          0.363803  \n5509           0.453985          0.546015  \n5510           0.174118          0.825882  \n5511           0.855853          0.144147  \n\n[5512 rows x 7 columns]",
      "text/html": "<div>\n<style scoped>\n    .dataframe tbody tr th:only-of-type {\n        vertical-align: middle;\n    }\n\n    .dataframe tbody tr th {\n        vertical-align: top;\n    }\n\n    .dataframe thead th {\n        text-align: right;\n    }\n</style>\n<table border=\"1\" class=\"dataframe\">\n  <thead>\n    <tr style=\"text-align: right;\">\n      <th></th>\n      <th>top-1-预测ID</th>\n      <th>top-1-预测名称</th>\n      <th>top-2-预测ID</th>\n      <th>top-2-预测名称</th>\n      <th>top-n预测正确</th>\n      <th>parasitized-预测置信度</th>\n      <th>uninfected-预测置信度</th>\n    </tr>\n  </thead>\n  <tbody>\n    <tr>\n      <th>0</th>\n      <td>0</td>\n      <td>parasitized</td>\n      <td>1</td>\n      <td>uninfected</td>\n      <td>True</td>\n      <td>0.965240</td>\n      <td>0.034760</td>\n    </tr>\n    <tr>\n      <th>1</th>\n      <td>1</td>\n      <td>uninfected</td>\n      <td>0</td>\n      <td>parasitized</td>\n      <td>True</td>\n      <td>0.383567</td>\n      <td>0.616433</td>\n    </tr>\n    <tr>\n      <th>2</th>\n      <td>0</td>\n      <td>parasitized</td>\n      <td>1</td>\n      <td>uninfected</td>\n      <td>True</td>\n      <td>0.780675</td>\n      <td>0.219325</td>\n    </tr>\n    <tr>\n      <th>3</th>\n      <td>0</td>\n      <td>parasitized</td>\n      <td>1</td>\n      <td>uninfected</td>\n      <td>True</td>\n      <td>0.994083</td>\n      <td>0.005918</td>\n    </tr>\n    <tr>\n      <th>4</th>\n      <td>0</td>\n      <td>parasitized</td>\n      <td>1</td>\n      <td>uninfected</td>\n      <td>True</td>\n      <td>0.997244</td>\n      <td>0.002756</td>\n    </tr>\n    <tr>\n      <th>...</th>\n      <td>...</td>\n      <td>...</td>\n      <td>...</td>\n      <td>...</td>\n      <td>...</td>\n      <td>...</td>\n      <td>...</td>\n    </tr>\n    <tr>\n      <th>5507</th>\n      <td>1</td>\n      <td>uninfected</td>\n      <td>0</td>\n      <td>parasitized</td>\n      <td>True</td>\n      <td>0.078119</td>\n      <td>0.921881</td>\n    </tr>\n    <tr>\n      <th>5508</th>\n      <td>0</td>\n      <td>parasitized</td>\n      <td>1</td>\n      <td>uninfected</td>\n      <td>True</td>\n      <td>0.636197</td>\n      <td>0.363803</td>\n    </tr>\n    <tr>\n      <th>5509</th>\n      <td>1</td>\n      <td>uninfected</td>\n      <td>0</td>\n      <td>parasitized</td>\n      <td>True</td>\n      <td>0.453985</td>\n      <td>0.546015</td>\n    </tr>\n    <tr>\n      <th>5510</th>\n      <td>1</td>\n      <td>uninfected</td>\n      <td>0</td>\n      <td>parasitized</td>\n      <td>True</td>\n      <td>0.174118</td>\n      <td>0.825882</td>\n    </tr>\n    <tr>\n      <th>5511</th>\n      <td>0</td>\n      <td>parasitized</td>\n      <td>1</td>\n      <td>uninfected</td>\n      <td>True</td>\n      <td>0.855853</td>\n      <td>0.144147</td>\n    </tr>\n  </tbody>\n</table>\n<p>5512 rows × 7 columns</p>\n</div>"
     },
     "metadata": {},
     "output_type": "display_data"
    }
   ],
   "source": [
    "\n",
    "# Let's assume that 'test_transform', 'model', 'device', 'idx_to_labels', and 'classes' are already defined\n",
    "\n",
    "# Your original DataFrame 'df' that contains '图像路径' and '标注类别ID'\n",
    "# For example: df = pd.DataFrame({'图像路径': ['path1.jpg', 'path2.jpg'], '标注类别ID': [0, 1]})\n",
    "\n",
    "# The number of predictions to consider as top-n\n",
    "\n",
    "\n",
    "# Collect each prediction dictionary in a list\n",
    "pred_dicts = []\n",
    "\n",
    "for idx, row in tqdm(df.iterrows(), total=df.shape[0]):\n",
    "    img_path = row['图像路径']\n",
    "    img_pil = Image.open(img_path).convert('RGB')\n",
    "    input_img = test_transform(img_pil).unsqueeze(0).to(device)\n",
    "    pred_logits = model(input_img)\n",
    "    pred_softmax = F.softmax(pred_logits, dim=1)\n",
    "\n",
    "    pred_dict = {}\n",
    "\n",
    "    top_n = torch.topk(pred_softmax, n)\n",
    "    pred_ids = top_n[1].cpu().detach().numpy().squeeze()\n",
    "\n",
    "    for i in range(1, n+1):\n",
    "        pred_dict['top-{}-预测ID'.format(i)] = int(pred_ids[i-1])\n",
    "        pred_dict['top-{}-预测名称'.format(i)] = idx_to_labels[int(pred_ids[i-1])]\n",
    "    pred_dict['top-n预测正确'] = int(row['标注类别ID']) in pred_ids.tolist()\n",
    "\n",
    "    for idx, each in enumerate(classes):\n",
    "        pred_dict['{}-预测置信度'.format(each)] = float(pred_softmax[0][idx].cpu().detach().numpy())\n",
    "    \n",
    "    pred_dicts.append(pred_dict)\n",
    "\n",
    "# Now concatenate all dictionaries to form a DataFrame\n",
    "df_pred = pd.DataFrame(pred_dicts)\n",
    "\n",
    "# Display the new prediction DataFrame\n",
    "display(df_pred)\n"
   ]
  },
  {
   "cell_type": "code",
   "execution_count": 13,
   "id": "bdfd0e56-51b3-479d-b937-09eaf9174500",
   "metadata": {
    "ExecuteTime": {
     "end_time": "2024-04-12T15:33:08.813720900Z",
     "start_time": "2024-04-12T15:33:08.799633800Z"
    }
   },
   "outputs": [
    {
     "data": {
      "text/plain": "      top-1-预测ID   top-1-预测名称  top-2-预测ID   top-2-预测名称  top-n预测正确  \\\n0              0  parasitized           1   uninfected       True   \n1              1   uninfected           0  parasitized       True   \n2              0  parasitized           1   uninfected       True   \n3              0  parasitized           1   uninfected       True   \n4              0  parasitized           1   uninfected       True   \n...          ...          ...         ...          ...        ...   \n5507           1   uninfected           0  parasitized       True   \n5508           0  parasitized           1   uninfected       True   \n5509           1   uninfected           0  parasitized       True   \n5510           1   uninfected           0  parasitized       True   \n5511           0  parasitized           1   uninfected       True   \n\n      parasitized-预测置信度  uninfected-预测置信度  \n0              0.965240          0.034760  \n1              0.383567          0.616433  \n2              0.780675          0.219325  \n3              0.994083          0.005918  \n4              0.997244          0.002756  \n...                 ...               ...  \n5507           0.078119          0.921881  \n5508           0.636197          0.363803  \n5509           0.453985          0.546015  \n5510           0.174118          0.825882  \n5511           0.855853          0.144147  \n\n[5512 rows x 7 columns]",
      "text/html": "<div>\n<style scoped>\n    .dataframe tbody tr th:only-of-type {\n        vertical-align: middle;\n    }\n\n    .dataframe tbody tr th {\n        vertical-align: top;\n    }\n\n    .dataframe thead th {\n        text-align: right;\n    }\n</style>\n<table border=\"1\" class=\"dataframe\">\n  <thead>\n    <tr style=\"text-align: right;\">\n      <th></th>\n      <th>top-1-预测ID</th>\n      <th>top-1-预测名称</th>\n      <th>top-2-预测ID</th>\n      <th>top-2-预测名称</th>\n      <th>top-n预测正确</th>\n      <th>parasitized-预测置信度</th>\n      <th>uninfected-预测置信度</th>\n    </tr>\n  </thead>\n  <tbody>\n    <tr>\n      <th>0</th>\n      <td>0</td>\n      <td>parasitized</td>\n      <td>1</td>\n      <td>uninfected</td>\n      <td>True</td>\n      <td>0.965240</td>\n      <td>0.034760</td>\n    </tr>\n    <tr>\n      <th>1</th>\n      <td>1</td>\n      <td>uninfected</td>\n      <td>0</td>\n      <td>parasitized</td>\n      <td>True</td>\n      <td>0.383567</td>\n      <td>0.616433</td>\n    </tr>\n    <tr>\n      <th>2</th>\n      <td>0</td>\n      <td>parasitized</td>\n      <td>1</td>\n      <td>uninfected</td>\n      <td>True</td>\n      <td>0.780675</td>\n      <td>0.219325</td>\n    </tr>\n    <tr>\n      <th>3</th>\n      <td>0</td>\n      <td>parasitized</td>\n      <td>1</td>\n      <td>uninfected</td>\n      <td>True</td>\n      <td>0.994083</td>\n      <td>0.005918</td>\n    </tr>\n    <tr>\n      <th>4</th>\n      <td>0</td>\n      <td>parasitized</td>\n      <td>1</td>\n      <td>uninfected</td>\n      <td>True</td>\n      <td>0.997244</td>\n      <td>0.002756</td>\n    </tr>\n    <tr>\n      <th>...</th>\n      <td>...</td>\n      <td>...</td>\n      <td>...</td>\n      <td>...</td>\n      <td>...</td>\n      <td>...</td>\n      <td>...</td>\n    </tr>\n    <tr>\n      <th>5507</th>\n      <td>1</td>\n      <td>uninfected</td>\n      <td>0</td>\n      <td>parasitized</td>\n      <td>True</td>\n      <td>0.078119</td>\n      <td>0.921881</td>\n    </tr>\n    <tr>\n      <th>5508</th>\n      <td>0</td>\n      <td>parasitized</td>\n      <td>1</td>\n      <td>uninfected</td>\n      <td>True</td>\n      <td>0.636197</td>\n      <td>0.363803</td>\n    </tr>\n    <tr>\n      <th>5509</th>\n      <td>1</td>\n      <td>uninfected</td>\n      <td>0</td>\n      <td>parasitized</td>\n      <td>True</td>\n      <td>0.453985</td>\n      <td>0.546015</td>\n    </tr>\n    <tr>\n      <th>5510</th>\n      <td>1</td>\n      <td>uninfected</td>\n      <td>0</td>\n      <td>parasitized</td>\n      <td>True</td>\n      <td>0.174118</td>\n      <td>0.825882</td>\n    </tr>\n    <tr>\n      <th>5511</th>\n      <td>0</td>\n      <td>parasitized</td>\n      <td>1</td>\n      <td>uninfected</td>\n      <td>True</td>\n      <td>0.855853</td>\n      <td>0.144147</td>\n    </tr>\n  </tbody>\n</table>\n<p>5512 rows × 7 columns</p>\n</div>"
     },
     "execution_count": 13,
     "metadata": {},
     "output_type": "execute_result"
    }
   ],
   "source": [
    "df_pred"
   ]
  },
  {
   "cell_type": "markdown",
   "id": "f0bcef2f-61a4-4900-9c57-c3de32719036",
   "metadata": {},
   "source": [
    "## 拼接AB两张表格"
   ]
  },
  {
   "cell_type": "code",
   "execution_count": 14,
   "id": "9442976c-6075-4fd6-82e9-1c5d81dd866f",
   "metadata": {
    "ExecuteTime": {
     "end_time": "2024-04-12T15:33:16.166421300Z",
     "start_time": "2024-04-12T15:33:16.147730200Z"
    }
   },
   "outputs": [],
   "source": [
    "df = pd.concat([df, df_pred], axis=1)"
   ]
  },
  {
   "cell_type": "code",
   "execution_count": 15,
   "id": "ad05a39d-4e52-41b0-9c82-c10861d3aa80",
   "metadata": {
    "ExecuteTime": {
     "end_time": "2024-04-12T15:33:16.970001Z",
     "start_time": "2024-04-12T15:33:16.947712Z"
    }
   },
   "outputs": [
    {
     "data": {
      "text/plain": "                                                   图像路径  标注类别ID       标注类别名称  \\\n0     D:\\dataset\\sr\\val\\parasitized\\C100P61ThinF_IMG...       0  parasitized   \n1     D:\\dataset\\sr\\val\\parasitized\\C100P61ThinF_IMG...       0  parasitized   \n2     D:\\dataset\\sr\\val\\parasitized\\C100P61ThinF_IMG...       0  parasitized   \n3     D:\\dataset\\sr\\val\\parasitized\\C100P61ThinF_IMG...       0  parasitized   \n4     D:\\dataset\\sr\\val\\parasitized\\C100P61ThinF_IMG...       0  parasitized   \n...                                                 ...     ...          ...   \n5507  D:\\dataset\\sr\\val\\uninfected\\C99P60ThinF_IMG_2...       1   uninfected   \n5508  D:\\dataset\\sr\\val\\uninfected\\C99P60ThinF_IMG_2...       1   uninfected   \n5509  D:\\dataset\\sr\\val\\uninfected\\C99P60ThinF_IMG_2...       1   uninfected   \n5510  D:\\dataset\\sr\\val\\uninfected\\C99P60ThinF_IMG_2...       1   uninfected   \n5511  D:\\dataset\\sr\\val\\uninfected\\C99P60ThinF_IMG_2...       1   uninfected   \n\n      top-1-预测ID   top-1-预测名称  top-2-预测ID   top-2-预测名称  top-n预测正确  \\\n0              0  parasitized           1   uninfected       True   \n1              1   uninfected           0  parasitized       True   \n2              0  parasitized           1   uninfected       True   \n3              0  parasitized           1   uninfected       True   \n4              0  parasitized           1   uninfected       True   \n...          ...          ...         ...          ...        ...   \n5507           1   uninfected           0  parasitized       True   \n5508           0  parasitized           1   uninfected       True   \n5509           1   uninfected           0  parasitized       True   \n5510           1   uninfected           0  parasitized       True   \n5511           0  parasitized           1   uninfected       True   \n\n      parasitized-预测置信度  uninfected-预测置信度  \n0              0.965240          0.034760  \n1              0.383567          0.616433  \n2              0.780675          0.219325  \n3              0.994083          0.005918  \n4              0.997244          0.002756  \n...                 ...               ...  \n5507           0.078119          0.921881  \n5508           0.636197          0.363803  \n5509           0.453985          0.546015  \n5510           0.174118          0.825882  \n5511           0.855853          0.144147  \n\n[5512 rows x 10 columns]",
      "text/html": "<div>\n<style scoped>\n    .dataframe tbody tr th:only-of-type {\n        vertical-align: middle;\n    }\n\n    .dataframe tbody tr th {\n        vertical-align: top;\n    }\n\n    .dataframe thead th {\n        text-align: right;\n    }\n</style>\n<table border=\"1\" class=\"dataframe\">\n  <thead>\n    <tr style=\"text-align: right;\">\n      <th></th>\n      <th>图像路径</th>\n      <th>标注类别ID</th>\n      <th>标注类别名称</th>\n      <th>top-1-预测ID</th>\n      <th>top-1-预测名称</th>\n      <th>top-2-预测ID</th>\n      <th>top-2-预测名称</th>\n      <th>top-n预测正确</th>\n      <th>parasitized-预测置信度</th>\n      <th>uninfected-预测置信度</th>\n    </tr>\n  </thead>\n  <tbody>\n    <tr>\n      <th>0</th>\n      <td>D:\\dataset\\sr\\val\\parasitized\\C100P61ThinF_IMG...</td>\n      <td>0</td>\n      <td>parasitized</td>\n      <td>0</td>\n      <td>parasitized</td>\n      <td>1</td>\n      <td>uninfected</td>\n      <td>True</td>\n      <td>0.965240</td>\n      <td>0.034760</td>\n    </tr>\n    <tr>\n      <th>1</th>\n      <td>D:\\dataset\\sr\\val\\parasitized\\C100P61ThinF_IMG...</td>\n      <td>0</td>\n      <td>parasitized</td>\n      <td>1</td>\n      <td>uninfected</td>\n      <td>0</td>\n      <td>parasitized</td>\n      <td>True</td>\n      <td>0.383567</td>\n      <td>0.616433</td>\n    </tr>\n    <tr>\n      <th>2</th>\n      <td>D:\\dataset\\sr\\val\\parasitized\\C100P61ThinF_IMG...</td>\n      <td>0</td>\n      <td>parasitized</td>\n      <td>0</td>\n      <td>parasitized</td>\n      <td>1</td>\n      <td>uninfected</td>\n      <td>True</td>\n      <td>0.780675</td>\n      <td>0.219325</td>\n    </tr>\n    <tr>\n      <th>3</th>\n      <td>D:\\dataset\\sr\\val\\parasitized\\C100P61ThinF_IMG...</td>\n      <td>0</td>\n      <td>parasitized</td>\n      <td>0</td>\n      <td>parasitized</td>\n      <td>1</td>\n      <td>uninfected</td>\n      <td>True</td>\n      <td>0.994083</td>\n      <td>0.005918</td>\n    </tr>\n    <tr>\n      <th>4</th>\n      <td>D:\\dataset\\sr\\val\\parasitized\\C100P61ThinF_IMG...</td>\n      <td>0</td>\n      <td>parasitized</td>\n      <td>0</td>\n      <td>parasitized</td>\n      <td>1</td>\n      <td>uninfected</td>\n      <td>True</td>\n      <td>0.997244</td>\n      <td>0.002756</td>\n    </tr>\n    <tr>\n      <th>...</th>\n      <td>...</td>\n      <td>...</td>\n      <td>...</td>\n      <td>...</td>\n      <td>...</td>\n      <td>...</td>\n      <td>...</td>\n      <td>...</td>\n      <td>...</td>\n      <td>...</td>\n    </tr>\n    <tr>\n      <th>5507</th>\n      <td>D:\\dataset\\sr\\val\\uninfected\\C99P60ThinF_IMG_2...</td>\n      <td>1</td>\n      <td>uninfected</td>\n      <td>1</td>\n      <td>uninfected</td>\n      <td>0</td>\n      <td>parasitized</td>\n      <td>True</td>\n      <td>0.078119</td>\n      <td>0.921881</td>\n    </tr>\n    <tr>\n      <th>5508</th>\n      <td>D:\\dataset\\sr\\val\\uninfected\\C99P60ThinF_IMG_2...</td>\n      <td>1</td>\n      <td>uninfected</td>\n      <td>0</td>\n      <td>parasitized</td>\n      <td>1</td>\n      <td>uninfected</td>\n      <td>True</td>\n      <td>0.636197</td>\n      <td>0.363803</td>\n    </tr>\n    <tr>\n      <th>5509</th>\n      <td>D:\\dataset\\sr\\val\\uninfected\\C99P60ThinF_IMG_2...</td>\n      <td>1</td>\n      <td>uninfected</td>\n      <td>1</td>\n      <td>uninfected</td>\n      <td>0</td>\n      <td>parasitized</td>\n      <td>True</td>\n      <td>0.453985</td>\n      <td>0.546015</td>\n    </tr>\n    <tr>\n      <th>5510</th>\n      <td>D:\\dataset\\sr\\val\\uninfected\\C99P60ThinF_IMG_2...</td>\n      <td>1</td>\n      <td>uninfected</td>\n      <td>1</td>\n      <td>uninfected</td>\n      <td>0</td>\n      <td>parasitized</td>\n      <td>True</td>\n      <td>0.174118</td>\n      <td>0.825882</td>\n    </tr>\n    <tr>\n      <th>5511</th>\n      <td>D:\\dataset\\sr\\val\\uninfected\\C99P60ThinF_IMG_2...</td>\n      <td>1</td>\n      <td>uninfected</td>\n      <td>0</td>\n      <td>parasitized</td>\n      <td>1</td>\n      <td>uninfected</td>\n      <td>True</td>\n      <td>0.855853</td>\n      <td>0.144147</td>\n    </tr>\n  </tbody>\n</table>\n<p>5512 rows × 10 columns</p>\n</div>"
     },
     "execution_count": 15,
     "metadata": {},
     "output_type": "execute_result"
    }
   ],
   "source": [
    "df"
   ]
  },
  {
   "cell_type": "markdown",
   "id": "03ded529-bc87-4007-89af-a1904d49ba2a",
   "metadata": {},
   "source": [
    "## 导出完整表格"
   ]
  },
  {
   "cell_type": "code",
   "execution_count": 16,
   "id": "7cb9c4b2-7c99-4f67-a52a-106e67a1d58c",
   "metadata": {
    "ExecuteTime": {
     "end_time": "2024-04-12T15:33:19.127867500Z",
     "start_time": "2024-04-12T15:33:19.065797500Z"
    }
   },
   "outputs": [],
   "source": [
    "df.to_csv('测试集预测结果.csv', index=False)"
   ]
  },
  {
   "cell_type": "code",
   "execution_count": null,
   "id": "c3577f41-690d-47db-80ba-66b9e6430396",
   "metadata": {},
   "outputs": [],
   "source": []
  }
 ],
 "metadata": {
  "kernelspec": {
   "display_name": "Python 3 (ipykernel)",
   "language": "python",
   "name": "python3"
  },
  "language_info": {
   "codemirror_mode": {
    "name": "ipython",
    "version": 3
   },
   "file_extension": ".py",
   "mimetype": "text/x-python",
   "name": "python",
   "nbconvert_exporter": "python",
   "pygments_lexer": "ipython3",
   "version": "3.7.10"
  }
 },
 "nbformat": 4,
 "nbformat_minor": 5
}
