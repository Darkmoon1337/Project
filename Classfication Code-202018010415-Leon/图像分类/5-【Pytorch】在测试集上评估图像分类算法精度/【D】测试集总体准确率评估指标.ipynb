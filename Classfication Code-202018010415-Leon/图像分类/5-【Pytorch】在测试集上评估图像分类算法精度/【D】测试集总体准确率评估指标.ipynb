{
 "cells": [
  {
   "cell_type": "markdown",
   "id": "2a22969d-14d8-430d-84af-2ce7c2e5cf29",
   "metadata": {},
   "source": [
    "# 测试集总体准确率评估指标\n",
    "\n",
    "分析测试集预测结果表格，计算总体准确率评估指标和各类别准确率评估指标。\n",
    "\n",
    "同济子豪兄：https://space.bilibili.com/1900783"
   ]
  },
  {
   "cell_type": "markdown",
   "id": "6126ed04-a127-4d55-8a4b-aeb5d440039c",
   "metadata": {},
   "source": [
    "## 导入工具包"
   ]
  },
  {
   "cell_type": "code",
   "execution_count": 1,
   "id": "4c48d4e8-5de7-4d6f-9e6d-c5f799f1223d",
   "metadata": {
    "ExecuteTime": {
     "end_time": "2024-04-12T15:33:24.763746200Z",
     "start_time": "2024-04-12T15:33:23.968379800Z"
    }
   },
   "outputs": [],
   "source": [
    "import pandas as pd\n",
    "import numpy as np\n",
    "from tqdm import tqdm"
   ]
  },
  {
   "cell_type": "markdown",
   "id": "f1d831d0-8192-4db6-b913-ef7327463f35",
   "metadata": {},
   "source": [
    "## 载入类别名称和ID"
   ]
  },
  {
   "cell_type": "code",
   "execution_count": 2,
   "id": "00c507c4-c990-4326-b479-4b18e8aa50da",
   "metadata": {
    "ExecuteTime": {
     "end_time": "2024-04-12T15:33:28.028687800Z",
     "start_time": "2024-04-12T15:33:28.001973700Z"
    }
   },
   "outputs": [
    {
     "name": "stdout",
     "output_type": "stream",
     "text": [
      "['parasitized', 'uninfected']\n"
     ]
    }
   ],
   "source": [
    "idx_to_labels = np.load(r'E:\\MV-Code-202018010103-Lucy\\main\\Train_Custom_Dataset\\图像分类\\3-【Pytorch】迁移学习训练自己的图像分类模型\\idx_to_labels.npy', allow_pickle=True).item()\n",
    "# 获得类别名称\n",
    "classes = list(idx_to_labels.values())\n",
    "print(classes)"
   ]
  },
  {
   "cell_type": "markdown",
   "id": "a25de944-2532-472c-af77-6b8eaacfa916",
   "metadata": {},
   "source": [
    "## 载入测试集预测结果表格"
   ]
  },
  {
   "cell_type": "code",
   "execution_count": 3,
   "id": "42c95441-d023-4fc2-897b-3f6a7f86e017",
   "metadata": {
    "ExecuteTime": {
     "end_time": "2024-04-12T15:33:30.030712900Z",
     "start_time": "2024-04-12T15:33:29.993951300Z"
    }
   },
   "outputs": [],
   "source": [
    "df = pd.read_csv('测试集预测结果.csv')"
   ]
  },
  {
   "cell_type": "code",
   "execution_count": 4,
   "id": "917a75bd-bd3f-4105-aa3c-0fce5e4d1fda",
   "metadata": {
    "ExecuteTime": {
     "end_time": "2024-04-12T15:33:30.759026200Z",
     "start_time": "2024-04-12T15:33:30.707394900Z"
    }
   },
   "outputs": [
    {
     "data": {
      "text/plain": "                                                   图像路径  标注类别ID       标注类别名称  \\\n0     D:\\dataset\\sr\\val\\parasitized\\C100P61ThinF_IMG...       0  parasitized   \n1     D:\\dataset\\sr\\val\\parasitized\\C100P61ThinF_IMG...       0  parasitized   \n2     D:\\dataset\\sr\\val\\parasitized\\C100P61ThinF_IMG...       0  parasitized   \n3     D:\\dataset\\sr\\val\\parasitized\\C100P61ThinF_IMG...       0  parasitized   \n4     D:\\dataset\\sr\\val\\parasitized\\C100P61ThinF_IMG...       0  parasitized   \n...                                                 ...     ...          ...   \n5507  D:\\dataset\\sr\\val\\uninfected\\C99P60ThinF_IMG_2...       1   uninfected   \n5508  D:\\dataset\\sr\\val\\uninfected\\C99P60ThinF_IMG_2...       1   uninfected   \n5509  D:\\dataset\\sr\\val\\uninfected\\C99P60ThinF_IMG_2...       1   uninfected   \n5510  D:\\dataset\\sr\\val\\uninfected\\C99P60ThinF_IMG_2...       1   uninfected   \n5511  D:\\dataset\\sr\\val\\uninfected\\C99P60ThinF_IMG_2...       1   uninfected   \n\n      top-1-预测ID   top-1-预测名称  top-2-预测ID   top-2-预测名称  top-n预测正确  \\\n0              0  parasitized           1   uninfected       True   \n1              1   uninfected           0  parasitized       True   \n2              0  parasitized           1   uninfected       True   \n3              0  parasitized           1   uninfected       True   \n4              0  parasitized           1   uninfected       True   \n...          ...          ...         ...          ...        ...   \n5507           1   uninfected           0  parasitized       True   \n5508           0  parasitized           1   uninfected       True   \n5509           1   uninfected           0  parasitized       True   \n5510           1   uninfected           0  parasitized       True   \n5511           0  parasitized           1   uninfected       True   \n\n      parasitized-预测置信度  uninfected-预测置信度  \n0              0.965240          0.034760  \n1              0.383567          0.616433  \n2              0.780675          0.219325  \n3              0.994083          0.005918  \n4              0.997244          0.002756  \n...                 ...               ...  \n5507           0.078119          0.921881  \n5508           0.636197          0.363803  \n5509           0.453985          0.546015  \n5510           0.174118          0.825882  \n5511           0.855853          0.144147  \n\n[5512 rows x 10 columns]",
      "text/html": "<div>\n<style scoped>\n    .dataframe tbody tr th:only-of-type {\n        vertical-align: middle;\n    }\n\n    .dataframe tbody tr th {\n        vertical-align: top;\n    }\n\n    .dataframe thead th {\n        text-align: right;\n    }\n</style>\n<table border=\"1\" class=\"dataframe\">\n  <thead>\n    <tr style=\"text-align: right;\">\n      <th></th>\n      <th>图像路径</th>\n      <th>标注类别ID</th>\n      <th>标注类别名称</th>\n      <th>top-1-预测ID</th>\n      <th>top-1-预测名称</th>\n      <th>top-2-预测ID</th>\n      <th>top-2-预测名称</th>\n      <th>top-n预测正确</th>\n      <th>parasitized-预测置信度</th>\n      <th>uninfected-预测置信度</th>\n    </tr>\n  </thead>\n  <tbody>\n    <tr>\n      <th>0</th>\n      <td>D:\\dataset\\sr\\val\\parasitized\\C100P61ThinF_IMG...</td>\n      <td>0</td>\n      <td>parasitized</td>\n      <td>0</td>\n      <td>parasitized</td>\n      <td>1</td>\n      <td>uninfected</td>\n      <td>True</td>\n      <td>0.965240</td>\n      <td>0.034760</td>\n    </tr>\n    <tr>\n      <th>1</th>\n      <td>D:\\dataset\\sr\\val\\parasitized\\C100P61ThinF_IMG...</td>\n      <td>0</td>\n      <td>parasitized</td>\n      <td>1</td>\n      <td>uninfected</td>\n      <td>0</td>\n      <td>parasitized</td>\n      <td>True</td>\n      <td>0.383567</td>\n      <td>0.616433</td>\n    </tr>\n    <tr>\n      <th>2</th>\n      <td>D:\\dataset\\sr\\val\\parasitized\\C100P61ThinF_IMG...</td>\n      <td>0</td>\n      <td>parasitized</td>\n      <td>0</td>\n      <td>parasitized</td>\n      <td>1</td>\n      <td>uninfected</td>\n      <td>True</td>\n      <td>0.780675</td>\n      <td>0.219325</td>\n    </tr>\n    <tr>\n      <th>3</th>\n      <td>D:\\dataset\\sr\\val\\parasitized\\C100P61ThinF_IMG...</td>\n      <td>0</td>\n      <td>parasitized</td>\n      <td>0</td>\n      <td>parasitized</td>\n      <td>1</td>\n      <td>uninfected</td>\n      <td>True</td>\n      <td>0.994083</td>\n      <td>0.005918</td>\n    </tr>\n    <tr>\n      <th>4</th>\n      <td>D:\\dataset\\sr\\val\\parasitized\\C100P61ThinF_IMG...</td>\n      <td>0</td>\n      <td>parasitized</td>\n      <td>0</td>\n      <td>parasitized</td>\n      <td>1</td>\n      <td>uninfected</td>\n      <td>True</td>\n      <td>0.997244</td>\n      <td>0.002756</td>\n    </tr>\n    <tr>\n      <th>...</th>\n      <td>...</td>\n      <td>...</td>\n      <td>...</td>\n      <td>...</td>\n      <td>...</td>\n      <td>...</td>\n      <td>...</td>\n      <td>...</td>\n      <td>...</td>\n      <td>...</td>\n    </tr>\n    <tr>\n      <th>5507</th>\n      <td>D:\\dataset\\sr\\val\\uninfected\\C99P60ThinF_IMG_2...</td>\n      <td>1</td>\n      <td>uninfected</td>\n      <td>1</td>\n      <td>uninfected</td>\n      <td>0</td>\n      <td>parasitized</td>\n      <td>True</td>\n      <td>0.078119</td>\n      <td>0.921881</td>\n    </tr>\n    <tr>\n      <th>5508</th>\n      <td>D:\\dataset\\sr\\val\\uninfected\\C99P60ThinF_IMG_2...</td>\n      <td>1</td>\n      <td>uninfected</td>\n      <td>0</td>\n      <td>parasitized</td>\n      <td>1</td>\n      <td>uninfected</td>\n      <td>True</td>\n      <td>0.636197</td>\n      <td>0.363803</td>\n    </tr>\n    <tr>\n      <th>5509</th>\n      <td>D:\\dataset\\sr\\val\\uninfected\\C99P60ThinF_IMG_2...</td>\n      <td>1</td>\n      <td>uninfected</td>\n      <td>1</td>\n      <td>uninfected</td>\n      <td>0</td>\n      <td>parasitized</td>\n      <td>True</td>\n      <td>0.453985</td>\n      <td>0.546015</td>\n    </tr>\n    <tr>\n      <th>5510</th>\n      <td>D:\\dataset\\sr\\val\\uninfected\\C99P60ThinF_IMG_2...</td>\n      <td>1</td>\n      <td>uninfected</td>\n      <td>1</td>\n      <td>uninfected</td>\n      <td>0</td>\n      <td>parasitized</td>\n      <td>True</td>\n      <td>0.174118</td>\n      <td>0.825882</td>\n    </tr>\n    <tr>\n      <th>5511</th>\n      <td>D:\\dataset\\sr\\val\\uninfected\\C99P60ThinF_IMG_2...</td>\n      <td>1</td>\n      <td>uninfected</td>\n      <td>0</td>\n      <td>parasitized</td>\n      <td>1</td>\n      <td>uninfected</td>\n      <td>True</td>\n      <td>0.855853</td>\n      <td>0.144147</td>\n    </tr>\n  </tbody>\n</table>\n<p>5512 rows × 10 columns</p>\n</div>"
     },
     "execution_count": 4,
     "metadata": {},
     "output_type": "execute_result"
    }
   ],
   "source": [
    "df"
   ]
  },
  {
   "cell_type": "markdown",
   "id": "9a8b96c3-1d5c-41af-9592-44b839b3f4e4",
   "metadata": {},
   "source": [
    "## 准确率"
   ]
  },
  {
   "cell_type": "code",
   "execution_count": 5,
   "id": "c9886ac3-4640-4ff3-8884-2206af037fac",
   "metadata": {
    "ExecuteTime": {
     "end_time": "2024-04-12T15:33:32.818351300Z",
     "start_time": "2024-04-12T15:33:32.794254400Z"
    }
   },
   "outputs": [
    {
     "data": {
      "text/plain": "0.9023947750362845"
     },
     "execution_count": 5,
     "metadata": {},
     "output_type": "execute_result"
    }
   ],
   "source": [
    "sum(df['标注类别名称'] == df['top-1-预测名称']) / len(df)"
   ]
  },
  {
   "cell_type": "markdown",
   "id": "bf691ba6-ce59-4dcc-9305-109fe5dcb499",
   "metadata": {},
   "source": [
    "## top-n准确率"
   ]
  },
  {
   "cell_type": "code",
   "execution_count": 6,
   "id": "fedf6c0d-c06b-4a04-8a07-9d4c6f937338",
   "metadata": {
    "ExecuteTime": {
     "end_time": "2024-04-12T15:33:35.553311100Z",
     "start_time": "2024-04-12T15:33:35.535883700Z"
    }
   },
   "outputs": [
    {
     "data": {
      "text/plain": "1.0"
     },
     "execution_count": 6,
     "metadata": {},
     "output_type": "execute_result"
    }
   ],
   "source": [
    "sum(df['top-n预测正确']) / len(df)"
   ]
  },
  {
   "cell_type": "markdown",
   "id": "8a3de26a-3e66-404b-b64d-111835a7c0de",
   "metadata": {},
   "source": [
    "## 各类别其它评估指标\n",
    "\n",
    "公众号 人工智能小技巧 回复 混淆矩阵\n",
    "\n",
    "看子豪兄视频和笔记讲解"
   ]
  },
  {
   "cell_type": "code",
   "execution_count": 7,
   "id": "d1e22035-9163-427f-b620-d3bc079f8959",
   "metadata": {
    "ExecuteTime": {
     "end_time": "2024-04-12T15:33:39.471304400Z",
     "start_time": "2024-04-12T15:33:37.878693300Z"
    }
   },
   "outputs": [],
   "source": [
    "from sklearn.metrics import classification_report"
   ]
  },
  {
   "cell_type": "code",
   "execution_count": 8,
   "id": "18d3f8e3-8e57-42c0-97d2-62f1e33b5739",
   "metadata": {
    "ExecuteTime": {
     "end_time": "2024-04-12T15:33:39.606065200Z",
     "start_time": "2024-04-12T15:33:39.473336300Z"
    }
   },
   "outputs": [
    {
     "name": "stdout",
     "output_type": "stream",
     "text": [
      "              precision    recall  f1-score   support\n",
      "\n",
      " parasitized       0.92      0.88      0.90      2756\n",
      "  uninfected       0.89      0.92      0.90      2756\n",
      "\n",
      "    accuracy                           0.90      5512\n",
      "   macro avg       0.90      0.90      0.90      5512\n",
      "weighted avg       0.90      0.90      0.90      5512\n"
     ]
    }
   ],
   "source": [
    "print(classification_report(df['标注类别名称'], df['top-1-预测名称'], target_names=classes))"
   ]
  },
  {
   "cell_type": "markdown",
   "id": "df4db2a0-b1b2-4cff-92e5-fc097336b2ae",
   "metadata": {},
   "source": [
    "macro avg 宏平均：直接将每一类的评估指标求和取平均（算数平均值）\n",
    "\n",
    "weighted avg 加权平均：按样本数量（support）加权计算评估指标的平均值"
   ]
  },
  {
   "cell_type": "code",
   "execution_count": 9,
   "id": "64e2187b-a236-4518-a439-562e565739c5",
   "metadata": {
    "ExecuteTime": {
     "end_time": "2024-04-12T15:33:41.147026300Z",
     "start_time": "2024-04-12T15:33:41.015880700Z"
    }
   },
   "outputs": [],
   "source": [
    "report = classification_report(df['标注类别名称'], df['top-1-预测名称'], target_names=classes, output_dict=True)\n",
    "del report['accuracy']\n",
    "df_report = pd.DataFrame(report).transpose()"
   ]
  },
  {
   "cell_type": "code",
   "execution_count": 10,
   "id": "14266155-da0f-4c5d-9366-4273222fe600",
   "metadata": {
    "ExecuteTime": {
     "end_time": "2024-04-12T15:33:42.623402100Z",
     "start_time": "2024-04-12T15:33:42.589164400Z"
    }
   },
   "outputs": [
    {
     "data": {
      "text/plain": "              precision    recall  f1-score  support\nparasitized    0.919440  0.882075  0.900370   2756.0\nuninfected     0.886681  0.922714  0.904339   2756.0\nmacro avg      0.903060  0.902395  0.902354   5512.0\nweighted avg   0.903060  0.902395  0.902354   5512.0",
      "text/html": "<div>\n<style scoped>\n    .dataframe tbody tr th:only-of-type {\n        vertical-align: middle;\n    }\n\n    .dataframe tbody tr th {\n        vertical-align: top;\n    }\n\n    .dataframe thead th {\n        text-align: right;\n    }\n</style>\n<table border=\"1\" class=\"dataframe\">\n  <thead>\n    <tr style=\"text-align: right;\">\n      <th></th>\n      <th>precision</th>\n      <th>recall</th>\n      <th>f1-score</th>\n      <th>support</th>\n    </tr>\n  </thead>\n  <tbody>\n    <tr>\n      <th>parasitized</th>\n      <td>0.919440</td>\n      <td>0.882075</td>\n      <td>0.900370</td>\n      <td>2756.0</td>\n    </tr>\n    <tr>\n      <th>uninfected</th>\n      <td>0.886681</td>\n      <td>0.922714</td>\n      <td>0.904339</td>\n      <td>2756.0</td>\n    </tr>\n    <tr>\n      <th>macro avg</th>\n      <td>0.903060</td>\n      <td>0.902395</td>\n      <td>0.902354</td>\n      <td>5512.0</td>\n    </tr>\n    <tr>\n      <th>weighted avg</th>\n      <td>0.903060</td>\n      <td>0.902395</td>\n      <td>0.902354</td>\n      <td>5512.0</td>\n    </tr>\n  </tbody>\n</table>\n</div>"
     },
     "execution_count": 10,
     "metadata": {},
     "output_type": "execute_result"
    }
   ],
   "source": [
    "df_report"
   ]
  },
  {
   "cell_type": "markdown",
   "id": "a65da7a6-f1ba-4f86-8a89-11d87529f6c7",
   "metadata": {},
   "source": [
    "## 补充：各类别准确率（其实就是recall）"
   ]
  },
  {
   "cell_type": "code",
   "execution_count": 11,
   "id": "02d63458-49eb-4d8a-a264-2e09bb61bc6b",
   "metadata": {
    "ExecuteTime": {
     "end_time": "2024-04-12T15:33:44.597425900Z",
     "start_time": "2024-04-12T15:33:44.570164400Z"
    }
   },
   "outputs": [
    {
     "name": "stderr",
     "output_type": "stream",
     "text": [
      "100%|██████████| 2/2 [00:00<00:00, 357.74it/s]\n"
     ]
    }
   ],
   "source": [
    "accuracy_list = []\n",
    "for fruit in tqdm(classes):\n",
    "    df_temp = df[df['标注类别名称']==fruit]\n",
    "    accuracy = sum(df_temp['标注类别名称'] == df_temp['top-1-预测名称']) / len(df_temp)\n",
    "    accuracy_list.append(accuracy)"
   ]
  },
  {
   "cell_type": "code",
   "execution_count": 12,
   "id": "24ca5a23-b6f3-4ce3-84af-262fa5d10edb",
   "metadata": {
    "ExecuteTime": {
     "end_time": "2024-04-12T15:33:45.875608300Z",
     "start_time": "2024-04-12T15:33:45.854812500Z"
    }
   },
   "outputs": [],
   "source": [
    "# 计算 宏平均准确率 和 加权平均准确率\n",
    "acc_macro = np.mean(accuracy_list)\n",
    "acc_weighted = sum(accuracy_list * df_report.iloc[:-2]['support'] / len(df))\n",
    "\n",
    "accuracy_list.append(acc_macro)\n",
    "accuracy_list.append(acc_weighted)\n",
    "\n",
    "df_report['accuracy'] = accuracy_list"
   ]
  },
  {
   "cell_type": "code",
   "execution_count": 13,
   "id": "6f4b0b49-a8f2-4647-bc68-22f83ce29cc2",
   "metadata": {
    "ExecuteTime": {
     "end_time": "2024-04-12T15:33:47.955488Z",
     "start_time": "2024-04-12T15:33:47.919586800Z"
    }
   },
   "outputs": [
    {
     "data": {
      "text/plain": "              precision    recall  f1-score  support  accuracy\nparasitized    0.919440  0.882075  0.900370   2756.0  0.882075\nuninfected     0.886681  0.922714  0.904339   2756.0  0.922714\nmacro avg      0.903060  0.902395  0.902354   5512.0  0.902395\nweighted avg   0.903060  0.902395  0.902354   5512.0  0.902395",
      "text/html": "<div>\n<style scoped>\n    .dataframe tbody tr th:only-of-type {\n        vertical-align: middle;\n    }\n\n    .dataframe tbody tr th {\n        vertical-align: top;\n    }\n\n    .dataframe thead th {\n        text-align: right;\n    }\n</style>\n<table border=\"1\" class=\"dataframe\">\n  <thead>\n    <tr style=\"text-align: right;\">\n      <th></th>\n      <th>precision</th>\n      <th>recall</th>\n      <th>f1-score</th>\n      <th>support</th>\n      <th>accuracy</th>\n    </tr>\n  </thead>\n  <tbody>\n    <tr>\n      <th>parasitized</th>\n      <td>0.919440</td>\n      <td>0.882075</td>\n      <td>0.900370</td>\n      <td>2756.0</td>\n      <td>0.882075</td>\n    </tr>\n    <tr>\n      <th>uninfected</th>\n      <td>0.886681</td>\n      <td>0.922714</td>\n      <td>0.904339</td>\n      <td>2756.0</td>\n      <td>0.922714</td>\n    </tr>\n    <tr>\n      <th>macro avg</th>\n      <td>0.903060</td>\n      <td>0.902395</td>\n      <td>0.902354</td>\n      <td>5512.0</td>\n      <td>0.902395</td>\n    </tr>\n    <tr>\n      <th>weighted avg</th>\n      <td>0.903060</td>\n      <td>0.902395</td>\n      <td>0.902354</td>\n      <td>5512.0</td>\n      <td>0.902395</td>\n    </tr>\n  </tbody>\n</table>\n</div>"
     },
     "execution_count": 13,
     "metadata": {},
     "output_type": "execute_result"
    }
   ],
   "source": [
    "df_report"
   ]
  },
  {
   "cell_type": "code",
   "execution_count": 14,
   "id": "123e15a8-a48f-4cf6-b1de-0bf1ab673962",
   "metadata": {
    "ExecuteTime": {
     "end_time": "2024-04-12T15:33:49.302099400Z",
     "start_time": "2024-04-12T15:33:49.281435300Z"
    }
   },
   "outputs": [],
   "source": [
    "df_report.to_csv('各类别准确率评估指标.csv', index_label='类别')"
   ]
  },
  {
   "cell_type": "code",
   "execution_count": null,
   "id": "386536ae-7c69-491d-832c-d0b2aa8f64f0",
   "metadata": {},
   "outputs": [],
   "source": []
  }
 ],
 "metadata": {
  "kernelspec": {
   "display_name": "Python 3 (ipykernel)",
   "language": "python",
   "name": "python3"
  },
  "language_info": {
   "codemirror_mode": {
    "name": "ipython",
    "version": 3
   },
   "file_extension": ".py",
   "mimetype": "text/x-python",
   "name": "python",
   "nbconvert_exporter": "python",
   "pygments_lexer": "ipython3",
   "version": "3.7.10"
  }
 },
 "nbformat": 4,
 "nbformat_minor": 5
}
