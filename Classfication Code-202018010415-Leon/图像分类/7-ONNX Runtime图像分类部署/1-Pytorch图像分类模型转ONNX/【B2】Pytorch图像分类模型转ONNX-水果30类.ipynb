{
 "cells": [
  {
   "cell_type": "markdown",
   "id": "1c02c91b-e604-4778-b626-b06b350891de",
   "metadata": {},
   "source": [
    "# Pytorch图像分类模型转ONNX-水果30类\n",
    "\n",
    "同济子豪兄 https://space.bilibili.com/1900783\n",
    "\n",
    "代码运行云GPU平台：公众号 人工智能小技巧 回复 gpu\n",
    "\n",
    "2022-8-22 2023-5-8"
   ]
  },
  {
   "cell_type": "markdown",
   "id": "aab08f57-14e2-44bc-8562-51c7be68f074",
   "metadata": {},
   "source": [
    "## 导入工具包"
   ]
  },
  {
   "cell_type": "code",
   "execution_count": 1,
   "id": "f9baf99e-744e-462d-94b4-f3653cb743ca",
   "metadata": {
    "ExecuteTime": {
     "end_time": "2024-04-10T13:53:08.168210100Z",
     "start_time": "2024-04-10T13:53:03.013258800Z"
    }
   },
   "outputs": [
    {
     "name": "stderr",
     "output_type": "stream",
     "text": [
      "D:\\Software\\anaconda\\envs\\Pytorch\\lib\\site-packages\\torchvision\\io\\image.py:13: UserWarning: Failed to load image Python extension: '[WinError 127] The specified procedure could not be found'If you don't plan on using image functionality from `torchvision.io`, you can ignore this warning. Otherwise, there might be something wrong with your environment. Did you have `libjpeg` or `libpng` installed before building `torchvision` from source?\n",
      "  warn(\n"
     ]
    },
    {
     "name": "stdout",
     "output_type": "stream",
     "text": [
      "device cuda:0\n"
     ]
    }
   ],
   "source": [
    "import torch\n",
    "from torchvision import models\n",
    "\n",
    "# 有 GPU 就用 GPU，没有就用 CPU\n",
    "device = torch.device('cuda:0' if torch.cuda.is_available() else 'cpu')\n",
    "print('device', device)"
   ]
  },
  {
   "cell_type": "markdown",
   "id": "1a6eaad8-2a74-49fb-9021-0b5e950d3393",
   "metadata": {},
   "source": [
    "## 下载自己训练得到的30类水果图像分类Pytorch模型权重文件"
   ]
  },
  {
   "cell_type": "code",
   "execution_count": 2,
   "id": "b74342f5-10d7-4910-92b0-8d013a8bd965",
   "metadata": {},
   "outputs": [
    {
     "name": "stdout",
     "output_type": "stream",
     "text": [
      "--2023-05-08 09:59:48--  https://zihao-openmmlab.obs.cn-east-3.myhuaweicloud.com/20220716-mmclassification/checkpoints/fruit30_pytorch_20220814.pth\n",
      "正在连接 172.16.0.13:5848... 已连接。\n",
      "已发出 Proxy 请求，正在等待回应... 200 OK\n",
      "长度： 44854477 (43M) [binary/octet-stream]\n",
      "正在保存至: “checkpoint/fruit30_pytorch_20220814.pth”\n",
      "\n",
      "fruit30_pytorch_202 100%[===================>]  42.78M  23.1MB/s    用时 1.9s    \n",
      "\n",
      "2023-05-08 09:59:51 (23.1 MB/s) - 已保存 “checkpoint/fruit30_pytorch_20220814.pth” [44854477/44854477])\n"
     ]
    }
   ],
   "source": [
    "!wget https://zihao-openmmlab.obs.cn-east-3.myhuaweicloud.com/20220716-mmclassification/checkpoints/fruit30_pytorch_20220814.pth -P checkpoint\n"
   ]
  },
  {
   "cell_type": "markdown",
   "id": "83ca3195-6800-4c89-98a7-3fb0c44ec329",
   "metadata": {
    "tags": []
   },
   "source": [
    "## 导入训练好的模型"
   ]
  },
  {
   "cell_type": "code",
   "execution_count": 2,
   "id": "04824a4e-29ef-4048-af6e-e2442e388b69",
   "metadata": {
    "ExecuteTime": {
     "end_time": "2024-04-10T13:53:34.087086600Z",
     "start_time": "2024-04-10T13:53:33.403496600Z"
    }
   },
   "outputs": [],
   "source": [
    "model = torch.load(r'E:\\MV-Code-202018010103-Lucy\\main\\Train_Custom_Dataset\\图像分类\\3-【Pytorch】迁移学习训练自己的图像分类模型\\checkpoint\\best-1.000.pth')\n",
    "model = model.eval().to(device)"
   ]
  },
  {
   "cell_type": "markdown",
   "id": "da4f311a-9545-47f4-8165-2a98a129f75e",
   "metadata": {},
   "source": [
    "## 构造一个输入图像Tensor"
   ]
  },
  {
   "cell_type": "code",
   "execution_count": 3,
   "id": "f3e41561-1d86-4f1d-b98d-c19373635bd8",
   "metadata": {
    "ExecuteTime": {
     "end_time": "2024-04-10T13:53:35.843369800Z",
     "start_time": "2024-04-10T13:53:35.799115400Z"
    }
   },
   "outputs": [],
   "source": [
    "x = torch.randn(1, 3, 256, 256).to(device)"
   ]
  },
  {
   "cell_type": "markdown",
   "id": "27268055-1442-4e47-9f87-3ffee13256e1",
   "metadata": {},
   "source": [
    "## 输入Pytorch模型推理预测，获得1000个类别的预测结果"
   ]
  },
  {
   "cell_type": "code",
   "execution_count": 4,
   "id": "6fa9b2ec-ec96-419e-a289-5615ea57b00b",
   "metadata": {
    "ExecuteTime": {
     "end_time": "2024-04-10T13:53:38.775132600Z",
     "start_time": "2024-04-10T13:53:37.830769900Z"
    }
   },
   "outputs": [],
   "source": [
    "output = model(x)"
   ]
  },
  {
   "cell_type": "code",
   "execution_count": 5,
   "id": "bb5ffda8-26af-4d9b-8770-3de9de27958c",
   "metadata": {
    "ExecuteTime": {
     "end_time": "2024-04-10T13:53:39.265533400Z",
     "start_time": "2024-04-10T13:53:39.212330500Z"
    }
   },
   "outputs": [
    {
     "data": {
      "text/plain": "torch.Size([1, 2])"
     },
     "execution_count": 5,
     "metadata": {},
     "output_type": "execute_result"
    }
   ],
   "source": [
    "output.shape"
   ]
  },
  {
   "cell_type": "markdown",
   "id": "8b8bb112-e3d4-4abe-ab51-b09ed29ef682",
   "metadata": {},
   "source": [
    "## Pytorch模型转ONNX模型"
   ]
  },
  {
   "cell_type": "code",
   "execution_count": 6,
   "id": "4adf4e24-93f5-4467-b011-e69c45d45bd3",
   "metadata": {
    "ExecuteTime": {
     "end_time": "2024-04-10T13:53:46.003353900Z",
     "start_time": "2024-04-10T13:53:43.629371500Z"
    }
   },
   "outputs": [],
   "source": [
    "x = torch.randn(1, 3, 256, 256).to(device)\n",
    "\n",
    "with torch.no_grad():\n",
    "    torch.onnx.export(\n",
    "        model,                   # 要转换的模型\n",
    "        x,                       # 模型的任意一组输入\n",
    "        'resnet18_fruit30.onnx', # 导出的 ONNX 文件名\n",
    "        opset_version=11,        # ONNX 算子集版本\n",
    "        input_names=['input'],   # 输入 Tensor 的名称（自己起名字）\n",
    "        output_names=['output']  # 输出 Tensor 的名称（自己起名字）\n",
    "    ) "
   ]
  },
  {
   "cell_type": "markdown",
   "id": "9f30be68-1c30-43cd-be36-541b3035d933",
   "metadata": {},
   "source": [
    "## 验证onnx模型导出成功"
   ]
  },
  {
   "cell_type": "code",
   "execution_count": 7,
   "id": "067ce090-879a-4b05-af90-c7da47d84cc2",
   "metadata": {
    "ExecuteTime": {
     "end_time": "2024-04-10T13:53:54.529249800Z",
     "start_time": "2024-04-10T13:53:54.435569Z"
    }
   },
   "outputs": [
    {
     "name": "stdout",
     "output_type": "stream",
     "text": [
      "无报错，onnx模型载入成功\n"
     ]
    }
   ],
   "source": [
    "import onnx\n",
    "\n",
    "# 读取 ONNX 模型\n",
    "onnx_model = onnx.load('resnet18_fruit30.onnx')\n",
    "\n",
    "# 检查模型格式是否正确\n",
    "onnx.checker.check_model(onnx_model)\n",
    "\n",
    "print('无报错，onnx模型载入成功')"
   ]
  },
  {
   "cell_type": "markdown",
   "id": "9fa98064-6ac5-4072-a331-8513b3e29a03",
   "metadata": {},
   "source": [
    "## 以可读的形式打印计算图"
   ]
  },
  {
   "cell_type": "code",
   "execution_count": 8,
   "id": "333c59c1-6118-44e1-b892-e0a58d47cff1",
   "metadata": {
    "ExecuteTime": {
     "end_time": "2024-04-10T13:53:57.745128200Z",
     "start_time": "2024-04-10T13:53:57.706298600Z"
    }
   },
   "outputs": [
    {
     "name": "stdout",
     "output_type": "stream",
     "text": [
      "graph main_graph (\n",
      "  %input[FLOAT, 1x3x256x256]\n",
      ") initializers (\n",
      "  %fc.weight[FLOAT, 2x912]\n",
      "  %fc.bias[FLOAT, 2]\n",
      "  %onnx::Conv_552[FLOAT, 32x3x3x3]\n",
      "  %onnx::Conv_553[FLOAT, 32]\n",
      "  %onnx::Conv_555[FLOAT, 72x32x1x1]\n",
      "  %onnx::Conv_556[FLOAT, 72]\n",
      "  %onnx::Conv_558[FLOAT, 72x32x1x1]\n",
      "  %onnx::Conv_559[FLOAT, 72]\n",
      "  %onnx::Conv_561[FLOAT, 72x24x3x3]\n",
      "  %onnx::Conv_562[FLOAT, 72]\n",
      "  %onnx::Conv_564[FLOAT, 72x72x1x1]\n",
      "  %onnx::Conv_565[FLOAT, 72]\n",
      "  %onnx::Conv_567[FLOAT, 72x72x1x1]\n",
      "  %onnx::Conv_568[FLOAT, 72]\n",
      "  %onnx::Conv_570[FLOAT, 72x24x3x3]\n",
      "  %onnx::Conv_571[FLOAT, 72]\n",
      "  %onnx::Conv_573[FLOAT, 72x72x1x1]\n",
      "  %onnx::Conv_574[FLOAT, 72]\n",
      "  %onnx::Conv_576[FLOAT, 168x72x1x1]\n",
      "  %onnx::Conv_577[FLOAT, 168]\n",
      "  %onnx::Conv_579[FLOAT, 168x72x1x1]\n",
      "  %onnx::Conv_580[FLOAT, 168]\n",
      "  %onnx::Conv_582[FLOAT, 168x24x3x3]\n",
      "  %onnx::Conv_583[FLOAT, 168]\n",
      "  %onnx::Conv_585[FLOAT, 168x168x1x1]\n",
      "  %onnx::Conv_586[FLOAT, 168]\n",
      "  %onnx::Conv_588[FLOAT, 168x168x1x1]\n",
      "  %onnx::Conv_589[FLOAT, 168]\n",
      "  %onnx::Conv_591[FLOAT, 168x24x3x3]\n",
      "  %onnx::Conv_592[FLOAT, 168]\n",
      "  %onnx::Conv_594[FLOAT, 168x168x1x1]\n",
      "  %onnx::Conv_595[FLOAT, 168]\n",
      "  %onnx::Conv_597[FLOAT, 168x168x1x1]\n",
      "  %onnx::Conv_598[FLOAT, 168]\n",
      "  %onnx::Conv_600[FLOAT, 168x24x3x3]\n",
      "  %onnx::Conv_601[FLOAT, 168]\n",
      "  %onnx::Conv_603[FLOAT, 168x168x1x1]\n",
      "  %onnx::Conv_604[FLOAT, 168]\n",
      "  %onnx::Conv_606[FLOAT, 168x168x1x1]\n",
      "  %onnx::Conv_607[FLOAT, 168]\n",
      "  %onnx::Conv_609[FLOAT, 168x24x3x3]\n",
      "  %onnx::Conv_610[FLOAT, 168]\n",
      "  %onnx::Conv_612[FLOAT, 168x168x1x1]\n",
      "  %onnx::Conv_613[FLOAT, 168]\n",
      "  %onnx::Conv_615[FLOAT, 408x168x1x1]\n",
      "  %onnx::Conv_616[FLOAT, 408]\n",
      "  %onnx::Conv_618[FLOAT, 408x168x1x1]\n",
      "  %onnx::Conv_619[FLOAT, 408]\n",
      "  %onnx::Conv_621[FLOAT, 408x24x3x3]\n",
      "  %onnx::Conv_622[FLOAT, 408]\n",
      "  %onnx::Conv_624[FLOAT, 408x408x1x1]\n",
      "  %onnx::Conv_625[FLOAT, 408]\n",
      "  %onnx::Conv_627[FLOAT, 408x408x1x1]\n",
      "  %onnx::Conv_628[FLOAT, 408]\n",
      "  %onnx::Conv_630[FLOAT, 408x24x3x3]\n",
      "  %onnx::Conv_631[FLOAT, 408]\n",
      "  %onnx::Conv_633[FLOAT, 408x408x1x1]\n",
      "  %onnx::Conv_634[FLOAT, 408]\n",
      "  %onnx::Conv_636[FLOAT, 408x408x1x1]\n",
      "  %onnx::Conv_637[FLOAT, 408]\n",
      "  %onnx::Conv_639[FLOAT, 408x24x3x3]\n",
      "  %onnx::Conv_640[FLOAT, 408]\n",
      "  %onnx::Conv_642[FLOAT, 408x408x1x1]\n",
      "  %onnx::Conv_643[FLOAT, 408]\n",
      "  %onnx::Conv_645[FLOAT, 408x408x1x1]\n",
      "  %onnx::Conv_646[FLOAT, 408]\n",
      "  %onnx::Conv_648[FLOAT, 408x24x3x3]\n",
      "  %onnx::Conv_649[FLOAT, 408]\n",
      "  %onnx::Conv_651[FLOAT, 408x408x1x1]\n",
      "  %onnx::Conv_652[FLOAT, 408]\n",
      "  %onnx::Conv_654[FLOAT, 408x408x1x1]\n",
      "  %onnx::Conv_655[FLOAT, 408]\n",
      "  %onnx::Conv_657[FLOAT, 408x24x3x3]\n",
      "  %onnx::Conv_658[FLOAT, 408]\n",
      "  %onnx::Conv_660[FLOAT, 408x408x1x1]\n",
      "  %onnx::Conv_661[FLOAT, 408]\n",
      "  %onnx::Conv_663[FLOAT, 408x408x1x1]\n",
      "  %onnx::Conv_664[FLOAT, 408]\n",
      "  %onnx::Conv_666[FLOAT, 408x24x3x3]\n",
      "  %onnx::Conv_667[FLOAT, 408]\n",
      "  %onnx::Conv_669[FLOAT, 408x408x1x1]\n",
      "  %onnx::Conv_670[FLOAT, 408]\n",
      "  %onnx::Conv_672[FLOAT, 408x408x1x1]\n",
      "  %onnx::Conv_673[FLOAT, 408]\n",
      "  %onnx::Conv_675[FLOAT, 408x24x3x3]\n",
      "  %onnx::Conv_676[FLOAT, 408]\n",
      "  %onnx::Conv_678[FLOAT, 408x408x1x1]\n",
      "  %onnx::Conv_679[FLOAT, 408]\n",
      "  %onnx::Conv_681[FLOAT, 408x408x1x1]\n",
      "  %onnx::Conv_682[FLOAT, 408]\n",
      "  %onnx::Conv_684[FLOAT, 408x24x3x3]\n",
      "  %onnx::Conv_685[FLOAT, 408]\n",
      "  %onnx::Conv_687[FLOAT, 408x408x1x1]\n",
      "  %onnx::Conv_688[FLOAT, 408]\n",
      "  %onnx::Conv_690[FLOAT, 408x408x1x1]\n",
      "  %onnx::Conv_691[FLOAT, 408]\n",
      "  %onnx::Conv_693[FLOAT, 408x24x3x3]\n",
      "  %onnx::Conv_694[FLOAT, 408]\n",
      "  %onnx::Conv_696[FLOAT, 408x408x1x1]\n",
      "  %onnx::Conv_697[FLOAT, 408]\n",
      "  %onnx::Conv_699[FLOAT, 408x408x1x1]\n",
      "  %onnx::Conv_700[FLOAT, 408]\n",
      "  %onnx::Conv_702[FLOAT, 408x24x3x3]\n",
      "  %onnx::Conv_703[FLOAT, 408]\n",
      "  %onnx::Conv_705[FLOAT, 408x408x1x1]\n",
      "  %onnx::Conv_706[FLOAT, 408]\n",
      "  %onnx::Conv_708[FLOAT, 912x408x1x1]\n",
      "  %onnx::Conv_709[FLOAT, 912]\n",
      "  %onnx::Conv_711[FLOAT, 912x408x1x1]\n",
      "  %onnx::Conv_712[FLOAT, 912]\n",
      "  %onnx::Conv_714[FLOAT, 912x24x3x3]\n",
      "  %onnx::Conv_715[FLOAT, 912]\n",
      "  %onnx::Conv_717[FLOAT, 912x912x1x1]\n",
      "  %onnx::Conv_718[FLOAT, 912]\n",
      "  %onnx::Conv_720[FLOAT, 912x912x1x1]\n",
      "  %onnx::Conv_721[FLOAT, 912]\n",
      "  %onnx::Conv_723[FLOAT, 912x24x3x3]\n",
      "  %onnx::Conv_724[FLOAT, 912]\n",
      "  %onnx::Conv_726[FLOAT, 912x912x1x1]\n",
      "  %onnx::Conv_727[FLOAT, 912]\n",
      ") {\n",
      "  %/stem/stem.0/Conv_output_0 = Conv[dilations = [1, 1], group = 1, kernel_shape = [3, 3], pads = [1, 1, 1, 1], strides = [2, 2]](%input, %onnx::Conv_552, %onnx::Conv_553)\n",
      "  %/stem/stem.2/Relu_output_0 = Relu(%/stem/stem.0/Conv_output_0)\n",
      "  %/trunk_output/block1/block1-0/proj/proj.0/Conv_output_0 = Conv[dilations = [1, 1], group = 1, kernel_shape = [1, 1], pads = [0, 0, 0, 0], strides = [2, 2]](%/stem/stem.2/Relu_output_0, %onnx::Conv_555, %onnx::Conv_556)\n",
      "  %/trunk_output/block1/block1-0/f/a/a.0/Conv_output_0 = Conv[dilations = [1, 1], group = 1, kernel_shape = [1, 1], pads = [0, 0, 0, 0], strides = [1, 1]](%/stem/stem.2/Relu_output_0, %onnx::Conv_558, %onnx::Conv_559)\n",
      "  %/trunk_output/block1/block1-0/f/a/a.2/Relu_output_0 = Relu(%/trunk_output/block1/block1-0/f/a/a.0/Conv_output_0)\n",
      "  %/trunk_output/block1/block1-0/f/b/b.0/Conv_output_0 = Conv[dilations = [1, 1], group = 3, kernel_shape = [3, 3], pads = [1, 1, 1, 1], strides = [2, 2]](%/trunk_output/block1/block1-0/f/a/a.2/Relu_output_0, %onnx::Conv_561, %onnx::Conv_562)\n",
      "  %/trunk_output/block1/block1-0/f/b/b.2/Relu_output_0 = Relu(%/trunk_output/block1/block1-0/f/b/b.0/Conv_output_0)\n",
      "  %/trunk_output/block1/block1-0/f/c/c.0/Conv_output_0 = Conv[dilations = [1, 1], group = 1, kernel_shape = [1, 1], pads = [0, 0, 0, 0], strides = [1, 1]](%/trunk_output/block1/block1-0/f/b/b.2/Relu_output_0, %onnx::Conv_564, %onnx::Conv_565)\n",
      "  %/trunk_output/block1/block1-0/Add_output_0 = Add(%/trunk_output/block1/block1-0/proj/proj.0/Conv_output_0, %/trunk_output/block1/block1-0/f/c/c.0/Conv_output_0)\n",
      "  %/trunk_output/block1/block1-0/activation/Relu_output_0 = Relu(%/trunk_output/block1/block1-0/Add_output_0)\n",
      "  %/trunk_output/block1/block1-1/f/a/a.0/Conv_output_0 = Conv[dilations = [1, 1], group = 1, kernel_shape = [1, 1], pads = [0, 0, 0, 0], strides = [1, 1]](%/trunk_output/block1/block1-0/activation/Relu_output_0, %onnx::Conv_567, %onnx::Conv_568)\n",
      "  %/trunk_output/block1/block1-1/f/a/a.2/Relu_output_0 = Relu(%/trunk_output/block1/block1-1/f/a/a.0/Conv_output_0)\n",
      "  %/trunk_output/block1/block1-1/f/b/b.0/Conv_output_0 = Conv[dilations = [1, 1], group = 3, kernel_shape = [3, 3], pads = [1, 1, 1, 1], strides = [1, 1]](%/trunk_output/block1/block1-1/f/a/a.2/Relu_output_0, %onnx::Conv_570, %onnx::Conv_571)\n",
      "  %/trunk_output/block1/block1-1/f/b/b.2/Relu_output_0 = Relu(%/trunk_output/block1/block1-1/f/b/b.0/Conv_output_0)\n",
      "  %/trunk_output/block1/block1-1/f/c/c.0/Conv_output_0 = Conv[dilations = [1, 1], group = 1, kernel_shape = [1, 1], pads = [0, 0, 0, 0], strides = [1, 1]](%/trunk_output/block1/block1-1/f/b/b.2/Relu_output_0, %onnx::Conv_573, %onnx::Conv_574)\n",
      "  %/trunk_output/block1/block1-1/Add_output_0 = Add(%/trunk_output/block1/block1-0/activation/Relu_output_0, %/trunk_output/block1/block1-1/f/c/c.0/Conv_output_0)\n",
      "  %/trunk_output/block1/block1-1/activation/Relu_output_0 = Relu(%/trunk_output/block1/block1-1/Add_output_0)\n",
      "  %/trunk_output/block2/block2-0/proj/proj.0/Conv_output_0 = Conv[dilations = [1, 1], group = 1, kernel_shape = [1, 1], pads = [0, 0, 0, 0], strides = [2, 2]](%/trunk_output/block1/block1-1/activation/Relu_output_0, %onnx::Conv_576, %onnx::Conv_577)\n",
      "  %/trunk_output/block2/block2-0/f/a/a.0/Conv_output_0 = Conv[dilations = [1, 1], group = 1, kernel_shape = [1, 1], pads = [0, 0, 0, 0], strides = [1, 1]](%/trunk_output/block1/block1-1/activation/Relu_output_0, %onnx::Conv_579, %onnx::Conv_580)\n",
      "  %/trunk_output/block2/block2-0/f/a/a.2/Relu_output_0 = Relu(%/trunk_output/block2/block2-0/f/a/a.0/Conv_output_0)\n",
      "  %/trunk_output/block2/block2-0/f/b/b.0/Conv_output_0 = Conv[dilations = [1, 1], group = 7, kernel_shape = [3, 3], pads = [1, 1, 1, 1], strides = [2, 2]](%/trunk_output/block2/block2-0/f/a/a.2/Relu_output_0, %onnx::Conv_582, %onnx::Conv_583)\n",
      "  %/trunk_output/block2/block2-0/f/b/b.2/Relu_output_0 = Relu(%/trunk_output/block2/block2-0/f/b/b.0/Conv_output_0)\n",
      "  %/trunk_output/block2/block2-0/f/c/c.0/Conv_output_0 = Conv[dilations = [1, 1], group = 1, kernel_shape = [1, 1], pads = [0, 0, 0, 0], strides = [1, 1]](%/trunk_output/block2/block2-0/f/b/b.2/Relu_output_0, %onnx::Conv_585, %onnx::Conv_586)\n",
      "  %/trunk_output/block2/block2-0/Add_output_0 = Add(%/trunk_output/block2/block2-0/proj/proj.0/Conv_output_0, %/trunk_output/block2/block2-0/f/c/c.0/Conv_output_0)\n",
      "  %/trunk_output/block2/block2-0/activation/Relu_output_0 = Relu(%/trunk_output/block2/block2-0/Add_output_0)\n",
      "  %/trunk_output/block2/block2-1/f/a/a.0/Conv_output_0 = Conv[dilations = [1, 1], group = 1, kernel_shape = [1, 1], pads = [0, 0, 0, 0], strides = [1, 1]](%/trunk_output/block2/block2-0/activation/Relu_output_0, %onnx::Conv_588, %onnx::Conv_589)\n",
      "  %/trunk_output/block2/block2-1/f/a/a.2/Relu_output_0 = Relu(%/trunk_output/block2/block2-1/f/a/a.0/Conv_output_0)\n",
      "  %/trunk_output/block2/block2-1/f/b/b.0/Conv_output_0 = Conv[dilations = [1, 1], group = 7, kernel_shape = [3, 3], pads = [1, 1, 1, 1], strides = [1, 1]](%/trunk_output/block2/block2-1/f/a/a.2/Relu_output_0, %onnx::Conv_591, %onnx::Conv_592)\n",
      "  %/trunk_output/block2/block2-1/f/b/b.2/Relu_output_0 = Relu(%/trunk_output/block2/block2-1/f/b/b.0/Conv_output_0)\n",
      "  %/trunk_output/block2/block2-1/f/c/c.0/Conv_output_0 = Conv[dilations = [1, 1], group = 1, kernel_shape = [1, 1], pads = [0, 0, 0, 0], strides = [1, 1]](%/trunk_output/block2/block2-1/f/b/b.2/Relu_output_0, %onnx::Conv_594, %onnx::Conv_595)\n",
      "  %/trunk_output/block2/block2-1/Add_output_0 = Add(%/trunk_output/block2/block2-0/activation/Relu_output_0, %/trunk_output/block2/block2-1/f/c/c.0/Conv_output_0)\n",
      "  %/trunk_output/block2/block2-1/activation/Relu_output_0 = Relu(%/trunk_output/block2/block2-1/Add_output_0)\n",
      "  %/trunk_output/block2/block2-2/f/a/a.0/Conv_output_0 = Conv[dilations = [1, 1], group = 1, kernel_shape = [1, 1], pads = [0, 0, 0, 0], strides = [1, 1]](%/trunk_output/block2/block2-1/activation/Relu_output_0, %onnx::Conv_597, %onnx::Conv_598)\n",
      "  %/trunk_output/block2/block2-2/f/a/a.2/Relu_output_0 = Relu(%/trunk_output/block2/block2-2/f/a/a.0/Conv_output_0)\n",
      "  %/trunk_output/block2/block2-2/f/b/b.0/Conv_output_0 = Conv[dilations = [1, 1], group = 7, kernel_shape = [3, 3], pads = [1, 1, 1, 1], strides = [1, 1]](%/trunk_output/block2/block2-2/f/a/a.2/Relu_output_0, %onnx::Conv_600, %onnx::Conv_601)\n",
      "  %/trunk_output/block2/block2-2/f/b/b.2/Relu_output_0 = Relu(%/trunk_output/block2/block2-2/f/b/b.0/Conv_output_0)\n",
      "  %/trunk_output/block2/block2-2/f/c/c.0/Conv_output_0 = Conv[dilations = [1, 1], group = 1, kernel_shape = [1, 1], pads = [0, 0, 0, 0], strides = [1, 1]](%/trunk_output/block2/block2-2/f/b/b.2/Relu_output_0, %onnx::Conv_603, %onnx::Conv_604)\n",
      "  %/trunk_output/block2/block2-2/Add_output_0 = Add(%/trunk_output/block2/block2-1/activation/Relu_output_0, %/trunk_output/block2/block2-2/f/c/c.0/Conv_output_0)\n",
      "  %/trunk_output/block2/block2-2/activation/Relu_output_0 = Relu(%/trunk_output/block2/block2-2/Add_output_0)\n",
      "  %/trunk_output/block2/block2-3/f/a/a.0/Conv_output_0 = Conv[dilations = [1, 1], group = 1, kernel_shape = [1, 1], pads = [0, 0, 0, 0], strides = [1, 1]](%/trunk_output/block2/block2-2/activation/Relu_output_0, %onnx::Conv_606, %onnx::Conv_607)\n",
      "  %/trunk_output/block2/block2-3/f/a/a.2/Relu_output_0 = Relu(%/trunk_output/block2/block2-3/f/a/a.0/Conv_output_0)\n",
      "  %/trunk_output/block2/block2-3/f/b/b.0/Conv_output_0 = Conv[dilations = [1, 1], group = 7, kernel_shape = [3, 3], pads = [1, 1, 1, 1], strides = [1, 1]](%/trunk_output/block2/block2-3/f/a/a.2/Relu_output_0, %onnx::Conv_609, %onnx::Conv_610)\n",
      "  %/trunk_output/block2/block2-3/f/b/b.2/Relu_output_0 = Relu(%/trunk_output/block2/block2-3/f/b/b.0/Conv_output_0)\n",
      "  %/trunk_output/block2/block2-3/f/c/c.0/Conv_output_0 = Conv[dilations = [1, 1], group = 1, kernel_shape = [1, 1], pads = [0, 0, 0, 0], strides = [1, 1]](%/trunk_output/block2/block2-3/f/b/b.2/Relu_output_0, %onnx::Conv_612, %onnx::Conv_613)\n",
      "  %/trunk_output/block2/block2-3/Add_output_0 = Add(%/trunk_output/block2/block2-2/activation/Relu_output_0, %/trunk_output/block2/block2-3/f/c/c.0/Conv_output_0)\n",
      "  %/trunk_output/block2/block2-3/activation/Relu_output_0 = Relu(%/trunk_output/block2/block2-3/Add_output_0)\n",
      "  %/trunk_output/block3/block3-0/proj/proj.0/Conv_output_0 = Conv[dilations = [1, 1], group = 1, kernel_shape = [1, 1], pads = [0, 0, 0, 0], strides = [2, 2]](%/trunk_output/block2/block2-3/activation/Relu_output_0, %onnx::Conv_615, %onnx::Conv_616)\n",
      "  %/trunk_output/block3/block3-0/f/a/a.0/Conv_output_0 = Conv[dilations = [1, 1], group = 1, kernel_shape = [1, 1], pads = [0, 0, 0, 0], strides = [1, 1]](%/trunk_output/block2/block2-3/activation/Relu_output_0, %onnx::Conv_618, %onnx::Conv_619)\n",
      "  %/trunk_output/block3/block3-0/f/a/a.2/Relu_output_0 = Relu(%/trunk_output/block3/block3-0/f/a/a.0/Conv_output_0)\n",
      "  %/trunk_output/block3/block3-0/f/b/b.0/Conv_output_0 = Conv[dilations = [1, 1], group = 17, kernel_shape = [3, 3], pads = [1, 1, 1, 1], strides = [2, 2]](%/trunk_output/block3/block3-0/f/a/a.2/Relu_output_0, %onnx::Conv_621, %onnx::Conv_622)\n",
      "  %/trunk_output/block3/block3-0/f/b/b.2/Relu_output_0 = Relu(%/trunk_output/block3/block3-0/f/b/b.0/Conv_output_0)\n",
      "  %/trunk_output/block3/block3-0/f/c/c.0/Conv_output_0 = Conv[dilations = [1, 1], group = 1, kernel_shape = [1, 1], pads = [0, 0, 0, 0], strides = [1, 1]](%/trunk_output/block3/block3-0/f/b/b.2/Relu_output_0, %onnx::Conv_624, %onnx::Conv_625)\n",
      "  %/trunk_output/block3/block3-0/Add_output_0 = Add(%/trunk_output/block3/block3-0/proj/proj.0/Conv_output_0, %/trunk_output/block3/block3-0/f/c/c.0/Conv_output_0)\n",
      "  %/trunk_output/block3/block3-0/activation/Relu_output_0 = Relu(%/trunk_output/block3/block3-0/Add_output_0)\n",
      "  %/trunk_output/block3/block3-1/f/a/a.0/Conv_output_0 = Conv[dilations = [1, 1], group = 1, kernel_shape = [1, 1], pads = [0, 0, 0, 0], strides = [1, 1]](%/trunk_output/block3/block3-0/activation/Relu_output_0, %onnx::Conv_627, %onnx::Conv_628)\n",
      "  %/trunk_output/block3/block3-1/f/a/a.2/Relu_output_0 = Relu(%/trunk_output/block3/block3-1/f/a/a.0/Conv_output_0)\n",
      "  %/trunk_output/block3/block3-1/f/b/b.0/Conv_output_0 = Conv[dilations = [1, 1], group = 17, kernel_shape = [3, 3], pads = [1, 1, 1, 1], strides = [1, 1]](%/trunk_output/block3/block3-1/f/a/a.2/Relu_output_0, %onnx::Conv_630, %onnx::Conv_631)\n",
      "  %/trunk_output/block3/block3-1/f/b/b.2/Relu_output_0 = Relu(%/trunk_output/block3/block3-1/f/b/b.0/Conv_output_0)\n",
      "  %/trunk_output/block3/block3-1/f/c/c.0/Conv_output_0 = Conv[dilations = [1, 1], group = 1, kernel_shape = [1, 1], pads = [0, 0, 0, 0], strides = [1, 1]](%/trunk_output/block3/block3-1/f/b/b.2/Relu_output_0, %onnx::Conv_633, %onnx::Conv_634)\n",
      "  %/trunk_output/block3/block3-1/Add_output_0 = Add(%/trunk_output/block3/block3-0/activation/Relu_output_0, %/trunk_output/block3/block3-1/f/c/c.0/Conv_output_0)\n",
      "  %/trunk_output/block3/block3-1/activation/Relu_output_0 = Relu(%/trunk_output/block3/block3-1/Add_output_0)\n",
      "  %/trunk_output/block3/block3-2/f/a/a.0/Conv_output_0 = Conv[dilations = [1, 1], group = 1, kernel_shape = [1, 1], pads = [0, 0, 0, 0], strides = [1, 1]](%/trunk_output/block3/block3-1/activation/Relu_output_0, %onnx::Conv_636, %onnx::Conv_637)\n",
      "  %/trunk_output/block3/block3-2/f/a/a.2/Relu_output_0 = Relu(%/trunk_output/block3/block3-2/f/a/a.0/Conv_output_0)\n",
      "  %/trunk_output/block3/block3-2/f/b/b.0/Conv_output_0 = Conv[dilations = [1, 1], group = 17, kernel_shape = [3, 3], pads = [1, 1, 1, 1], strides = [1, 1]](%/trunk_output/block3/block3-2/f/a/a.2/Relu_output_0, %onnx::Conv_639, %onnx::Conv_640)\n",
      "  %/trunk_output/block3/block3-2/f/b/b.2/Relu_output_0 = Relu(%/trunk_output/block3/block3-2/f/b/b.0/Conv_output_0)\n",
      "  %/trunk_output/block3/block3-2/f/c/c.0/Conv_output_0 = Conv[dilations = [1, 1], group = 1, kernel_shape = [1, 1], pads = [0, 0, 0, 0], strides = [1, 1]](%/trunk_output/block3/block3-2/f/b/b.2/Relu_output_0, %onnx::Conv_642, %onnx::Conv_643)\n",
      "  %/trunk_output/block3/block3-2/Add_output_0 = Add(%/trunk_output/block3/block3-1/activation/Relu_output_0, %/trunk_output/block3/block3-2/f/c/c.0/Conv_output_0)\n",
      "  %/trunk_output/block3/block3-2/activation/Relu_output_0 = Relu(%/trunk_output/block3/block3-2/Add_output_0)\n",
      "  %/trunk_output/block3/block3-3/f/a/a.0/Conv_output_0 = Conv[dilations = [1, 1], group = 1, kernel_shape = [1, 1], pads = [0, 0, 0, 0], strides = [1, 1]](%/trunk_output/block3/block3-2/activation/Relu_output_0, %onnx::Conv_645, %onnx::Conv_646)\n",
      "  %/trunk_output/block3/block3-3/f/a/a.2/Relu_output_0 = Relu(%/trunk_output/block3/block3-3/f/a/a.0/Conv_output_0)\n",
      "  %/trunk_output/block3/block3-3/f/b/b.0/Conv_output_0 = Conv[dilations = [1, 1], group = 17, kernel_shape = [3, 3], pads = [1, 1, 1, 1], strides = [1, 1]](%/trunk_output/block3/block3-3/f/a/a.2/Relu_output_0, %onnx::Conv_648, %onnx::Conv_649)\n",
      "  %/trunk_output/block3/block3-3/f/b/b.2/Relu_output_0 = Relu(%/trunk_output/block3/block3-3/f/b/b.0/Conv_output_0)\n",
      "  %/trunk_output/block3/block3-3/f/c/c.0/Conv_output_0 = Conv[dilations = [1, 1], group = 1, kernel_shape = [1, 1], pads = [0, 0, 0, 0], strides = [1, 1]](%/trunk_output/block3/block3-3/f/b/b.2/Relu_output_0, %onnx::Conv_651, %onnx::Conv_652)\n",
      "  %/trunk_output/block3/block3-3/Add_output_0 = Add(%/trunk_output/block3/block3-2/activation/Relu_output_0, %/trunk_output/block3/block3-3/f/c/c.0/Conv_output_0)\n",
      "  %/trunk_output/block3/block3-3/activation/Relu_output_0 = Relu(%/trunk_output/block3/block3-3/Add_output_0)\n",
      "  %/trunk_output/block3/block3-4/f/a/a.0/Conv_output_0 = Conv[dilations = [1, 1], group = 1, kernel_shape = [1, 1], pads = [0, 0, 0, 0], strides = [1, 1]](%/trunk_output/block3/block3-3/activation/Relu_output_0, %onnx::Conv_654, %onnx::Conv_655)\n",
      "  %/trunk_output/block3/block3-4/f/a/a.2/Relu_output_0 = Relu(%/trunk_output/block3/block3-4/f/a/a.0/Conv_output_0)\n",
      "  %/trunk_output/block3/block3-4/f/b/b.0/Conv_output_0 = Conv[dilations = [1, 1], group = 17, kernel_shape = [3, 3], pads = [1, 1, 1, 1], strides = [1, 1]](%/trunk_output/block3/block3-4/f/a/a.2/Relu_output_0, %onnx::Conv_657, %onnx::Conv_658)\n",
      "  %/trunk_output/block3/block3-4/f/b/b.2/Relu_output_0 = Relu(%/trunk_output/block3/block3-4/f/b/b.0/Conv_output_0)\n",
      "  %/trunk_output/block3/block3-4/f/c/c.0/Conv_output_0 = Conv[dilations = [1, 1], group = 1, kernel_shape = [1, 1], pads = [0, 0, 0, 0], strides = [1, 1]](%/trunk_output/block3/block3-4/f/b/b.2/Relu_output_0, %onnx::Conv_660, %onnx::Conv_661)\n",
      "  %/trunk_output/block3/block3-4/Add_output_0 = Add(%/trunk_output/block3/block3-3/activation/Relu_output_0, %/trunk_output/block3/block3-4/f/c/c.0/Conv_output_0)\n",
      "  %/trunk_output/block3/block3-4/activation/Relu_output_0 = Relu(%/trunk_output/block3/block3-4/Add_output_0)\n",
      "  %/trunk_output/block3/block3-5/f/a/a.0/Conv_output_0 = Conv[dilations = [1, 1], group = 1, kernel_shape = [1, 1], pads = [0, 0, 0, 0], strides = [1, 1]](%/trunk_output/block3/block3-4/activation/Relu_output_0, %onnx::Conv_663, %onnx::Conv_664)\n",
      "  %/trunk_output/block3/block3-5/f/a/a.2/Relu_output_0 = Relu(%/trunk_output/block3/block3-5/f/a/a.0/Conv_output_0)\n",
      "  %/trunk_output/block3/block3-5/f/b/b.0/Conv_output_0 = Conv[dilations = [1, 1], group = 17, kernel_shape = [3, 3], pads = [1, 1, 1, 1], strides = [1, 1]](%/trunk_output/block3/block3-5/f/a/a.2/Relu_output_0, %onnx::Conv_666, %onnx::Conv_667)\n",
      "  %/trunk_output/block3/block3-5/f/b/b.2/Relu_output_0 = Relu(%/trunk_output/block3/block3-5/f/b/b.0/Conv_output_0)\n",
      "  %/trunk_output/block3/block3-5/f/c/c.0/Conv_output_0 = Conv[dilations = [1, 1], group = 1, kernel_shape = [1, 1], pads = [0, 0, 0, 0], strides = [1, 1]](%/trunk_output/block3/block3-5/f/b/b.2/Relu_output_0, %onnx::Conv_669, %onnx::Conv_670)\n",
      "  %/trunk_output/block3/block3-5/Add_output_0 = Add(%/trunk_output/block3/block3-4/activation/Relu_output_0, %/trunk_output/block3/block3-5/f/c/c.0/Conv_output_0)\n",
      "  %/trunk_output/block3/block3-5/activation/Relu_output_0 = Relu(%/trunk_output/block3/block3-5/Add_output_0)\n",
      "  %/trunk_output/block3/block3-6/f/a/a.0/Conv_output_0 = Conv[dilations = [1, 1], group = 1, kernel_shape = [1, 1], pads = [0, 0, 0, 0], strides = [1, 1]](%/trunk_output/block3/block3-5/activation/Relu_output_0, %onnx::Conv_672, %onnx::Conv_673)\n",
      "  %/trunk_output/block3/block3-6/f/a/a.2/Relu_output_0 = Relu(%/trunk_output/block3/block3-6/f/a/a.0/Conv_output_0)\n",
      "  %/trunk_output/block3/block3-6/f/b/b.0/Conv_output_0 = Conv[dilations = [1, 1], group = 17, kernel_shape = [3, 3], pads = [1, 1, 1, 1], strides = [1, 1]](%/trunk_output/block3/block3-6/f/a/a.2/Relu_output_0, %onnx::Conv_675, %onnx::Conv_676)\n",
      "  %/trunk_output/block3/block3-6/f/b/b.2/Relu_output_0 = Relu(%/trunk_output/block3/block3-6/f/b/b.0/Conv_output_0)\n",
      "  %/trunk_output/block3/block3-6/f/c/c.0/Conv_output_0 = Conv[dilations = [1, 1], group = 1, kernel_shape = [1, 1], pads = [0, 0, 0, 0], strides = [1, 1]](%/trunk_output/block3/block3-6/f/b/b.2/Relu_output_0, %onnx::Conv_678, %onnx::Conv_679)\n",
      "  %/trunk_output/block3/block3-6/Add_output_0 = Add(%/trunk_output/block3/block3-5/activation/Relu_output_0, %/trunk_output/block3/block3-6/f/c/c.0/Conv_output_0)\n",
      "  %/trunk_output/block3/block3-6/activation/Relu_output_0 = Relu(%/trunk_output/block3/block3-6/Add_output_0)\n",
      "  %/trunk_output/block3/block3-7/f/a/a.0/Conv_output_0 = Conv[dilations = [1, 1], group = 1, kernel_shape = [1, 1], pads = [0, 0, 0, 0], strides = [1, 1]](%/trunk_output/block3/block3-6/activation/Relu_output_0, %onnx::Conv_681, %onnx::Conv_682)\n",
      "  %/trunk_output/block3/block3-7/f/a/a.2/Relu_output_0 = Relu(%/trunk_output/block3/block3-7/f/a/a.0/Conv_output_0)\n",
      "  %/trunk_output/block3/block3-7/f/b/b.0/Conv_output_0 = Conv[dilations = [1, 1], group = 17, kernel_shape = [3, 3], pads = [1, 1, 1, 1], strides = [1, 1]](%/trunk_output/block3/block3-7/f/a/a.2/Relu_output_0, %onnx::Conv_684, %onnx::Conv_685)\n",
      "  %/trunk_output/block3/block3-7/f/b/b.2/Relu_output_0 = Relu(%/trunk_output/block3/block3-7/f/b/b.0/Conv_output_0)\n",
      "  %/trunk_output/block3/block3-7/f/c/c.0/Conv_output_0 = Conv[dilations = [1, 1], group = 1, kernel_shape = [1, 1], pads = [0, 0, 0, 0], strides = [1, 1]](%/trunk_output/block3/block3-7/f/b/b.2/Relu_output_0, %onnx::Conv_687, %onnx::Conv_688)\n",
      "  %/trunk_output/block3/block3-7/Add_output_0 = Add(%/trunk_output/block3/block3-6/activation/Relu_output_0, %/trunk_output/block3/block3-7/f/c/c.0/Conv_output_0)\n",
      "  %/trunk_output/block3/block3-7/activation/Relu_output_0 = Relu(%/trunk_output/block3/block3-7/Add_output_0)\n",
      "  %/trunk_output/block3/block3-8/f/a/a.0/Conv_output_0 = Conv[dilations = [1, 1], group = 1, kernel_shape = [1, 1], pads = [0, 0, 0, 0], strides = [1, 1]](%/trunk_output/block3/block3-7/activation/Relu_output_0, %onnx::Conv_690, %onnx::Conv_691)\n",
      "  %/trunk_output/block3/block3-8/f/a/a.2/Relu_output_0 = Relu(%/trunk_output/block3/block3-8/f/a/a.0/Conv_output_0)\n",
      "  %/trunk_output/block3/block3-8/f/b/b.0/Conv_output_0 = Conv[dilations = [1, 1], group = 17, kernel_shape = [3, 3], pads = [1, 1, 1, 1], strides = [1, 1]](%/trunk_output/block3/block3-8/f/a/a.2/Relu_output_0, %onnx::Conv_693, %onnx::Conv_694)\n",
      "  %/trunk_output/block3/block3-8/f/b/b.2/Relu_output_0 = Relu(%/trunk_output/block3/block3-8/f/b/b.0/Conv_output_0)\n",
      "  %/trunk_output/block3/block3-8/f/c/c.0/Conv_output_0 = Conv[dilations = [1, 1], group = 1, kernel_shape = [1, 1], pads = [0, 0, 0, 0], strides = [1, 1]](%/trunk_output/block3/block3-8/f/b/b.2/Relu_output_0, %onnx::Conv_696, %onnx::Conv_697)\n",
      "  %/trunk_output/block3/block3-8/Add_output_0 = Add(%/trunk_output/block3/block3-7/activation/Relu_output_0, %/trunk_output/block3/block3-8/f/c/c.0/Conv_output_0)\n",
      "  %/trunk_output/block3/block3-8/activation/Relu_output_0 = Relu(%/trunk_output/block3/block3-8/Add_output_0)\n",
      "  %/trunk_output/block3/block3-9/f/a/a.0/Conv_output_0 = Conv[dilations = [1, 1], group = 1, kernel_shape = [1, 1], pads = [0, 0, 0, 0], strides = [1, 1]](%/trunk_output/block3/block3-8/activation/Relu_output_0, %onnx::Conv_699, %onnx::Conv_700)\n",
      "  %/trunk_output/block3/block3-9/f/a/a.2/Relu_output_0 = Relu(%/trunk_output/block3/block3-9/f/a/a.0/Conv_output_0)\n",
      "  %/trunk_output/block3/block3-9/f/b/b.0/Conv_output_0 = Conv[dilations = [1, 1], group = 17, kernel_shape = [3, 3], pads = [1, 1, 1, 1], strides = [1, 1]](%/trunk_output/block3/block3-9/f/a/a.2/Relu_output_0, %onnx::Conv_702, %onnx::Conv_703)\n",
      "  %/trunk_output/block3/block3-9/f/b/b.2/Relu_output_0 = Relu(%/trunk_output/block3/block3-9/f/b/b.0/Conv_output_0)\n",
      "  %/trunk_output/block3/block3-9/f/c/c.0/Conv_output_0 = Conv[dilations = [1, 1], group = 1, kernel_shape = [1, 1], pads = [0, 0, 0, 0], strides = [1, 1]](%/trunk_output/block3/block3-9/f/b/b.2/Relu_output_0, %onnx::Conv_705, %onnx::Conv_706)\n",
      "  %/trunk_output/block3/block3-9/Add_output_0 = Add(%/trunk_output/block3/block3-8/activation/Relu_output_0, %/trunk_output/block3/block3-9/f/c/c.0/Conv_output_0)\n",
      "  %/trunk_output/block3/block3-9/activation/Relu_output_0 = Relu(%/trunk_output/block3/block3-9/Add_output_0)\n",
      "  %/trunk_output/block4/block4-0/proj/proj.0/Conv_output_0 = Conv[dilations = [1, 1], group = 1, kernel_shape = [1, 1], pads = [0, 0, 0, 0], strides = [2, 2]](%/trunk_output/block3/block3-9/activation/Relu_output_0, %onnx::Conv_708, %onnx::Conv_709)\n",
      "  %/trunk_output/block4/block4-0/f/a/a.0/Conv_output_0 = Conv[dilations = [1, 1], group = 1, kernel_shape = [1, 1], pads = [0, 0, 0, 0], strides = [1, 1]](%/trunk_output/block3/block3-9/activation/Relu_output_0, %onnx::Conv_711, %onnx::Conv_712)\n",
      "  %/trunk_output/block4/block4-0/f/a/a.2/Relu_output_0 = Relu(%/trunk_output/block4/block4-0/f/a/a.0/Conv_output_0)\n",
      "  %/trunk_output/block4/block4-0/f/b/b.0/Conv_output_0 = Conv[dilations = [1, 1], group = 38, kernel_shape = [3, 3], pads = [1, 1, 1, 1], strides = [2, 2]](%/trunk_output/block4/block4-0/f/a/a.2/Relu_output_0, %onnx::Conv_714, %onnx::Conv_715)\n",
      "  %/trunk_output/block4/block4-0/f/b/b.2/Relu_output_0 = Relu(%/trunk_output/block4/block4-0/f/b/b.0/Conv_output_0)\n",
      "  %/trunk_output/block4/block4-0/f/c/c.0/Conv_output_0 = Conv[dilations = [1, 1], group = 1, kernel_shape = [1, 1], pads = [0, 0, 0, 0], strides = [1, 1]](%/trunk_output/block4/block4-0/f/b/b.2/Relu_output_0, %onnx::Conv_717, %onnx::Conv_718)\n",
      "  %/trunk_output/block4/block4-0/Add_output_0 = Add(%/trunk_output/block4/block4-0/proj/proj.0/Conv_output_0, %/trunk_output/block4/block4-0/f/c/c.0/Conv_output_0)\n",
      "  %/trunk_output/block4/block4-0/activation/Relu_output_0 = Relu(%/trunk_output/block4/block4-0/Add_output_0)\n",
      "  %/trunk_output/block4/block4-1/f/a/a.0/Conv_output_0 = Conv[dilations = [1, 1], group = 1, kernel_shape = [1, 1], pads = [0, 0, 0, 0], strides = [1, 1]](%/trunk_output/block4/block4-0/activation/Relu_output_0, %onnx::Conv_720, %onnx::Conv_721)\n",
      "  %/trunk_output/block4/block4-1/f/a/a.2/Relu_output_0 = Relu(%/trunk_output/block4/block4-1/f/a/a.0/Conv_output_0)\n",
      "  %/trunk_output/block4/block4-1/f/b/b.0/Conv_output_0 = Conv[dilations = [1, 1], group = 38, kernel_shape = [3, 3], pads = [1, 1, 1, 1], strides = [1, 1]](%/trunk_output/block4/block4-1/f/a/a.2/Relu_output_0, %onnx::Conv_723, %onnx::Conv_724)\n",
      "  %/trunk_output/block4/block4-1/f/b/b.2/Relu_output_0 = Relu(%/trunk_output/block4/block4-1/f/b/b.0/Conv_output_0)\n",
      "  %/trunk_output/block4/block4-1/f/c/c.0/Conv_output_0 = Conv[dilations = [1, 1], group = 1, kernel_shape = [1, 1], pads = [0, 0, 0, 0], strides = [1, 1]](%/trunk_output/block4/block4-1/f/b/b.2/Relu_output_0, %onnx::Conv_726, %onnx::Conv_727)\n",
      "  %/trunk_output/block4/block4-1/Add_output_0 = Add(%/trunk_output/block4/block4-0/activation/Relu_output_0, %/trunk_output/block4/block4-1/f/c/c.0/Conv_output_0)\n",
      "  %/trunk_output/block4/block4-1/activation/Relu_output_0 = Relu(%/trunk_output/block4/block4-1/Add_output_0)\n",
      "  %/avgpool/GlobalAveragePool_output_0 = GlobalAveragePool(%/trunk_output/block4/block4-1/activation/Relu_output_0)\n",
      "  %/Flatten_output_0 = Flatten[axis = 1](%/avgpool/GlobalAveragePool_output_0)\n",
      "  %output = Gemm[alpha = 1, beta = 1, transB = 1](%/Flatten_output_0, %fc.weight, %fc.bias)\n",
      "  return %output\n",
      "}\n"
     ]
    }
   ],
   "source": [
    "print(onnx.helper.printable_graph(onnx_model.graph))"
   ]
  },
  {
   "cell_type": "markdown",
   "id": "357612e0-d5ba-422b-8ccb-cfc46e2d2616",
   "metadata": {},
   "source": [
    "## 使用Netron可视化模型结构\n",
    "\n",
    "Netron：https://netron.app\n",
    "\n",
    "视频教程：https://www.bilibili.com/video/BV1TV4y1P7AP"
   ]
  },
  {
   "cell_type": "code",
   "execution_count": null,
   "id": "0c424032-6fe5-4e78-b118-1fd993d6ebb4",
   "metadata": {},
   "outputs": [],
   "source": []
  }
 ],
 "metadata": {
  "kernelspec": {
   "display_name": "Python 3 (ipykernel)",
   "language": "python",
   "name": "python3"
  },
  "language_info": {
   "codemirror_mode": {
    "name": "ipython",
    "version": 3
   },
   "file_extension": ".py",
   "mimetype": "text/x-python",
   "name": "python",
   "nbconvert_exporter": "python",
   "pygments_lexer": "ipython3",
   "version": "3.7.10"
  }
 },
 "nbformat": 4,
 "nbformat_minor": 5
}
