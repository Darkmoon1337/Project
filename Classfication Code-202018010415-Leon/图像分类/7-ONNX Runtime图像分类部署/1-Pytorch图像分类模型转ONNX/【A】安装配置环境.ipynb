{
 "cells": [
  {
   "cell_type": "markdown",
   "id": "68aa2c39-1a4b-4d3c-ab35-3d44896f2f67",
   "metadata": {},
   "source": [
    "# 安装配置环境\n",
    "\n",
    "代码运行云GPU平台：公众号 人工智能小技巧 回复 gpu\n",
    "\n",
    "同济子豪兄 2022-8-22 2023-4-28 2023-5-8"
   ]
  },
  {
   "cell_type": "markdown",
   "id": "3835364b-b8ca-4361-965f-b1ca65355227",
   "metadata": {},
   "source": [
    "## 安装 Pytorch"
   ]
  },
  {
   "cell_type": "code",
   "execution_count": null,
   "id": "f9c9f8de-2c5e-477e-8893-f1435e3ff331",
   "metadata": {},
   "outputs": [],
   "source": [
    "!pip3 install torch torchvision --extra-index-url https://download.pytorch.org/whl/cu113"
   ]
  },
  {
   "cell_type": "markdown",
   "id": "96aa0774-0576-4966-ab70-a7fd3092b8be",
   "metadata": {},
   "source": [
    "## 安装 ONNX"
   ]
  },
  {
   "cell_type": "code",
   "execution_count": 1,
   "id": "175eecb2-b225-466b-a5d6-031740aeb78a",
   "metadata": {
    "ExecuteTime": {
     "end_time": "2024-04-10T13:48:25.251450900Z",
     "start_time": "2024-04-10T13:48:19.256027700Z"
    }
   },
   "outputs": [
    {
     "name": "stdout",
     "output_type": "stream",
     "text": [
      "Looking in indexes: https://pypi.tuna.tsinghua.edu.cn/simple\n",
      "Requirement already satisfied: onnx in d:\\software\\anaconda\\envs\\pytorch\\lib\\site-packages (1.16.0)\n",
      "Requirement already satisfied: numpy>=1.20 in d:\\software\\anaconda\\envs\\pytorch\\lib\\site-packages (from onnx) (1.24.1)\n",
      "Requirement already satisfied: protobuf>=3.20.2 in d:\\software\\anaconda\\envs\\pytorch\\lib\\site-packages (from onnx) (3.20.3)\n"
     ]
    },
    {
     "name": "stderr",
     "output_type": "stream",
     "text": [
      "\n",
      "[notice] A new release of pip is available: 23.3.1 -> 24.0\n",
      "[notice] To update, run: python.exe -m pip install --upgrade pip\n"
     ]
    }
   ],
   "source": [
    "!pip install onnx -i https://pypi.tuna.tsinghua.edu.cn/simple"
   ]
  },
  {
   "cell_type": "markdown",
   "id": "876de399-982e-48a9-b7cb-7b5b4c95fcc7",
   "metadata": {},
   "source": [
    "## 安装推理引擎 ONNX Runtime"
   ]
  },
  {
   "cell_type": "code",
   "execution_count": 6,
   "id": "a66fcd4d-d214-4d59-b903-ede62b1a60da",
   "metadata": {
    "ExecuteTime": {
     "end_time": "2024-04-10T13:50:04.187107300Z",
     "start_time": "2024-04-10T13:48:57.061123600Z"
    }
   },
   "outputs": [
    {
     "name": "stderr",
     "output_type": "stream",
     "text": [
      "WARNING: Retrying (Retry(total=4, connect=None, read=None, redirect=None, status=None)) after connection broken by 'ReadTimeoutError(\"HTTPSConnectionPool(host='pypi.org', port=443): Read timed out. (read timeout=15)\")': /simple/onnxruntime/\n",
      "WARNING: Retrying (Retry(total=3, connect=None, read=None, redirect=None, status=None)) after connection broken by 'ReadTimeoutError(\"HTTPSConnectionPool(host='pypi.org', port=443): Read timed out. (read timeout=15)\")': /simple/onnxruntime/\n",
      "ERROR: Could not find a version that satisfies the requirement onnxruntime (from versions: none)\n",
      "ERROR: No matching distribution found for onnxruntime\n",
      "\n",
      "[notice] A new release of pip is available: 23.3.1 -> 24.0\n",
      "[notice] To update, run: python.exe -m pip install --upgrade pip\n"
     ]
    }
   ],
   "source": [
    "!pip install onnxruntime "
   ]
  },
  {
   "cell_type": "markdown",
   "id": "30403df6-dd55-429e-8b4b-6ff36413c306",
   "metadata": {},
   "source": [
    "## 安装其它第三方工具包"
   ]
  },
  {
   "cell_type": "code",
   "execution_count": null,
   "id": "83c98888-79c0-4f4c-8e64-b9cc65ac797e",
   "metadata": {},
   "outputs": [],
   "source": [
    "!pip install numpy pandas matplotlib tqdm opencv-python pillow -i https://pypi.tuna.tsinghua.edu.cn/simple"
   ]
  },
  {
   "cell_type": "markdown",
   "id": "5edbbb7e-51a6-408e-abc2-94709e698da1",
   "metadata": {},
   "source": [
    "## 验证安装配置成功"
   ]
  },
  {
   "cell_type": "code",
   "execution_count": 3,
   "id": "dd572b2f-680b-4a26-b8d0-de12bdc4cc4c",
   "metadata": {
    "ExecuteTime": {
     "end_time": "2024-04-10T13:48:42.416894Z",
     "start_time": "2024-04-10T13:48:38.609350400Z"
    }
   },
   "outputs": [
    {
     "name": "stdout",
     "output_type": "stream",
     "text": [
      "PyTorch 版本 2.1.0\n"
     ]
    }
   ],
   "source": [
    "import torch\n",
    "print('PyTorch 版本', torch.__version__)"
   ]
  },
  {
   "cell_type": "code",
   "execution_count": 4,
   "id": "a10a2963-f825-45c1-93c1-ba26ef6b0431",
   "metadata": {
    "ExecuteTime": {
     "end_time": "2024-04-10T13:48:44.805765500Z",
     "start_time": "2024-04-10T13:48:44.668080600Z"
    }
   },
   "outputs": [
    {
     "name": "stdout",
     "output_type": "stream",
     "text": [
      "ONNX 版本 1.16.0\n"
     ]
    }
   ],
   "source": [
    "import onnx\n",
    "print('ONNX 版本', onnx.__version__)"
   ]
  },
  {
   "cell_type": "code",
   "execution_count": 8,
   "id": "a4d17124-414b-47b3-a364-5d808c270485",
   "metadata": {
    "ExecuteTime": {
     "end_time": "2024-04-10T13:52:40.134057200Z",
     "start_time": "2024-04-10T13:52:39.935432800Z"
    }
   },
   "outputs": [
    {
     "name": "stdout",
     "output_type": "stream",
     "text": [
      "ONNX Runtime 版本 1.17.1\n"
     ]
    }
   ],
   "source": [
    "import onnxruntime as ort\n",
    "print('ONNX Runtime 版本', ort.__version__)"
   ]
  },
  {
   "cell_type": "code",
   "execution_count": null,
   "id": "53eae0d0-a51b-478f-8cba-a54c87afcf70",
   "metadata": {},
   "outputs": [],
   "source": []
  }
 ],
 "metadata": {
  "kernelspec": {
   "display_name": "Python 3 (ipykernel)",
   "language": "python",
   "name": "python3"
  },
  "language_info": {
   "codemirror_mode": {
    "name": "ipython",
    "version": 3
   },
   "file_extension": ".py",
   "mimetype": "text/x-python",
   "name": "python",
   "nbconvert_exporter": "python",
   "pygments_lexer": "ipython3",
   "version": "3.7.10"
  }
 },
 "nbformat": 4,
 "nbformat_minor": 5
}
