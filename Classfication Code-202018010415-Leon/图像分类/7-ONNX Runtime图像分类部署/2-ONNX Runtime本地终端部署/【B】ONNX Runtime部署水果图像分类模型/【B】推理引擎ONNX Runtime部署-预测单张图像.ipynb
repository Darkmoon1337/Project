{
 "cells": [
  {
   "cell_type": "markdown",
   "metadata": {},
   "source": [
    "# 推理引擎ONNX Runtime部署-预测单张图像\n",
    "\n",
    "使用推理引擎 ONNX Runtime，读取 onnx 格式的模型文件，对单张图像文件进行预测。\n",
    "\n",
    "同济子豪兄 https://space.bilibili.com/1900783\n",
    "\n",
    "2022-8-22"
   ],
   "id": "7a02a6bda3b8a6b1"
  },
  {
   "cell_type": "markdown",
   "metadata": {
    "tags": []
   },
   "source": [
    "## 应用场景\n",
    "\n",
    "以下代码在需要部署的硬件上运行\n",
    "\n",
    "只需把`onnx`模型文件发到部署硬件上，并安装 ONNX Runtime 环境，用几行代码就可以运行模型了。"
   ],
   "id": "a894231e4d97d04f"
  },
  {
   "cell_type": "markdown",
   "metadata": {},
   "source": [
    "## 导入工具包"
   ],
   "id": "d0c77379c8b39ae4"
  },
  {
   "cell_type": "code",
   "execution_count": 1,
   "metadata": {
    "ExecuteTime": {
     "end_time": "2024-04-10T13:58:55.242456Z",
     "start_time": "2024-04-10T13:58:49.530561600Z"
    }
   },
   "outputs": [
    {
     "name": "stderr",
     "output_type": "stream",
     "text": [
      "D:\\Software\\anaconda\\envs\\Pytorch\\lib\\site-packages\\torchvision\\io\\image.py:13: UserWarning: Failed to load image Python extension: '[WinError 127] The specified procedure could not be found'If you don't plan on using image functionality from `torchvision.io`, you can ignore this warning. Otherwise, there might be something wrong with your environment. Did you have `libjpeg` or `libpng` installed before building `torchvision` from source?\n",
      "  warn(\n"
     ]
    }
   ],
   "source": [
    "import onnxruntime\n",
    "import numpy as np\n",
    "from PIL import Image\n",
    "\n",
    "import torch\n",
    "import torch.nn.functional as F\n",
    "from torchvision import transforms"
   ],
   "id": "742fa8b675132bd"
  },
  {
   "cell_type": "markdown",
   "metadata": {},
   "source": [
    "## 载入 onnx 模型，获取 ONNX Runtime 推理器"
   ],
   "id": "19e2e64d30ba72bb"
  },
  {
   "cell_type": "code",
   "execution_count": 2,
   "metadata": {
    "ExecuteTime": {
     "end_time": "2024-04-10T13:59:08.250753300Z",
     "start_time": "2024-04-10T13:59:07.993661Z"
    }
   },
   "outputs": [],
   "source": [
    "ort_session = onnxruntime.InferenceSession(r'E:\\MV-Code-202018010103-Lucy\\main\\Train_Custom_Dataset\\图像分类\\7-ONNX Runtime图像分类部署\\1-Pytorch图像分类模型转ONNX\\resnet18_fruit30.onnx')"
   ],
   "id": "f4c67f9b88172c88"
  },
  {
   "cell_type": "markdown",
   "metadata": {},
   "source": [
    "## 构造输入，获取输出结果"
   ],
   "id": "6c614263c4194c9a"
  },
  {
   "cell_type": "code",
   "execution_count": 3,
   "metadata": {
    "ExecuteTime": {
     "end_time": "2024-04-10T13:59:10.100150700Z",
     "start_time": "2024-04-10T13:59:10.058951300Z"
    }
   },
   "outputs": [],
   "source": [
    "x = torch.randn(1, 3, 256, 256).numpy()"
   ],
   "id": "bd2f98e27aac6198"
  },
  {
   "cell_type": "code",
   "execution_count": 4,
   "metadata": {
    "ExecuteTime": {
     "end_time": "2024-04-10T13:59:10.938687900Z",
     "start_time": "2024-04-10T13:59:10.890210Z"
    }
   },
   "outputs": [
    {
     "data": {
      "text/plain": "(1, 3, 256, 256)"
     },
     "execution_count": 4,
     "metadata": {},
     "output_type": "execute_result"
    }
   ],
   "source": [
    "x.shape"
   ],
   "id": "2a3ca7baeda1b1ea"
  },
  {
   "cell_type": "code",
   "execution_count": 5,
   "metadata": {
    "ExecuteTime": {
     "end_time": "2024-04-10T13:59:12.020764100Z",
     "start_time": "2024-04-10T13:59:11.972430300Z"
    }
   },
   "outputs": [],
   "source": [
    "# onnx runtime 输入\n",
    "ort_inputs = {'input': x}\n",
    "\n",
    "# onnx runtime 输出\n",
    "ort_output = ort_session.run(['output'], ort_inputs)[0]"
   ],
   "id": "cb6c8bd21ae646d4"
  },
  {
   "cell_type": "markdown",
   "metadata": {},
   "source": [
    "注意，输入输出张量的名称需要和 torch.onnx.export 中设置的输入输出名对应"
   ],
   "id": "eb3d47059a677aff"
  },
  {
   "cell_type": "code",
   "execution_count": 6,
   "metadata": {
    "ExecuteTime": {
     "end_time": "2024-04-10T13:59:13.411781600Z",
     "start_time": "2024-04-10T13:59:13.362852300Z"
    }
   },
   "outputs": [
    {
     "data": {
      "text/plain": "(1, 2)"
     },
     "execution_count": 6,
     "metadata": {},
     "output_type": "execute_result"
    }
   ],
   "source": [
    "ort_output.shape"
   ],
   "id": "5114cdabeade37ec"
  },
  {
   "cell_type": "code",
   "execution_count": 7,
   "metadata": {
    "ExecuteTime": {
     "end_time": "2024-04-10T13:59:16.421931300Z",
     "start_time": "2024-04-10T13:59:16.381880500Z"
    }
   },
   "outputs": [],
   "source": [
    "# ort_output"
   ],
   "id": "58edc2e4db54b362"
  },
  {
   "cell_type": "markdown",
   "metadata": {},
   "source": [
    "## 预处理"
   ],
   "id": "80d7464d0e7a0c3f"
  },
  {
   "cell_type": "code",
   "execution_count": 9,
   "metadata": {},
   "outputs": [],
   "source": [
    "# 测试集图像预处理-RCTN：缩放裁剪、转 Tensor、归一化\n",
    "test_transform = transforms.Compose([transforms.Resize(256),\n",
    "                                     transforms.CenterCrop(256),\n",
    "                                     transforms.ToTensor(),\n",
    "                                     transforms.Normalize(\n",
    "                                         mean=[0.485, 0.456, 0.406], \n",
    "                                         std=[0.229, 0.224, 0.225])\n",
    "                                    ])"
   ],
   "id": "3f3d9f4ae2160b31"
  },
  {
   "cell_type": "markdown",
   "metadata": {},
   "source": [
    "### 载入测试图像"
   ],
   "id": "137708fc3bb5841"
  },
  {
   "cell_type": "code",
   "execution_count": 10,
   "metadata": {},
   "outputs": [],
   "source": [
    "img_path = 'test_bananan.jpg'"
   ],
   "id": "7c8e42fcc957019e"
  },
  {
   "cell_type": "code",
   "execution_count": 11,
   "metadata": {},
   "outputs": [],
   "source": [
    "# 用 pillow 载入\n",
    "img_pil = Image.open(img_path)"
   ],
   "id": "ba5c92760d4a96b2"
  },
  {
   "cell_type": "code",
   "execution_count": 14,
   "metadata": {},
   "outputs": [],
   "source": [
    "# img_pil"
   ],
   "id": "4a09d39fee80beaa"
  },
  {
   "cell_type": "markdown",
   "metadata": {},
   "source": [
    "## 运行预处理"
   ],
   "id": "29f336ac54528986"
  },
  {
   "cell_type": "code",
   "execution_count": 15,
   "metadata": {},
   "outputs": [],
   "source": [
    "input_img = test_transform(img_pil)"
   ],
   "id": "9372d71dba572dd0"
  },
  {
   "cell_type": "code",
   "execution_count": 16,
   "metadata": {},
   "outputs": [
    {
     "data": {
      "text/plain": [
       "torch.Size([3, 256, 256])"
      ]
     },
     "execution_count": 16,
     "metadata": {},
     "output_type": "execute_result"
    }
   ],
   "source": [
    "input_img.shape"
   ],
   "id": "ccfc0b794b84a69c"
  },
  {
   "cell_type": "code",
   "execution_count": 17,
   "metadata": {},
   "outputs": [],
   "source": [
    "input_tensor = input_img.unsqueeze(0).numpy()"
   ],
   "id": "8935d9b17a9fd83c"
  },
  {
   "cell_type": "code",
   "execution_count": 18,
   "metadata": {},
   "outputs": [
    {
     "data": {
      "text/plain": [
       "(1, 3, 256, 256)"
      ]
     },
     "execution_count": 18,
     "metadata": {},
     "output_type": "execute_result"
    }
   ],
   "source": [
    "input_tensor.shape"
   ],
   "id": "5bd090325bbb156"
  },
  {
   "cell_type": "markdown",
   "metadata": {},
   "source": [
    "## ONNX Runtime预测"
   ],
   "id": "9429da9577c1b634"
  },
  {
   "cell_type": "code",
   "execution_count": 19,
   "metadata": {},
   "outputs": [],
   "source": [
    "# ONNX Runtime 输入\n",
    "ort_inputs = {'input': input_tensor}"
   ],
   "id": "c92ebbd387923d6a"
  },
  {
   "cell_type": "code",
   "execution_count": 20,
   "metadata": {},
   "outputs": [],
   "source": [
    "# ONNX Runtime 输出\n",
    "pred_logits = ort_session.run(['output'], ort_inputs)[0]\n",
    "pred_logits = torch.tensor(pred_logits)"
   ],
   "id": "9b0228cf221a8581"
  },
  {
   "cell_type": "code",
   "execution_count": 21,
   "metadata": {},
   "outputs": [
    {
     "data": {
      "text/plain": [
       "torch.Size([1, 30])"
      ]
     },
     "execution_count": 21,
     "metadata": {},
     "output_type": "execute_result"
    }
   ],
   "source": [
    "pred_logits.shape"
   ],
   "id": "f04f6f499f8f168a"
  },
  {
   "cell_type": "code",
   "execution_count": 22,
   "metadata": {},
   "outputs": [],
   "source": [
    "pred_softmax = F.softmax(pred_logits, dim=1) # 对 logit 分数做 softmax 运算"
   ],
   "id": "5cbd029a18e11240"
  },
  {
   "cell_type": "code",
   "execution_count": 23,
   "metadata": {},
   "outputs": [
    {
     "data": {
      "text/plain": [
       "torch.Size([1, 30])"
      ]
     },
     "execution_count": 23,
     "metadata": {},
     "output_type": "execute_result"
    }
   ],
   "source": [
    "pred_softmax.shape"
   ],
   "id": "acf816e1fee75850"
  },
  {
   "cell_type": "markdown",
   "metadata": {},
   "source": [
    "## 解析预测结果"
   ],
   "id": "66fb7ad18a30539f"
  },
  {
   "cell_type": "code",
   "execution_count": 24,
   "metadata": {},
   "outputs": [],
   "source": [
    "# 取置信度最大的 n 个结果\n",
    "n = 3"
   ],
   "id": "1ee70a9d899e1b96"
  },
  {
   "cell_type": "code",
   "execution_count": 25,
   "metadata": {},
   "outputs": [],
   "source": [
    "top_n = torch.topk(pred_softmax, n)"
   ],
   "id": "f5eafda976136551"
  },
  {
   "cell_type": "code",
   "execution_count": 26,
   "metadata": {},
   "outputs": [
    {
     "data": {
      "text/plain": [
       "torch.return_types.topk(\n",
       "values=tensor([[9.9972e-01, 1.1216e-04, 5.0886e-05]]),\n",
       "indices=tensor([[28,  8, 29]]))"
      ]
     },
     "execution_count": 26,
     "metadata": {},
     "output_type": "execute_result"
    }
   ],
   "source": [
    "top_n"
   ],
   "id": "8285bf73cd794e9c"
  },
  {
   "cell_type": "code",
   "execution_count": 27,
   "metadata": {},
   "outputs": [],
   "source": [
    "# 预测类别\n",
    "pred_ids = top_n.indices.numpy()[0]"
   ],
   "id": "21e5c8f3b2919ec2"
  },
  {
   "cell_type": "code",
   "execution_count": 28,
   "metadata": {},
   "outputs": [
    {
     "data": {
      "text/plain": [
       "array([28,  8, 29])"
      ]
     },
     "execution_count": 28,
     "metadata": {},
     "output_type": "execute_result"
    }
   ],
   "source": [
    "pred_ids"
   ],
   "id": "97e7b5f213e86cc3"
  },
  {
   "cell_type": "code",
   "execution_count": 29,
   "metadata": {},
   "outputs": [],
   "source": [
    "# 预测置信度\n",
    "confs = top_n.values.numpy()[0]"
   ],
   "id": "91dd5ccdf9079c7e"
  },
  {
   "cell_type": "code",
   "execution_count": 30,
   "metadata": {},
   "outputs": [
    {
     "data": {
      "text/plain": [
       "array([9.9972135e-01, 1.1216481e-04, 5.0885566e-05], dtype=float32)"
      ]
     },
     "execution_count": 30,
     "metadata": {},
     "output_type": "execute_result"
    }
   ],
   "source": [
    "confs"
   ],
   "id": "4abbf2ad0b54d66"
  },
  {
   "cell_type": "markdown",
   "metadata": {},
   "source": [
    "## 打印预测结果"
   ],
   "id": "43fccf28789fd1ab"
  },
  {
   "cell_type": "code",
   "execution_count": 31,
   "metadata": {},
   "outputs": [],
   "source": [
    "# 载入类别和对应 ID\n",
    "idx_to_labels = np.load('idx_to_labels.npy', allow_pickle=True).item()"
   ],
   "id": "b18d49423f6f40f5"
  },
  {
   "cell_type": "code",
   "execution_count": 33,
   "metadata": {},
   "outputs": [],
   "source": [
    "# idx_to_labels"
   ],
   "id": "bb67cd90772fa3fb"
  },
  {
   "cell_type": "code",
   "execution_count": 34,
   "metadata": {},
   "outputs": [
    {
     "name": "stdout",
     "output_type": "stream",
     "text": [
      "香蕉     99.972\n",
      "椰子     0.011\n",
      "黄瓜     0.005\n"
     ]
    }
   ],
   "source": [
    "for i in range(n):\n",
    "    class_name = idx_to_labels[pred_ids[i]] # 获取类别名称\n",
    "    confidence = confs[i] * 100             # 获取置信度\n",
    "    text = '{:<6} {:>.3f}'.format(class_name, confidence)\n",
    "    print(text)"
   ],
   "id": "db456bbe437c94aa"
  },
  {
   "cell_type": "code",
   "execution_count": null,
   "metadata": {},
   "outputs": [],
   "source": [],
   "id": "4819547580fdd752"
  }
 ],
 "metadata": {
  "kernelspec": {
   "display_name": "Python 3",
   "language": "python",
   "name": "python3"
  },
  "language_info": {
   "codemirror_mode": {
    "name": "ipython",
    "version": 3
   },
   "file_extension": ".py",
   "mimetype": "text/x-python",
   "name": "python",
   "nbconvert_exporter": "python",
   "pygments_lexer": "ipython3",
   "version": "3.7.2"
  }
 },
 "nbformat": 4,
 "nbformat_minor": 5
}
