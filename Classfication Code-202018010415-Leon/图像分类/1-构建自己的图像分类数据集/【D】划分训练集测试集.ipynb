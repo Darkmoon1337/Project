{
 "cells": [
  {
   "cell_type": "markdown",
   "id": "65f90911-c910-4cb9-ab55-ad41e3ffd568",
   "metadata": {},
   "source": [
    "# 划分训练集和测试集\n",
    "\n",
    "同济子豪兄 https://space.bilibili.com/1900783\n",
    "\n",
    "代码运行[云GPU平台](https://featurize.cn/?s=d7ce99f842414bfcaea5662a97581bd1)\n",
    "\n",
    "2022-7-22"
   ]
  },
  {
   "cell_type": "markdown",
   "id": "aa621a92-e18e-46a0-aefb-5e57d4374f7b",
   "metadata": {},
   "source": [
    "## 导入工具包"
   ]
  },
  {
   "cell_type": "code",
   "execution_count": 1,
   "id": "acfeb9c9-2a3e-45cf-bd07-3472d09519d6",
   "metadata": {
    "ExecuteTime": {
     "end_time": "2024-04-24T05:20:06.837302800Z",
     "start_time": "2024-04-24T05:19:52.170750200Z"
    }
   },
   "outputs": [],
   "source": [
    "import os\n",
    "import shutil\n",
    "import random\n",
    "import pandas as pd"
   ]
  },
  {
   "cell_type": "markdown",
   "id": "ea237880-2fa1-4aff-a1d3-56e616f6a897",
   "metadata": {},
   "source": [
    "## 获得所有类别名称"
   ]
  },
  {
   "cell_type": "code",
   "execution_count": 2,
   "id": "512a0bda-f31f-4f26-b727-85369eebca48",
   "metadata": {
    "ExecuteTime": {
     "end_time": "2024-04-24T05:23:41.826846500Z",
     "start_time": "2024-04-24T05:23:41.802514600Z"
    }
   },
   "outputs": [],
   "source": [
    "# 指定数据集路径\n",
    "dataset_path = 'D:\\dataset\\OR'"
   ]
  },
  {
   "cell_type": "code",
   "execution_count": 3,
   "id": "a59265d8-848b-45d4-9cb1-5d43c81f8e6a",
   "metadata": {
    "ExecuteTime": {
     "end_time": "2024-04-24T05:23:44.083574600Z",
     "start_time": "2024-04-24T05:23:44.059741700Z"
    }
   },
   "outputs": [
    {
     "name": "stdout",
     "output_type": "stream",
     "text": [
      "数据集 D:\\dataset\\OR\n"
     ]
    }
   ],
   "source": [
    "dataset_name = dataset_path.split('_')[0]\n",
    "print('数据集', dataset_name)"
   ]
  },
  {
   "cell_type": "code",
   "execution_count": 4,
   "id": "3b62be1b-f42a-4477-8b44-2dd12817e44f",
   "metadata": {
    "ExecuteTime": {
     "end_time": "2024-04-24T05:23:45.795063Z",
     "start_time": "2024-04-24T05:23:45.771376200Z"
    }
   },
   "outputs": [],
   "source": [
    "classes = os.listdir(dataset_path)"
   ]
  },
  {
   "cell_type": "code",
   "execution_count": 5,
   "id": "a51ea20e-ba30-499d-8d93-b6448e584465",
   "metadata": {
    "ExecuteTime": {
     "end_time": "2024-04-24T05:23:47.155153600Z",
     "start_time": "2024-04-24T05:23:47.132744700Z"
    }
   },
   "outputs": [
    {
     "data": {
      "text/plain": "2"
     },
     "execution_count": 5,
     "metadata": {},
     "output_type": "execute_result"
    }
   ],
   "source": [
    "len(classes)"
   ]
  },
  {
   "cell_type": "code",
   "execution_count": 6,
   "id": "af01e960-d178-4cff-bc8b-ce1520d642c1",
   "metadata": {
    "ExecuteTime": {
     "end_time": "2024-04-24T05:23:48.484700Z",
     "start_time": "2024-04-24T05:23:48.447034300Z"
    }
   },
   "outputs": [
    {
     "data": {
      "text/plain": "['Parasitized', 'Uninfected']"
     },
     "execution_count": 6,
     "metadata": {},
     "output_type": "execute_result"
    }
   ],
   "source": [
    "classes"
   ]
  },
  {
   "cell_type": "markdown",
   "id": "a6b4d257-5bdc-4830-bb34-6936e04916ad",
   "metadata": {},
   "source": [
    "## 创建训练集文件夹和测试集文件夹"
   ]
  },
  {
   "cell_type": "code",
   "execution_count": 14,
   "id": "522222b5-9128-420d-a134-fb0b4cdc38ca",
   "metadata": {
    "ExecuteTime": {
     "end_time": "2024-04-24T05:42:56.948183400Z",
     "start_time": "2024-04-24T05:42:56.911614Z"
    }
   },
   "outputs": [],
   "source": [
    "# 创建 train 文件夹\n",
    "os.mkdir(os.path.join(dataset_path, 'train'))\n",
    "\n",
    "# 创建 test 文件夹\n",
    "os.mkdir(os.path.join(dataset_path, 'val'))\n",
    "\n",
    "# 在 train 和 test 文件夹中创建各类别子文件夹\n",
    "for fruit in classes:\n",
    "    os.mkdir(os.path.join(dataset_path, 'train', fruit))\n",
    "    os.mkdir(os.path.join(dataset_path, 'val', fruit))"
   ]
  },
  {
   "cell_type": "markdown",
   "id": "b890d0aa-4563-4f92-ac35-771acb588604",
   "metadata": {},
   "source": [
    "## 划分训练集、测试集，移动文件"
   ]
  },
  {
   "cell_type": "code",
   "execution_count": 15,
   "id": "eb2ad0c2-e3c6-481c-8589-51cdd2aeb516",
   "metadata": {
    "ExecuteTime": {
     "end_time": "2024-04-24T05:42:59.223729700Z",
     "start_time": "2024-04-24T05:42:59.194941200Z"
    }
   },
   "outputs": [],
   "source": [
    "test_frac = 0.2  # 测试集比例\n",
    "random.seed(123) # 随机数种子，便于复现"
   ]
  },
  {
   "cell_type": "code",
   "execution_count": 9,
   "id": "3ef9944c-a36d-4d62-a38b-78faa33fb9f1",
   "metadata": {
    "ExecuteTime": {
     "end_time": "2024-04-24T05:24:11.876891300Z",
     "start_time": "2024-04-24T05:24:03.545093500Z"
    }
   },
   "outputs": [
    {
     "name": "stdout",
     "output_type": "stream",
     "text": [
      "        类别              训练集数据个数            测试集数据个数      \n",
      "   Parasitized           11024               2755       \n"
     ]
    },
    {
     "ename": "AttributeError",
     "evalue": "'DataFrame' object has no attribute 'append'",
     "output_type": "error",
     "traceback": [
      "\u001B[1;31m---------------------------------------------------------------------------\u001B[0m",
      "\u001B[1;31mAttributeError\u001B[0m                            Traceback (most recent call last)",
      "Cell \u001B[1;32mIn[9], line 37\u001B[0m\n\u001B[0;32m     34\u001B[0m     \u001B[38;5;28mprint\u001B[39m(\u001B[38;5;124m'\u001B[39m\u001B[38;5;132;01m{:^18}\u001B[39;00m\u001B[38;5;124m \u001B[39m\u001B[38;5;132;01m{:^18}\u001B[39;00m\u001B[38;5;124m \u001B[39m\u001B[38;5;132;01m{:^18}\u001B[39;00m\u001B[38;5;124m'\u001B[39m\u001B[38;5;241m.\u001B[39mformat(fruit, \u001B[38;5;28mlen\u001B[39m(trainset_images), \u001B[38;5;28mlen\u001B[39m(testset_images)))\n\u001B[0;32m     36\u001B[0m     \u001B[38;5;66;03m# 保存到表格中\u001B[39;00m\n\u001B[1;32m---> 37\u001B[0m     df \u001B[38;5;241m=\u001B[39m \u001B[43mdf\u001B[49m\u001B[38;5;241;43m.\u001B[39;49m\u001B[43mappend\u001B[49m({\u001B[38;5;124m'\u001B[39m\u001B[38;5;124mclass\u001B[39m\u001B[38;5;124m'\u001B[39m:fruit, \u001B[38;5;124m'\u001B[39m\u001B[38;5;124mtrainset\u001B[39m\u001B[38;5;124m'\u001B[39m:\u001B[38;5;28mlen\u001B[39m(trainset_images), \u001B[38;5;124m'\u001B[39m\u001B[38;5;124mtestset\u001B[39m\u001B[38;5;124m'\u001B[39m:\u001B[38;5;28mlen\u001B[39m(testset_images)}, ignore_index\u001B[38;5;241m=\u001B[39m\u001B[38;5;28;01mTrue\u001B[39;00m)\n\u001B[0;32m     39\u001B[0m \u001B[38;5;66;03m# 重命名数据集文件夹\u001B[39;00m\n\u001B[0;32m     40\u001B[0m shutil\u001B[38;5;241m.\u001B[39mmove(dataset_path, dataset_name\u001B[38;5;241m+\u001B[39m\u001B[38;5;124m'\u001B[39m\u001B[38;5;124m_split\u001B[39m\u001B[38;5;124m'\u001B[39m)\n",
      "File \u001B[1;32mD:\\Software\\anaconda\\envs\\Pytorch\\lib\\site-packages\\pandas\\core\\generic.py:6296\u001B[0m, in \u001B[0;36mNDFrame.__getattr__\u001B[1;34m(self, name)\u001B[0m\n\u001B[0;32m   6289\u001B[0m \u001B[38;5;28;01mif\u001B[39;00m (\n\u001B[0;32m   6290\u001B[0m     name \u001B[38;5;129;01mnot\u001B[39;00m \u001B[38;5;129;01min\u001B[39;00m \u001B[38;5;28mself\u001B[39m\u001B[38;5;241m.\u001B[39m_internal_names_set\n\u001B[0;32m   6291\u001B[0m     \u001B[38;5;129;01mand\u001B[39;00m name \u001B[38;5;129;01mnot\u001B[39;00m \u001B[38;5;129;01min\u001B[39;00m \u001B[38;5;28mself\u001B[39m\u001B[38;5;241m.\u001B[39m_metadata\n\u001B[0;32m   6292\u001B[0m     \u001B[38;5;129;01mand\u001B[39;00m name \u001B[38;5;129;01mnot\u001B[39;00m \u001B[38;5;129;01min\u001B[39;00m \u001B[38;5;28mself\u001B[39m\u001B[38;5;241m.\u001B[39m_accessors\n\u001B[0;32m   6293\u001B[0m     \u001B[38;5;129;01mand\u001B[39;00m \u001B[38;5;28mself\u001B[39m\u001B[38;5;241m.\u001B[39m_info_axis\u001B[38;5;241m.\u001B[39m_can_hold_identifiers_and_holds_name(name)\n\u001B[0;32m   6294\u001B[0m ):\n\u001B[0;32m   6295\u001B[0m     \u001B[38;5;28;01mreturn\u001B[39;00m \u001B[38;5;28mself\u001B[39m[name]\n\u001B[1;32m-> 6296\u001B[0m \u001B[38;5;28;01mreturn\u001B[39;00m \u001B[38;5;28;43mobject\u001B[39;49m\u001B[38;5;241;43m.\u001B[39;49m\u001B[38;5;21;43m__getattribute__\u001B[39;49m\u001B[43m(\u001B[49m\u001B[38;5;28;43mself\u001B[39;49m\u001B[43m,\u001B[49m\u001B[43m \u001B[49m\u001B[43mname\u001B[49m\u001B[43m)\u001B[49m\n",
      "\u001B[1;31mAttributeError\u001B[0m: 'DataFrame' object has no attribute 'append'"
     ]
    }
   ],
   "source": [
    "df = pd.DataFrame()\n",
    "\n",
    "print('{:^18} {:^18} {:^18}'.format('类别', '训练集数据个数', '测试集数据个数'))\n",
    "\n",
    "for fruit in classes: # 遍历每个类别\n",
    "\n",
    "    # 读取该类别的所有图像文件名\n",
    "    old_dir = os.path.join(dataset_path, fruit)\n",
    "    images_filename = os.listdir(old_dir)\n",
    "    random.shuffle(images_filename) # 随机打乱\n",
    "\n",
    "    # 划分训练集和测试集\n",
    "    testset_numer = int(len(images_filename) * test_frac) # 测试集图像个数\n",
    "    testset_images = images_filename[:testset_numer]      # 获取拟移动至 test 目录的测试集图像文件名\n",
    "    trainset_images = images_filename[testset_numer:]     # 获取拟移动至 train 目录的训练集图像文件名\n",
    "\n",
    "    # 移动图像至 test 目录\n",
    "    for image in testset_images:\n",
    "        old_img_path = os.path.join(dataset_path, fruit, image)         # 获取原始文件路径\n",
    "        new_test_path = os.path.join(dataset_path, 'val', fruit, image) # 获取 test 目录的新文件路径\n",
    "        shutil.move(old_img_path, new_test_path) # 移动文件\n",
    "\n",
    "    # 移动图像至 train 目录\n",
    "    for image in trainset_images:\n",
    "        old_img_path = os.path.join(dataset_path, fruit, image)           # 获取原始文件路径\n",
    "        new_train_path = os.path.join(dataset_path, 'train', fruit, image) # 获取 train 目录的新文件路径\n",
    "        shutil.move(old_img_path, new_train_path) # 移动文件\n",
    "    \n",
    "    # 删除旧文件夹\n",
    "    assert len(os.listdir(old_dir)) == 0 # 确保旧文件夹中的所有图像都被移动走\n",
    "    shutil.rmtree(old_dir) # 删除文件夹\n",
    "    \n",
    "    # 工整地输出每一类别的数据个数\n",
    "    print('{:^18} {:^18} {:^18}'.format(fruit, len(trainset_images), len(testset_images)))\n",
    "    \n",
    "    # 保存到表格中\n",
    "    df = df.append({'class':fruit, 'trainset':len(trainset_images), 'testset':len(testset_images)}, ignore_index=True)\n",
    "\n",
    "# 重命名数据集文件夹\n",
    "shutil.move(dataset_path, dataset_name+'_split')\n",
    "\n",
    "# 数据集各类别数量统计表格，导出为 csv 文件\n",
    "df['total'] = df['trainset'] + df['testset']\n",
    "df.to_csv('数据量统计.csv', index=False)"
   ]
  },
  {
   "cell_type": "code",
   "execution_count": 17,
   "outputs": [
    {
     "name": "stdout",
     "output_type": "stream",
     "text": [
      "        类别              训练集数据个数            测试集数据个数      \n",
      "   Parasitized           11024               2755       \n",
      "    Uninfected           11024               2755       \n"
     ]
    },
    {
     "ename": "KeyboardInterrupt",
     "evalue": "",
     "output_type": "error",
     "traceback": [
      "\u001B[1;31m---------------------------------------------------------------------------\u001B[0m",
      "\u001B[1;31mOSError\u001B[0m                                   Traceback (most recent call last)",
      "File \u001B[1;32mD:\\Software\\anaconda\\envs\\Pytorch\\lib\\shutil.py:825\u001B[0m, in \u001B[0;36mmove\u001B[1;34m(src, dst, copy_function)\u001B[0m\n\u001B[0;32m    824\u001B[0m \u001B[38;5;28;01mtry\u001B[39;00m:\n\u001B[1;32m--> 825\u001B[0m     \u001B[43mos\u001B[49m\u001B[38;5;241;43m.\u001B[39;49m\u001B[43mrename\u001B[49m\u001B[43m(\u001B[49m\u001B[43msrc\u001B[49m\u001B[43m,\u001B[49m\u001B[43m \u001B[49m\u001B[43mreal_dst\u001B[49m\u001B[43m)\u001B[49m\n\u001B[0;32m    826\u001B[0m \u001B[38;5;28;01mexcept\u001B[39;00m \u001B[38;5;167;01mOSError\u001B[39;00m:\n",
      "\u001B[1;31mOSError\u001B[0m: [WinError 17] The system cannot move the file to a different disk drive: 'D:\\\\dataset\\\\OR' -> 'or2_split'",
      "\nDuring handling of the above exception, another exception occurred:\n",
      "\u001B[1;31mKeyboardInterrupt\u001B[0m                         Traceback (most recent call last)",
      "Cell \u001B[1;32mIn[17], line 47\u001B[0m\n\u001B[0;32m     45\u001B[0m \u001B[38;5;66;03m# 重命名数据集文件夹\u001B[39;00m\n\u001B[0;32m     46\u001B[0m new_dataset_path \u001B[38;5;241m=\u001B[39m dataset_name \u001B[38;5;241m+\u001B[39m \u001B[38;5;124m'\u001B[39m\u001B[38;5;124m_split\u001B[39m\u001B[38;5;124m'\u001B[39m\n\u001B[1;32m---> 47\u001B[0m \u001B[43mshutil\u001B[49m\u001B[38;5;241;43m.\u001B[39;49m\u001B[43mmove\u001B[49m\u001B[43m(\u001B[49m\u001B[43mdataset_path\u001B[49m\u001B[43m,\u001B[49m\u001B[43m \u001B[49m\u001B[43mnew_dataset_path\u001B[49m\u001B[43m)\u001B[49m\n\u001B[0;32m     49\u001B[0m \u001B[38;5;66;03m# 添加总数列和保存 CSV\u001B[39;00m\n\u001B[0;32m     50\u001B[0m df[\u001B[38;5;124m'\u001B[39m\u001B[38;5;124mtotal\u001B[39m\u001B[38;5;124m'\u001B[39m] \u001B[38;5;241m=\u001B[39m df[\u001B[38;5;124m'\u001B[39m\u001B[38;5;124mtrainset\u001B[39m\u001B[38;5;124m'\u001B[39m] \u001B[38;5;241m+\u001B[39m df[\u001B[38;5;124m'\u001B[39m\u001B[38;5;124mtestset\u001B[39m\u001B[38;5;124m'\u001B[39m]\n",
      "File \u001B[1;32mD:\\Software\\anaconda\\envs\\Pytorch\\lib\\shutil.py:841\u001B[0m, in \u001B[0;36mmove\u001B[1;34m(src, dst, copy_function)\u001B[0m\n\u001B[0;32m    835\u001B[0m     \u001B[38;5;28;01mif\u001B[39;00m (_is_immutable(src)\n\u001B[0;32m    836\u001B[0m             \u001B[38;5;129;01mor\u001B[39;00m (\u001B[38;5;129;01mnot\u001B[39;00m os\u001B[38;5;241m.\u001B[39maccess(src, os\u001B[38;5;241m.\u001B[39mW_OK) \u001B[38;5;129;01mand\u001B[39;00m os\u001B[38;5;241m.\u001B[39mlistdir(src)\n\u001B[0;32m    837\u001B[0m                 \u001B[38;5;129;01mand\u001B[39;00m sys\u001B[38;5;241m.\u001B[39mplatform \u001B[38;5;241m==\u001B[39m \u001B[38;5;124m'\u001B[39m\u001B[38;5;124mdarwin\u001B[39m\u001B[38;5;124m'\u001B[39m)):\n\u001B[0;32m    838\u001B[0m         \u001B[38;5;28;01mraise\u001B[39;00m \u001B[38;5;167;01mPermissionError\u001B[39;00m(\u001B[38;5;124m\"\u001B[39m\u001B[38;5;124mCannot move the non-empty directory \u001B[39m\u001B[38;5;124m\"\u001B[39m\n\u001B[0;32m    839\u001B[0m                               \u001B[38;5;124m\"\u001B[39m\u001B[38;5;124m'\u001B[39m\u001B[38;5;132;01m%s\u001B[39;00m\u001B[38;5;124m'\u001B[39m\u001B[38;5;124m: Lacking write permission to \u001B[39m\u001B[38;5;124m'\u001B[39m\u001B[38;5;132;01m%s\u001B[39;00m\u001B[38;5;124m'\u001B[39m\u001B[38;5;124m.\u001B[39m\u001B[38;5;124m\"\u001B[39m\n\u001B[0;32m    840\u001B[0m                               \u001B[38;5;241m%\u001B[39m (src, src))\n\u001B[1;32m--> 841\u001B[0m     \u001B[43mcopytree\u001B[49m\u001B[43m(\u001B[49m\u001B[43msrc\u001B[49m\u001B[43m,\u001B[49m\u001B[43m \u001B[49m\u001B[43mreal_dst\u001B[49m\u001B[43m,\u001B[49m\u001B[43m \u001B[49m\u001B[43mcopy_function\u001B[49m\u001B[38;5;241;43m=\u001B[39;49m\u001B[43mcopy_function\u001B[49m\u001B[43m,\u001B[49m\n\u001B[0;32m    842\u001B[0m \u001B[43m             \u001B[49m\u001B[43msymlinks\u001B[49m\u001B[38;5;241;43m=\u001B[39;49m\u001B[38;5;28;43;01mTrue\u001B[39;49;00m\u001B[43m)\u001B[49m\n\u001B[0;32m    843\u001B[0m     rmtree(src)\n\u001B[0;32m    844\u001B[0m \u001B[38;5;28;01melse\u001B[39;00m:\n",
      "File \u001B[1;32mD:\\Software\\anaconda\\envs\\Pytorch\\lib\\shutil.py:568\u001B[0m, in \u001B[0;36mcopytree\u001B[1;34m(src, dst, symlinks, ignore, copy_function, ignore_dangling_symlinks, dirs_exist_ok)\u001B[0m\n\u001B[0;32m    566\u001B[0m \u001B[38;5;28;01mwith\u001B[39;00m os\u001B[38;5;241m.\u001B[39mscandir(src) \u001B[38;5;28;01mas\u001B[39;00m itr:\n\u001B[0;32m    567\u001B[0m     entries \u001B[38;5;241m=\u001B[39m \u001B[38;5;28mlist\u001B[39m(itr)\n\u001B[1;32m--> 568\u001B[0m \u001B[38;5;28;01mreturn\u001B[39;00m \u001B[43m_copytree\u001B[49m\u001B[43m(\u001B[49m\u001B[43mentries\u001B[49m\u001B[38;5;241;43m=\u001B[39;49m\u001B[43mentries\u001B[49m\u001B[43m,\u001B[49m\u001B[43m \u001B[49m\u001B[43msrc\u001B[49m\u001B[38;5;241;43m=\u001B[39;49m\u001B[43msrc\u001B[49m\u001B[43m,\u001B[49m\u001B[43m \u001B[49m\u001B[43mdst\u001B[49m\u001B[38;5;241;43m=\u001B[39;49m\u001B[43mdst\u001B[49m\u001B[43m,\u001B[49m\u001B[43m \u001B[49m\u001B[43msymlinks\u001B[49m\u001B[38;5;241;43m=\u001B[39;49m\u001B[43msymlinks\u001B[49m\u001B[43m,\u001B[49m\n\u001B[0;32m    569\u001B[0m \u001B[43m                 \u001B[49m\u001B[43mignore\u001B[49m\u001B[38;5;241;43m=\u001B[39;49m\u001B[43mignore\u001B[49m\u001B[43m,\u001B[49m\u001B[43m \u001B[49m\u001B[43mcopy_function\u001B[49m\u001B[38;5;241;43m=\u001B[39;49m\u001B[43mcopy_function\u001B[49m\u001B[43m,\u001B[49m\n\u001B[0;32m    570\u001B[0m \u001B[43m                 \u001B[49m\u001B[43mignore_dangling_symlinks\u001B[49m\u001B[38;5;241;43m=\u001B[39;49m\u001B[43mignore_dangling_symlinks\u001B[49m\u001B[43m,\u001B[49m\n\u001B[0;32m    571\u001B[0m \u001B[43m                 \u001B[49m\u001B[43mdirs_exist_ok\u001B[49m\u001B[38;5;241;43m=\u001B[39;49m\u001B[43mdirs_exist_ok\u001B[49m\u001B[43m)\u001B[49m\n",
      "File \u001B[1;32mD:\\Software\\anaconda\\envs\\Pytorch\\lib\\shutil.py:504\u001B[0m, in \u001B[0;36m_copytree\u001B[1;34m(entries, src, dst, symlinks, ignore, copy_function, ignore_dangling_symlinks, dirs_exist_ok)\u001B[0m\n\u001B[0;32m    502\u001B[0m             copy_function(srcobj, dstname)\n\u001B[0;32m    503\u001B[0m \u001B[38;5;28;01melif\u001B[39;00m srcentry\u001B[38;5;241m.\u001B[39mis_dir():\n\u001B[1;32m--> 504\u001B[0m     \u001B[43mcopytree\u001B[49m\u001B[43m(\u001B[49m\u001B[43msrcobj\u001B[49m\u001B[43m,\u001B[49m\u001B[43m \u001B[49m\u001B[43mdstname\u001B[49m\u001B[43m,\u001B[49m\u001B[43m \u001B[49m\u001B[43msymlinks\u001B[49m\u001B[43m,\u001B[49m\u001B[43m \u001B[49m\u001B[43mignore\u001B[49m\u001B[43m,\u001B[49m\u001B[43m \u001B[49m\u001B[43mcopy_function\u001B[49m\u001B[43m,\u001B[49m\n\u001B[0;32m    505\u001B[0m \u001B[43m             \u001B[49m\u001B[43mdirs_exist_ok\u001B[49m\u001B[38;5;241;43m=\u001B[39;49m\u001B[43mdirs_exist_ok\u001B[49m\u001B[43m)\u001B[49m\n\u001B[0;32m    506\u001B[0m \u001B[38;5;28;01melse\u001B[39;00m:\n\u001B[0;32m    507\u001B[0m     \u001B[38;5;66;03m# Will raise a SpecialFileError for unsupported file types\u001B[39;00m\n\u001B[0;32m    508\u001B[0m     copy_function(srcobj, dstname)\n",
      "File \u001B[1;32mD:\\Software\\anaconda\\envs\\Pytorch\\lib\\shutil.py:568\u001B[0m, in \u001B[0;36mcopytree\u001B[1;34m(src, dst, symlinks, ignore, copy_function, ignore_dangling_symlinks, dirs_exist_ok)\u001B[0m\n\u001B[0;32m    566\u001B[0m \u001B[38;5;28;01mwith\u001B[39;00m os\u001B[38;5;241m.\u001B[39mscandir(src) \u001B[38;5;28;01mas\u001B[39;00m itr:\n\u001B[0;32m    567\u001B[0m     entries \u001B[38;5;241m=\u001B[39m \u001B[38;5;28mlist\u001B[39m(itr)\n\u001B[1;32m--> 568\u001B[0m \u001B[38;5;28;01mreturn\u001B[39;00m \u001B[43m_copytree\u001B[49m\u001B[43m(\u001B[49m\u001B[43mentries\u001B[49m\u001B[38;5;241;43m=\u001B[39;49m\u001B[43mentries\u001B[49m\u001B[43m,\u001B[49m\u001B[43m \u001B[49m\u001B[43msrc\u001B[49m\u001B[38;5;241;43m=\u001B[39;49m\u001B[43msrc\u001B[49m\u001B[43m,\u001B[49m\u001B[43m \u001B[49m\u001B[43mdst\u001B[49m\u001B[38;5;241;43m=\u001B[39;49m\u001B[43mdst\u001B[49m\u001B[43m,\u001B[49m\u001B[43m \u001B[49m\u001B[43msymlinks\u001B[49m\u001B[38;5;241;43m=\u001B[39;49m\u001B[43msymlinks\u001B[49m\u001B[43m,\u001B[49m\n\u001B[0;32m    569\u001B[0m \u001B[43m                 \u001B[49m\u001B[43mignore\u001B[49m\u001B[38;5;241;43m=\u001B[39;49m\u001B[43mignore\u001B[49m\u001B[43m,\u001B[49m\u001B[43m \u001B[49m\u001B[43mcopy_function\u001B[49m\u001B[38;5;241;43m=\u001B[39;49m\u001B[43mcopy_function\u001B[49m\u001B[43m,\u001B[49m\n\u001B[0;32m    570\u001B[0m \u001B[43m                 \u001B[49m\u001B[43mignore_dangling_symlinks\u001B[49m\u001B[38;5;241;43m=\u001B[39;49m\u001B[43mignore_dangling_symlinks\u001B[49m\u001B[43m,\u001B[49m\n\u001B[0;32m    571\u001B[0m \u001B[43m                 \u001B[49m\u001B[43mdirs_exist_ok\u001B[49m\u001B[38;5;241;43m=\u001B[39;49m\u001B[43mdirs_exist_ok\u001B[49m\u001B[43m)\u001B[49m\n",
      "File \u001B[1;32mD:\\Software\\anaconda\\envs\\Pytorch\\lib\\shutil.py:508\u001B[0m, in \u001B[0;36m_copytree\u001B[1;34m(entries, src, dst, symlinks, ignore, copy_function, ignore_dangling_symlinks, dirs_exist_ok)\u001B[0m\n\u001B[0;32m    504\u001B[0m         copytree(srcobj, dstname, symlinks, ignore, copy_function,\n\u001B[0;32m    505\u001B[0m                  dirs_exist_ok\u001B[38;5;241m=\u001B[39mdirs_exist_ok)\n\u001B[0;32m    506\u001B[0m     \u001B[38;5;28;01melse\u001B[39;00m:\n\u001B[0;32m    507\u001B[0m         \u001B[38;5;66;03m# Will raise a SpecialFileError for unsupported file types\u001B[39;00m\n\u001B[1;32m--> 508\u001B[0m         \u001B[43mcopy_function\u001B[49m\u001B[43m(\u001B[49m\u001B[43msrcobj\u001B[49m\u001B[43m,\u001B[49m\u001B[43m \u001B[49m\u001B[43mdstname\u001B[49m\u001B[43m)\u001B[49m\n\u001B[0;32m    509\u001B[0m \u001B[38;5;66;03m# catch the Error from the recursive copytree so that we can\u001B[39;00m\n\u001B[0;32m    510\u001B[0m \u001B[38;5;66;03m# continue with other files\u001B[39;00m\n\u001B[0;32m    511\u001B[0m \u001B[38;5;28;01mexcept\u001B[39;00m Error \u001B[38;5;28;01mas\u001B[39;00m err:\n",
      "File \u001B[1;32mD:\\Software\\anaconda\\envs\\Pytorch\\lib\\shutil.py:444\u001B[0m, in \u001B[0;36mcopy2\u001B[1;34m(src, dst, follow_symlinks)\u001B[0m\n\u001B[0;32m    442\u001B[0m \u001B[38;5;28;01mif\u001B[39;00m os\u001B[38;5;241m.\u001B[39mpath\u001B[38;5;241m.\u001B[39misdir(dst):\n\u001B[0;32m    443\u001B[0m     dst \u001B[38;5;241m=\u001B[39m os\u001B[38;5;241m.\u001B[39mpath\u001B[38;5;241m.\u001B[39mjoin(dst, os\u001B[38;5;241m.\u001B[39mpath\u001B[38;5;241m.\u001B[39mbasename(src))\n\u001B[1;32m--> 444\u001B[0m \u001B[43mcopyfile\u001B[49m\u001B[43m(\u001B[49m\u001B[43msrc\u001B[49m\u001B[43m,\u001B[49m\u001B[43m \u001B[49m\u001B[43mdst\u001B[49m\u001B[43m,\u001B[49m\u001B[43m \u001B[49m\u001B[43mfollow_symlinks\u001B[49m\u001B[38;5;241;43m=\u001B[39;49m\u001B[43mfollow_symlinks\u001B[49m\u001B[43m)\u001B[49m\n\u001B[0;32m    445\u001B[0m copystat(src, dst, follow_symlinks\u001B[38;5;241m=\u001B[39mfollow_symlinks)\n\u001B[0;32m    446\u001B[0m \u001B[38;5;28;01mreturn\u001B[39;00m dst\n",
      "File \u001B[1;32mD:\\Software\\anaconda\\envs\\Pytorch\\lib\\shutil.py:264\u001B[0m, in \u001B[0;36mcopyfile\u001B[1;34m(src, dst, follow_symlinks)\u001B[0m\n\u001B[0;32m    262\u001B[0m     os\u001B[38;5;241m.\u001B[39msymlink(os\u001B[38;5;241m.\u001B[39mreadlink(src), dst)\n\u001B[0;32m    263\u001B[0m \u001B[38;5;28;01melse\u001B[39;00m:\n\u001B[1;32m--> 264\u001B[0m     \u001B[38;5;28;01mwith\u001B[39;00m \u001B[38;5;28;43mopen\u001B[39;49m\u001B[43m(\u001B[49m\u001B[43msrc\u001B[49m\u001B[43m,\u001B[49m\u001B[43m \u001B[49m\u001B[38;5;124;43m'\u001B[39;49m\u001B[38;5;124;43mrb\u001B[39;49m\u001B[38;5;124;43m'\u001B[39;49m\u001B[43m)\u001B[49m \u001B[38;5;28;01mas\u001B[39;00m fsrc:\n\u001B[0;32m    265\u001B[0m         \u001B[38;5;28;01mtry\u001B[39;00m:\n\u001B[0;32m    266\u001B[0m             \u001B[38;5;28;01mwith\u001B[39;00m \u001B[38;5;28mopen\u001B[39m(dst, \u001B[38;5;124m'\u001B[39m\u001B[38;5;124mwb\u001B[39m\u001B[38;5;124m'\u001B[39m) \u001B[38;5;28;01mas\u001B[39;00m fdst:\n\u001B[0;32m    267\u001B[0m                 \u001B[38;5;66;03m# macOS\u001B[39;00m\n",
      "\u001B[1;31mKeyboardInterrupt\u001B[0m: "
     ]
    }
   ],
   "source": [
    "import os\n",
    "import shutil\n",
    "import random\n",
    "import pandas as pd\n",
    "\n",
    "# 初始设置\n",
    "dataset_path = r'D:\\dataset\\OR'  # 替换为数据集路径\n",
    "dataset_name = 'or2'  # 替换为数据集名称\n",
    "test_frac = 0.2  # 测试集所占比例\n",
    "classes = ['Parasitized', 'Uninfected']  # 替换为实际的类别名称列表\n",
    "\n",
    "# 用于存储每个类别的统计数据\n",
    "data_list = []\n",
    "\n",
    "print('{:^18} {:^18} {:^18}'.format('类别', '训练集数据个数', '测试集数据个数'))\n",
    "\n",
    "for fruit in classes:\n",
    "    old_dir = os.path.join(dataset_path, fruit)\n",
    "    images_filename = os.listdir(old_dir)\n",
    "    random.shuffle(images_filename)\n",
    "\n",
    "    testset_number = int(len(images_filename) * test_frac)\n",
    "    testset_images = images_filename[:testset_number]\n",
    "    trainset_images = images_filename[testset_number:]\n",
    "\n",
    "    for image in testset_images:\n",
    "        old_img_path = os.path.join(old_dir, image)\n",
    "        new_test_path = os.path.join(dataset_path, 'val', fruit, image)\n",
    "        os.makedirs(os.path.dirname(new_test_path), exist_ok=True)\n",
    "        shutil.copy(old_img_path, new_test_path)\n",
    "\n",
    "    for image in trainset_images:\n",
    "        old_img_path = os.path.join(old_dir, image)\n",
    "        new_train_path = os.path.join(dataset_path, 'train', fruit, image)\n",
    "        os.makedirs(os.path.dirname(new_train_path), exist_ok=True)\n",
    "        shutil.copy(old_img_path, new_train_path)\n",
    "\n",
    "    print('{:^18} {:^18} {:^18}'.format(fruit, len(trainset_images), len(testset_images)))\n",
    "\n",
    "    data_list.append({'class': fruit, 'trainset': len(trainset_images), 'testset': len(testset_images)})\n",
    "\n",
    "# 创建 DataFrame\n",
    "df = pd.concat([pd.DataFrame([data]) for data in data_list], ignore_index=True)\n",
    "\n",
    "# 重命名数据集文件夹\n",
    "new_dataset_path = dataset_name + '_split'\n",
    "shutil.move(dataset_path, new_dataset_path)\n",
    "\n",
    "# 添加总数列和保存 CSV\n",
    "df['total'] = df['trainset'] + df['testset']\n",
    "df.to_csv('数据量统计.csv', index=False)\n",
    "\n"
   ],
   "metadata": {
    "collapsed": false,
    "ExecuteTime": {
     "end_time": "2024-04-24T05:47:24.558439400Z",
     "start_time": "2024-04-24T05:43:28.742091900Z"
    }
   },
   "id": "3438be4e6cc43b7e"
  },
  {
   "cell_type": "code",
   "execution_count": 20,
   "id": "2ca80db6-9537-4203-9e1c-8873c473a95c",
   "metadata": {
    "ExecuteTime": {
     "end_time": "2024-04-09T07:06:58.919299200Z",
     "start_time": "2024-04-09T07:06:58.841311800Z"
    }
   },
   "outputs": [
    {
     "data": {
      "text/plain": "         class  trainset  testset\n0  parasitized     11023     2756\n1   uninfected     11023     2756",
      "text/html": "<div>\n<style scoped>\n    .dataframe tbody tr th:only-of-type {\n        vertical-align: middle;\n    }\n\n    .dataframe tbody tr th {\n        vertical-align: top;\n    }\n\n    .dataframe thead th {\n        text-align: right;\n    }\n</style>\n<table border=\"1\" class=\"dataframe\">\n  <thead>\n    <tr style=\"text-align: right;\">\n      <th></th>\n      <th>class</th>\n      <th>trainset</th>\n      <th>testset</th>\n    </tr>\n  </thead>\n  <tbody>\n    <tr>\n      <th>0</th>\n      <td>parasitized</td>\n      <td>11023</td>\n      <td>2756</td>\n    </tr>\n    <tr>\n      <th>1</th>\n      <td>uninfected</td>\n      <td>11023</td>\n      <td>2756</td>\n    </tr>\n  </tbody>\n</table>\n</div>"
     },
     "execution_count": 20,
     "metadata": {},
     "output_type": "execute_result"
    }
   ],
   "source": [
    "df"
   ]
  },
  {
   "cell_type": "markdown",
   "id": "a7f90207-20e0-4de0-a916-73422856b095",
   "metadata": {},
   "source": [
    "## 查看文件目录结构"
   ]
  },
  {
   "cell_type": "code",
   "execution_count": 16,
   "id": "e435f029-f876-4423-841c-ecb4fd34ee09",
   "metadata": {},
   "outputs": [],
   "source": [
    "!sudo snap install tree"
   ]
  },
  {
   "cell_type": "code",
   "execution_count": 27,
   "id": "00bb2504-b4f5-40c9-9572-7c9123d3b38d",
   "metadata": {},
   "outputs": [
    {
     "name": "stdout",
     "output_type": "stream",
     "text": [
      "\u001B[01;34mfruit81_split\u001B[00m\n",
      "├── \u001B[01;34mtrain\u001B[00m\n",
      "│   ├── \u001B[01;34m人参果\u001B[00m\n",
      "│   ├── \u001B[01;34m佛手瓜\u001B[00m\n",
      "│   ├── \u001B[01;34m哈密瓜\u001B[00m\n",
      "│   ├── \u001B[01;34m圣女果\u001B[00m\n",
      "│   ├── \u001B[01;34m山楂\u001B[00m\n",
      "│   ├── \u001B[01;34m山竹\u001B[00m\n",
      "│   ├── \u001B[01;34m无花果\u001B[00m\n",
      "│   ├── \u001B[01;34m木瓜\u001B[00m\n",
      "│   ├── \u001B[01;34m李子\u001B[00m\n",
      "│   ├── \u001B[01;34m杏\u001B[00m\n",
      "│   ├── \u001B[01;34m杨桃\u001B[00m\n",
      "│   ├── \u001B[01;34m杨梅\u001B[00m\n",
      "│   ├── \u001B[01;34m枇杷\u001B[00m\n",
      "│   ├── \u001B[01;34m枣\u001B[00m\n",
      "│   ├── \u001B[01;34m柚子\u001B[00m\n",
      "│   ├── \u001B[01;34m柠檬\u001B[00m\n",
      "│   ├── \u001B[01;34m柿子\u001B[00m\n",
      "│   ├── \u001B[01;34m树莓\u001B[00m\n",
      "│   ├── \u001B[01;34m桂圆\u001B[00m\n",
      "│   ├── \u001B[01;34m桑葚\u001B[00m\n",
      "│   ├── \u001B[01;34m梨\u001B[00m\n",
      "│   ├── \u001B[01;34m椰子\u001B[00m\n",
      "│   ├── \u001B[01;34m榴莲\u001B[00m\n",
      "│   ├── \u001B[01;34m樱桃\u001B[00m\n",
      "│   ├── \u001B[01;34m橘子\u001B[00m\n",
      "│   ├── \u001B[01;34m毛丹\u001B[00m\n",
      "│   ├── \u001B[01;34m水蜜桃\u001B[00m\n",
      "│   ├── \u001B[01;34m沃柑\u001B[00m\n",
      "│   ├── \u001B[01;34m沙果\u001B[00m\n",
      "│   ├── \u001B[01;34m沙棘\u001B[00m\n",
      "│   ├── \u001B[01;34m油桃\u001B[00m\n",
      "│   ├── \u001B[01;34m牛油果\u001B[00m\n",
      "│   ├── \u001B[01;34m猕猴桃\u001B[00m\n",
      "│   ├── \u001B[01;34m甘蔗\u001B[00m\n",
      "│   ├── \u001B[01;34m甜瓜-伊丽莎白\u001B[00m\n",
      "│   ├── \u001B[01;34m甜瓜-白\u001B[00m\n",
      "│   ├── \u001B[01;34m甜瓜-绿\u001B[00m\n",
      "│   ├── \u001B[01;34m甜瓜-金\u001B[00m\n",
      "│   ├── \u001B[01;34m番石榴-百\u001B[00m\n",
      "│   ├── \u001B[01;34m番石榴-红\u001B[00m\n",
      "│   ├── \u001B[01;34m白兰瓜\u001B[00m\n",
      "│   ├── \u001B[01;34m白心火龙果\u001B[00m\n",
      "│   ├── \u001B[01;34m白萝卜\u001B[00m\n",
      "│   ├── \u001B[01;34m百香果\u001B[00m\n",
      "│   ├── \u001B[01;34m石榴\u001B[00m\n",
      "│   ├── \u001B[01;34m砂糖橘\u001B[00m\n",
      "│   ├── \u001B[01;34m粑粑柑\u001B[00m\n",
      "│   ├── \u001B[01;34m红心火龙果\u001B[00m\n",
      "│   ├── \u001B[01;34m红苹果\u001B[00m\n",
      "│   ├── \u001B[01;34m羊奶果\u001B[00m\n",
      "│   ├── \u001B[01;34m羊角蜜\u001B[00m\n",
      "│   ├── \u001B[01;34m胡萝卜\u001B[00m\n",
      "│   ├── \u001B[01;34m脐橙\u001B[00m\n",
      "│   ├── \u001B[01;34m腰果\u001B[00m\n",
      "│   ├── \u001B[01;34m芒果\u001B[00m\n",
      "│   ├── \u001B[01;34m芦柑\u001B[00m\n",
      "│   ├── \u001B[01;34m草莓\u001B[00m\n",
      "│   ├── \u001B[01;34m荔枝\u001B[00m\n",
      "│   ├── \u001B[01;34m莲雾\u001B[00m\n",
      "│   ├── \u001B[01;34m菠萝\u001B[00m\n",
      "│   ├── \u001B[01;34m菠萝莓\u001B[00m\n",
      "│   ├── \u001B[01;34m菠萝蜜\u001B[00m\n",
      "│   ├── \u001B[01;34m葡萄-白\u001B[00m\n",
      "│   ├── \u001B[01;34m葡萄-红\u001B[00m\n",
      "│   ├── \u001B[01;34m蓝莓\u001B[00m\n",
      "│   ├── \u001B[01;34m蛇皮果\u001B[00m\n",
      "│   ├── \u001B[01;34m蟠桃\u001B[00m\n",
      "│   ├── \u001B[01;34m血橙\u001B[00m\n",
      "│   ├── \u001B[01;34m西柚\u001B[00m\n",
      "│   ├── \u001B[01;34m西梅\u001B[00m\n",
      "│   ├── \u001B[01;34m西瓜\u001B[00m\n",
      "│   ├── \u001B[01;34m西红柿\u001B[00m\n",
      "│   ├── \u001B[01;34m车厘子\u001B[00m\n",
      "│   ├── \u001B[01;34m酸角\u001B[00m\n",
      "│   ├── \u001B[01;34m金桔\u001B[00m\n",
      "│   ├── \u001B[01;34m青柠\u001B[00m\n",
      "│   ├── \u001B[01;34m青苹果\u001B[00m\n",
      "│   ├── \u001B[01;34m香橼\u001B[00m\n",
      "│   ├── \u001B[01;34m香蕉\u001B[00m\n",
      "│   ├── \u001B[01;34m黄桃\u001B[00m\n",
      "│   └── \u001B[01;34m黑莓\u001B[00m\n",
      "└── \u001B[01;34mval\u001B[00m\n",
      "    ├── \u001B[01;34m人参果\u001B[00m\n",
      "    ├── \u001B[01;34m佛手瓜\u001B[00m\n",
      "    ├── \u001B[01;34m哈密瓜\u001B[00m\n",
      "    ├── \u001B[01;34m圣女果\u001B[00m\n",
      "    ├── \u001B[01;34m山楂\u001B[00m\n",
      "    ├── \u001B[01;34m山竹\u001B[00m\n",
      "    ├── \u001B[01;34m无花果\u001B[00m\n",
      "    ├── \u001B[01;34m木瓜\u001B[00m\n",
      "    ├── \u001B[01;34m李子\u001B[00m\n",
      "    ├── \u001B[01;34m杏\u001B[00m\n",
      "    ├── \u001B[01;34m杨桃\u001B[00m\n",
      "    ├── \u001B[01;34m杨梅\u001B[00m\n",
      "    ├── \u001B[01;34m枇杷\u001B[00m\n",
      "    ├── \u001B[01;34m枣\u001B[00m\n",
      "    ├── \u001B[01;34m柚子\u001B[00m\n",
      "    ├── \u001B[01;34m柠檬\u001B[00m\n",
      "    ├── \u001B[01;34m柿子\u001B[00m\n",
      "    ├── \u001B[01;34m树莓\u001B[00m\n",
      "    ├── \u001B[01;34m桂圆\u001B[00m\n",
      "    ├── \u001B[01;34m桑葚\u001B[00m\n",
      "    ├── \u001B[01;34m梨\u001B[00m\n",
      "    ├── \u001B[01;34m椰子\u001B[00m\n",
      "    ├── \u001B[01;34m榴莲\u001B[00m\n",
      "    ├── \u001B[01;34m樱桃\u001B[00m\n",
      "    ├── \u001B[01;34m橘子\u001B[00m\n",
      "    ├── \u001B[01;34m毛丹\u001B[00m\n",
      "    ├── \u001B[01;34m水蜜桃\u001B[00m\n",
      "    ├── \u001B[01;34m沃柑\u001B[00m\n",
      "    ├── \u001B[01;34m沙果\u001B[00m\n",
      "    ├── \u001B[01;34m沙棘\u001B[00m\n",
      "    ├── \u001B[01;34m油桃\u001B[00m\n",
      "    ├── \u001B[01;34m牛油果\u001B[00m\n",
      "    ├── \u001B[01;34m猕猴桃\u001B[00m\n",
      "    ├── \u001B[01;34m甘蔗\u001B[00m\n",
      "    ├── \u001B[01;34m甜瓜-伊丽莎白\u001B[00m\n",
      "    ├── \u001B[01;34m甜瓜-白\u001B[00m\n",
      "    ├── \u001B[01;34m甜瓜-绿\u001B[00m\n",
      "    ├── \u001B[01;34m甜瓜-金\u001B[00m\n",
      "    ├── \u001B[01;34m番石榴-百\u001B[00m\n",
      "    ├── \u001B[01;34m番石榴-红\u001B[00m\n",
      "    ├── \u001B[01;34m白兰瓜\u001B[00m\n",
      "    ├── \u001B[01;34m白心火龙果\u001B[00m\n",
      "    ├── \u001B[01;34m白萝卜\u001B[00m\n",
      "    ├── \u001B[01;34m百香果\u001B[00m\n",
      "    ├── \u001B[01;34m石榴\u001B[00m\n",
      "    ├── \u001B[01;34m砂糖橘\u001B[00m\n",
      "    ├── \u001B[01;34m粑粑柑\u001B[00m\n",
      "    ├── \u001B[01;34m红心火龙果\u001B[00m\n",
      "    ├── \u001B[01;34m红苹果\u001B[00m\n",
      "    ├── \u001B[01;34m羊奶果\u001B[00m\n",
      "    ├── \u001B[01;34m羊角蜜\u001B[00m\n",
      "    ├── \u001B[01;34m胡萝卜\u001B[00m\n",
      "    ├── \u001B[01;34m脐橙\u001B[00m\n",
      "    ├── \u001B[01;34m腰果\u001B[00m\n",
      "    ├── \u001B[01;34m芒果\u001B[00m\n",
      "    ├── \u001B[01;34m芦柑\u001B[00m\n",
      "    ├── \u001B[01;34m草莓\u001B[00m\n",
      "    ├── \u001B[01;34m荔枝\u001B[00m\n",
      "    ├── \u001B[01;34m莲雾\u001B[00m\n",
      "    ├── \u001B[01;34m菠萝\u001B[00m\n",
      "    ├── \u001B[01;34m菠萝莓\u001B[00m\n",
      "    ├── \u001B[01;34m菠萝蜜\u001B[00m\n",
      "    ├── \u001B[01;34m葡萄-白\u001B[00m\n",
      "    ├── \u001B[01;34m葡萄-红\u001B[00m\n",
      "    ├── \u001B[01;34m蓝莓\u001B[00m\n",
      "    ├── \u001B[01;34m蛇皮果\u001B[00m\n",
      "    ├── \u001B[01;34m蟠桃\u001B[00m\n",
      "    ├── \u001B[01;34m血橙\u001B[00m\n",
      "    ├── \u001B[01;34m西柚\u001B[00m\n",
      "    ├── \u001B[01;34m西梅\u001B[00m\n",
      "    ├── \u001B[01;34m西瓜\u001B[00m\n",
      "    ├── \u001B[01;34m西红柿\u001B[00m\n",
      "    ├── \u001B[01;34m车厘子\u001B[00m\n",
      "    ├── \u001B[01;34m酸角\u001B[00m\n",
      "    ├── \u001B[01;34m金桔\u001B[00m\n",
      "    ├── \u001B[01;34m青柠\u001B[00m\n",
      "    ├── \u001B[01;34m青苹果\u001B[00m\n",
      "    ├── \u001B[01;34m香橼\u001B[00m\n",
      "    ├── \u001B[01;34m香蕉\u001B[00m\n",
      "    ├── \u001B[01;34m黄桃\u001B[00m\n",
      "    └── \u001B[01;34m黑莓\u001B[00m\n",
      "\n",
      "164 directories, 0 files\n"
     ]
    }
   ],
   "source": [
    "!tree fruit81_split -L 2"
   ]
  },
  {
   "cell_type": "code",
   "execution_count": null,
   "id": "4f3febba-135e-4502-b83c-0d377a517713",
   "metadata": {},
   "outputs": [],
   "source": []
  }
 ],
 "metadata": {
  "kernelspec": {
   "display_name": "Python 3 (ipykernel)",
   "language": "python",
   "name": "python3"
  },
  "language_info": {
   "codemirror_mode": {
    "name": "ipython",
    "version": 3
   },
   "file_extension": ".py",
   "mimetype": "text/x-python",
   "name": "python",
   "nbconvert_exporter": "python",
   "pygments_lexer": "ipython3",
   "version": "3.7.10"
  }
 },
 "nbformat": 4,
 "nbformat_minor": 5
}
