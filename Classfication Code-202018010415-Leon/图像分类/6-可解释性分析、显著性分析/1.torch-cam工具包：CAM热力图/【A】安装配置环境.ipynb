{
 "cells": [
  {
   "cell_type": "markdown",
   "id": "68aa2c39-1a4b-4d3c-ab35-3d44896f2f67",
   "metadata": {},
   "source": [
    "# 安装配置环境\n",
    "\n",
    "安装配置torchcam代码库环境。\n",
    "\n",
    "同济子豪兄 https://space.bilibili.com/1900783\n",
    "\n",
    "代码运行[云GPU平台](https://featurize.cn/?s=d7ce99f842414bfcaea5662a97581bd1)\n",
    "\n",
    "2022-8-13"
   ]
  },
  {
   "cell_type": "markdown",
   "id": "d56b4a5f-8ec2-4493-8344-580ed67d3d25",
   "metadata": {},
   "source": [
    "## 直接运行代码块即可"
   ]
  },
  {
   "cell_type": "code",
   "execution_count": 3,
   "id": "83c98888-79c0-4f4c-8e64-b9cc65ac797e",
   "metadata": {
    "ExecuteTime": {
     "end_time": "2024-04-16T13:14:43.579215100Z",
     "start_time": "2024-04-16T13:14:15.860185700Z"
    }
   },
   "outputs": [
    {
     "name": "stdout",
     "output_type": "stream",
     "text": [
      "Requirement already satisfied: numpy in d:\\software\\anaconda\\envs\\pt2\\lib\\site-packages (1.26.4)\n",
      "Collecting pandas\n",
      "  Downloading pandas-2.2.2-cp311-cp311-win_amd64.whl.metadata (19 kB)\n",
      "Requirement already satisfied: matplotlib in d:\\software\\anaconda\\envs\\pt2\\lib\\site-packages (3.8.4)\n",
      "Requirement already satisfied: requests in d:\\software\\anaconda\\envs\\pt2\\lib\\site-packages (2.31.0)\n",
      "Collecting tqdm\n",
      "  Downloading tqdm-4.66.2-py3-none-any.whl.metadata (57 kB)\n",
      "     ---------------------------------------- 0.0/57.6 kB ? eta -:--:--\n",
      "     ------- -------------------------------- 10.2/57.6 kB ? eta -:--:--\n",
      "     -------------------------------------- 57.6/57.6 kB 763.7 kB/s eta 0:00:00\n",
      "Requirement already satisfied: opencv-python in d:\\software\\anaconda\\envs\\pt2\\lib\\site-packages (4.9.0.80)\n",
      "Requirement already satisfied: pillow in d:\\software\\anaconda\\envs\\pt2\\lib\\site-packages (10.3.0)\n",
      "Requirement already satisfied: python-dateutil>=2.8.2 in d:\\software\\anaconda\\envs\\pt2\\lib\\site-packages (from pandas) (2.9.0.post0)\n",
      "Collecting pytz>=2020.1 (from pandas)\n",
      "  Using cached pytz-2024.1-py2.py3-none-any.whl.metadata (22 kB)\n",
      "Collecting tzdata>=2022.7 (from pandas)\n",
      "  Using cached tzdata-2024.1-py2.py3-none-any.whl.metadata (1.4 kB)\n",
      "Requirement already satisfied: contourpy>=1.0.1 in d:\\software\\anaconda\\envs\\pt2\\lib\\site-packages (from matplotlib) (1.2.1)\n",
      "Requirement already satisfied: cycler>=0.10 in d:\\software\\anaconda\\envs\\pt2\\lib\\site-packages (from matplotlib) (0.12.1)\n",
      "Requirement already satisfied: fonttools>=4.22.0 in d:\\software\\anaconda\\envs\\pt2\\lib\\site-packages (from matplotlib) (4.51.0)\n",
      "Requirement already satisfied: kiwisolver>=1.3.1 in d:\\software\\anaconda\\envs\\pt2\\lib\\site-packages (from matplotlib) (1.4.5)\n",
      "Requirement already satisfied: packaging>=20.0 in d:\\software\\anaconda\\envs\\pt2\\lib\\site-packages (from matplotlib) (24.0)\n",
      "Requirement already satisfied: pyparsing>=2.3.1 in d:\\software\\anaconda\\envs\\pt2\\lib\\site-packages (from matplotlib) (3.1.2)\n",
      "Requirement already satisfied: charset-normalizer<4,>=2 in d:\\software\\anaconda\\envs\\pt2\\lib\\site-packages (from requests) (3.3.2)\n",
      "Requirement already satisfied: idna<4,>=2.5 in d:\\software\\anaconda\\envs\\pt2\\lib\\site-packages (from requests) (3.7)\n",
      "Requirement already satisfied: urllib3<3,>=1.21.1 in d:\\software\\anaconda\\envs\\pt2\\lib\\site-packages (from requests) (2.2.1)\n",
      "Requirement already satisfied: certifi>=2017.4.17 in d:\\software\\anaconda\\envs\\pt2\\lib\\site-packages (from requests) (2024.2.2)\n",
      "Requirement already satisfied: colorama in d:\\software\\anaconda\\envs\\pt2\\lib\\site-packages (from tqdm) (0.4.6)\n",
      "Requirement already satisfied: six>=1.5 in d:\\software\\anaconda\\envs\\pt2\\lib\\site-packages (from python-dateutil>=2.8.2->pandas) (1.16.0)\n",
      "Downloading pandas-2.2.2-cp311-cp311-win_amd64.whl (11.6 MB)\n",
      "   ---------------------------------------- 0.0/11.6 MB ? eta -:--:--\n",
      "   ---------------------------------------- 0.0/11.6 MB ? eta -:--:--\n",
      "   ---------------------------------------- 0.1/11.6 MB 1.3 MB/s eta 0:00:09\n",
      "    --------------------------------------- 0.2/11.6 MB 2.3 MB/s eta 0:00:05\n",
      "   - -------------------------------------- 0.5/11.6 MB 3.4 MB/s eta 0:00:04\n",
      "   --- ------------------------------------ 1.0/11.6 MB 5.1 MB/s eta 0:00:03\n",
      "   ------- -------------------------------- 2.0/11.6 MB 8.7 MB/s eta 0:00:02\n",
      "   ----------- ---------------------------- 3.2/11.6 MB 11.4 MB/s eta 0:00:01\n",
      "   ---------------- ----------------------- 4.7/11.6 MB 14.2 MB/s eta 0:00:01\n",
      "   -------------------- ------------------- 5.9/11.6 MB 15.8 MB/s eta 0:00:01\n",
      "   -------------------------- ------------- 7.8/11.6 MB 18.5 MB/s eta 0:00:01\n",
      "   ----------------------------- ---------- 8.5/11.6 MB 18.1 MB/s eta 0:00:01\n",
      "   ------------------------------ --------- 8.9/11.6 MB 17.8 MB/s eta 0:00:01\n",
      "   ------------------------------ --------- 8.9/11.6 MB 17.8 MB/s eta 0:00:01\n",
      "   -------------------------------- ------- 9.6/11.6 MB 15.7 MB/s eta 0:00:01\n",
      "   ---------------------------------------- 11.6/11.6 MB 23.3 MB/s eta 0:00:00\n",
      "Downloading tqdm-4.66.2-py3-none-any.whl (78 kB)\n",
      "   ---------------------------------------- 0.0/78.3 kB ? eta -:--:--\n",
      "   ---------------------------------------- 78.3/78.3 kB 4.3 MB/s eta 0:00:00\n",
      "Using cached pytz-2024.1-py2.py3-none-any.whl (505 kB)\n",
      "Using cached tzdata-2024.1-py2.py3-none-any.whl (345 kB)\n",
      "Installing collected packages: pytz, tzdata, tqdm, pandas\n",
      "Successfully installed pandas-2.2.2 pytz-2024.1 tqdm-4.66.2 tzdata-2024.1\n"
     ]
    }
   ],
   "source": [
    "!pip install numpy pandas matplotlib requests tqdm opencv-python pillow "
   ]
  },
  {
   "cell_type": "markdown",
   "id": "f34acebb-ad33-4775-a842-3df6e4cce3fb",
   "metadata": {},
   "source": [
    "## 下载安装Pytorch"
   ]
  },
  {
   "cell_type": "code",
   "execution_count": 4,
   "id": "f9c9f8de-2c5e-477e-8893-f1435e3ff331",
   "metadata": {
    "ExecuteTime": {
     "end_time": "2024-04-16T13:19:45.181047Z",
     "start_time": "2024-04-16T13:19:31.665477Z"
    }
   },
   "outputs": [
    {
     "name": "stdout",
     "output_type": "stream",
     "text": [
      "Looking in indexes: https://pypi.org/simple, https://download.pytorch.org/whl/cu113\n",
      "Requirement already satisfied: torch in d:\\software\\anaconda\\envs\\pt2\\lib\\site-packages (2.2.2)\n",
      "Collecting torchvision\n",
      "  Using cached torchvision-0.17.2-cp311-cp311-win_amd64.whl.metadata (6.6 kB)\n",
      "Collecting torchaudio\n",
      "  Downloading torchaudio-2.2.2-cp311-cp311-win_amd64.whl.metadata (6.4 kB)\n",
      "Requirement already satisfied: filelock in d:\\software\\anaconda\\envs\\pt2\\lib\\site-packages (from torch) (3.13.4)\n",
      "Requirement already satisfied: typing-extensions>=4.8.0 in d:\\software\\anaconda\\envs\\pt2\\lib\\site-packages (from torch) (4.11.0)\n",
      "Requirement already satisfied: sympy in d:\\software\\anaconda\\envs\\pt2\\lib\\site-packages (from torch) (1.12)\n",
      "Requirement already satisfied: networkx in d:\\software\\anaconda\\envs\\pt2\\lib\\site-packages (from torch) (3.3)\n",
      "Requirement already satisfied: jinja2 in d:\\software\\anaconda\\envs\\pt2\\lib\\site-packages (from torch) (3.1.3)\n",
      "Requirement already satisfied: fsspec in d:\\software\\anaconda\\envs\\pt2\\lib\\site-packages (from torch) (2024.3.1)\n",
      "Requirement already satisfied: numpy in d:\\software\\anaconda\\envs\\pt2\\lib\\site-packages (from torchvision) (1.26.4)\n",
      "Requirement already satisfied: pillow!=8.3.*,>=5.3.0 in d:\\software\\anaconda\\envs\\pt2\\lib\\site-packages (from torchvision) (10.3.0)\n",
      "Requirement already satisfied: MarkupSafe>=2.0 in d:\\software\\anaconda\\envs\\pt2\\lib\\site-packages (from jinja2->torch) (2.1.5)\n",
      "Requirement already satisfied: mpmath>=0.19 in d:\\software\\anaconda\\envs\\pt2\\lib\\site-packages (from sympy->torch) (1.3.0)\n",
      "Downloading torchvision-0.17.2-cp311-cp311-win_amd64.whl (1.2 MB)\n",
      "   ---------------------------------------- 0.0/1.2 MB ? eta -:--:--\n",
      "   ---------------------------------------- 0.0/1.2 MB ? eta -:--:--\n",
      "   -- ------------------------------------- 0.1/1.2 MB 825.8 kB/s eta 0:00:02\n",
      "   ---- ----------------------------------- 0.1/1.2 MB 901.1 kB/s eta 0:00:02\n",
      "   --------- ------------------------------ 0.3/1.2 MB 1.6 MB/s eta 0:00:01\n",
      "   ------------------- -------------------- 0.6/1.2 MB 2.5 MB/s eta 0:00:01\n",
      "   --------------------------------- ------ 1.0/1.2 MB 3.6 MB/s eta 0:00:01\n",
      "   ---------------------------------------- 1.2/1.2 MB 4.1 MB/s eta 0:00:00\n",
      "Downloading torchaudio-2.2.2-cp311-cp311-win_amd64.whl (2.4 MB)\n",
      "   ---------------------------------------- 0.0/2.4 MB ? eta -:--:--\n",
      "   -- ------------------------------------- 0.2/2.4 MB 10.9 MB/s eta 0:00:01\n",
      "   ----------------- ---------------------- 1.0/2.4 MB 13.1 MB/s eta 0:00:01\n",
      "   --------------------------------- ------ 2.0/2.4 MB 16.0 MB/s eta 0:00:01\n",
      "   ---------------------------------------- 2.4/2.4 MB 16.9 MB/s eta 0:00:00\n",
      "Installing collected packages: torchvision, torchaudio\n",
      "Successfully installed torchaudio-2.2.2 torchvision-0.17.2\n"
     ]
    }
   ],
   "source": [
    "!pip3 install torch torchvision torchaudio --extra-index-url https://download.pytorch.org/whl/cu113"
   ]
  },
  {
   "cell_type": "markdown",
   "id": "f82fef37-f204-4029-9e9d-8556fb22def0",
   "metadata": {},
   "source": [
    "## 下载安装 mmcv-full"
   ]
  },
  {
   "cell_type": "code",
   "execution_count": 2,
   "id": "75203561-5659-40cb-ad35-202a316d6641",
   "metadata": {
    "ExecuteTime": {
     "end_time": "2024-04-16T13:07:21.699956300Z",
     "start_time": "2024-04-16T13:06:33.572401300Z"
    }
   },
   "outputs": [
    {
     "name": "stdout",
     "output_type": "stream",
     "text": [
      "Looking in links: https://download.openmmlab.com/mmcv/dist/cu113/torch1.10.0/index.html\n",
      "Collecting mmcv-full\n",
      "  Using cached mmcv-full-1.7.2.tar.gz (607 kB)\n",
      "  Preparing metadata (setup.py): started\n",
      "  Preparing metadata (setup.py): finished with status 'done'\n",
      "Collecting addict (from mmcv-full)\n",
      "  Using cached addict-2.4.0-py3-none-any.whl.metadata (1.0 kB)\n",
      "Collecting numpy (from mmcv-full)\n",
      "  Using cached numpy-1.26.4-cp311-cp311-win_amd64.whl.metadata (61 kB)\n",
      "Requirement already satisfied: packaging in d:\\software\\anaconda\\envs\\pt2\\lib\\site-packages (from mmcv-full) (24.0)\n",
      "Collecting Pillow (from mmcv-full)\n",
      "  Using cached pillow-10.3.0-cp311-cp311-win_amd64.whl.metadata (9.4 kB)\n",
      "Requirement already satisfied: pyyaml in d:\\software\\anaconda\\envs\\pt2\\lib\\site-packages (from mmcv-full) (6.0.1)\n",
      "Collecting regex (from mmcv-full)\n",
      "  Downloading regex-2023.12.25-cp311-cp311-win_amd64.whl.metadata (41 kB)\n",
      "     ---------------------------------------- 0.0/42.0 kB ? eta -:--:--\n",
      "     ---------------------------------------- 0.0/42.0 kB ? eta -:--:--\n",
      "     ------------------ ------------------- 20.5/42.0 kB 640.0 kB/s eta 0:00:01\n",
      "     -------------------------------------- 42.0/42.0 kB 511.8 kB/s eta 0:00:00\n",
      "Collecting yapf (from mmcv-full)\n",
      "  Using cached yapf-0.40.2-py3-none-any.whl.metadata (45 kB)\n",
      "Collecting opencv-python>=3 (from mmcv-full)\n",
      "  Downloading opencv_python-4.9.0.80-cp37-abi3-win_amd64.whl.metadata (20 kB)\n",
      "Collecting importlib-metadata>=6.6.0 (from yapf->mmcv-full)\n",
      "  Downloading importlib_metadata-7.1.0-py3-none-any.whl.metadata (4.7 kB)\n",
      "Requirement already satisfied: platformdirs>=3.5.1 in d:\\software\\anaconda\\envs\\pt2\\lib\\site-packages (from yapf->mmcv-full) (4.2.0)\n",
      "Collecting tomli>=2.0.1 (from yapf->mmcv-full)\n",
      "  Downloading tomli-2.0.1-py3-none-any.whl.metadata (8.9 kB)\n",
      "Collecting zipp>=0.5 (from importlib-metadata>=6.6.0->yapf->mmcv-full)\n",
      "  Downloading zipp-3.18.1-py3-none-any.whl.metadata (3.5 kB)\n",
      "Downloading opencv_python-4.9.0.80-cp37-abi3-win_amd64.whl (38.6 MB)\n",
      "   ---------------------------------------- 0.0/38.6 MB ? eta -:--:--\n",
      "   ---------------------------------------- 0.0/38.6 MB 991.0 kB/s eta 0:00:39\n",
      "   ---------------------------------------- 0.1/38.6 MB 1.1 MB/s eta 0:00:36\n",
      "   ---------------------------------------- 0.2/38.6 MB 1.6 MB/s eta 0:00:25\n",
      "   ---------------------------------------- 0.5/38.6 MB 2.7 MB/s eta 0:00:15\n",
      "    --------------------------------------- 0.8/38.6 MB 3.5 MB/s eta 0:00:11\n",
      "   - -------------------------------------- 1.5/38.6 MB 5.1 MB/s eta 0:00:08\n",
      "   -- ------------------------------------- 2.4/38.6 MB 7.5 MB/s eta 0:00:05\n",
      "   --- ------------------------------------ 3.2/38.6 MB 8.9 MB/s eta 0:00:04\n",
      "   ---- ----------------------------------- 4.7/38.6 MB 11.2 MB/s eta 0:00:04\n",
      "   ------ --------------------------------- 6.3/38.6 MB 13.3 MB/s eta 0:00:03\n",
      "   --------- ------------------------------ 8.7/38.6 MB 16.9 MB/s eta 0:00:02\n",
      "   ---------- ----------------------------- 9.7/38.6 MB 17.8 MB/s eta 0:00:02\n",
      "   ---------- ----------------------------- 9.7/38.6 MB 17.8 MB/s eta 0:00:02\n",
      "   ---------- ----------------------------- 10.2/38.6 MB 16.2 MB/s eta 0:00:02\n",
      "   ---------- ----------------------------- 10.2/38.6 MB 16.2 MB/s eta 0:00:02\n",
      "   ---------- ----------------------------- 10.2/38.6 MB 16.2 MB/s eta 0:00:02\n",
      "   ----------- ---------------------------- 11.1/38.6 MB 18.7 MB/s eta 0:00:02\n",
      "   ------------ --------------------------- 11.7/38.6 MB 19.8 MB/s eta 0:00:02\n",
      "   ------------ --------------------------- 11.7/38.6 MB 17.7 MB/s eta 0:00:02\n",
      "   ------------ --------------------------- 11.7/38.6 MB 17.7 MB/s eta 0:00:02\n",
      "   ------------- -------------------------- 12.9/38.6 MB 16.8 MB/s eta 0:00:02\n",
      "   ------------- -------------------------- 12.9/38.6 MB 16.8 MB/s eta 0:00:02\n",
      "   ------------- -------------------------- 13.0/38.6 MB 14.9 MB/s eta 0:00:02\n",
      "   ------------- -------------------------- 13.0/38.6 MB 14.9 MB/s eta 0:00:02\n",
      "   ------------- -------------------------- 13.0/38.6 MB 14.9 MB/s eta 0:00:02\n",
      "   --------------- ------------------------ 15.1/38.6 MB 13.1 MB/s eta 0:00:02\n",
      "   ---------------- ----------------------- 15.7/38.6 MB 12.6 MB/s eta 0:00:02\n",
      "   ---------------- ----------------------- 16.2/38.6 MB 12.6 MB/s eta 0:00:02\n",
      "   ---------------- ----------------------- 16.4/38.6 MB 11.5 MB/s eta 0:00:02\n",
      "   ------------------ --------------------- 17.4/38.6 MB 11.3 MB/s eta 0:00:02\n",
      "   ------------------- -------------------- 19.3/38.6 MB 11.1 MB/s eta 0:00:02\n",
      "   -------------------- ------------------- 20.1/38.6 MB 11.9 MB/s eta 0:00:02\n",
      "   --------------------- ------------------ 21.0/38.6 MB 13.4 MB/s eta 0:00:02\n",
      "   ---------------------- ----------------- 21.8/38.6 MB 13.4 MB/s eta 0:00:02\n",
      "   ---------------------- ----------------- 22.0/38.6 MB 16.0 MB/s eta 0:00:02\n",
      "   ----------------------- ---------------- 22.2/38.6 MB 14.6 MB/s eta 0:00:02\n",
      "   ------------------------- -------------- 24.6/38.6 MB 18.7 MB/s eta 0:00:01\n",
      "   -------------------------- ------------- 25.4/38.6 MB 19.3 MB/s eta 0:00:01\n",
      "   --------------------------- ------------ 26.6/38.6 MB 22.6 MB/s eta 0:00:01\n",
      "   ---------------------------- ----------- 27.7/38.6 MB 22.6 MB/s eta 0:00:01\n",
      "   ----------------------------- ---------- 28.5/38.6 MB 21.1 MB/s eta 0:00:01\n",
      "   ----------------------------- ---------- 28.5/38.6 MB 21.1 MB/s eta 0:00:01\n",
      "   ----------------------------- ---------- 28.6/38.6 MB 17.3 MB/s eta 0:00:01\n",
      "   ------------------------------ --------- 29.2/38.6 MB 16.4 MB/s eta 0:00:01\n",
      "   ------------------------------ --------- 29.4/38.6 MB 15.6 MB/s eta 0:00:01\n",
      "   ------------------------------ --------- 29.4/38.6 MB 15.6 MB/s eta 0:00:01\n",
      "   ------------------------------ --------- 29.4/38.6 MB 15.6 MB/s eta 0:00:01\n",
      "   ------------------------------ --------- 29.6/38.6 MB 13.6 MB/s eta 0:00:01\n",
      "   ------------------------------ --------- 29.9/38.6 MB 12.6 MB/s eta 0:00:01\n",
      "   ------------------------------- -------- 30.4/38.6 MB 12.4 MB/s eta 0:00:01\n",
      "   ------------------------------- -------- 30.4/38.6 MB 12.4 MB/s eta 0:00:01\n",
      "   --------------------------------- ------ 32.7/38.6 MB 13.9 MB/s eta 0:00:01\n",
      "   --------------------------------- ------ 32.7/38.6 MB 13.9 MB/s eta 0:00:01\n",
      "   --------------------------------- ------ 32.8/38.6 MB 12.6 MB/s eta 0:00:01\n",
      "   ---------------------------------- ----- 33.0/38.6 MB 11.9 MB/s eta 0:00:01\n",
      "   ---------------------------------- ----- 33.0/38.6 MB 11.9 MB/s eta 0:00:01\n",
      "   ------------------------------------ --- 35.6/38.6 MB 11.5 MB/s eta 0:00:01\n",
      "   -------------------------------------- - 36.9/38.6 MB 11.7 MB/s eta 0:00:01\n",
      "   ---------------------------------------  38.1/38.6 MB 11.7 MB/s eta 0:00:01\n",
      "   ---------------------------------------  38.6/38.6 MB 11.7 MB/s eta 0:00:01\n",
      "   ---------------------------------------- 38.6/38.6 MB 10.9 MB/s eta 0:00:00\n",
      "Using cached numpy-1.26.4-cp311-cp311-win_amd64.whl (15.8 MB)\n",
      "Using cached addict-2.4.0-py3-none-any.whl (3.8 kB)\n",
      "Downloading pillow-10.3.0-cp311-cp311-win_amd64.whl (2.5 MB)\n",
      "   ---------------------------------------- 0.0/2.5 MB ? eta -:--:--\n",
      "   ----------------------- ---------------- 1.5/2.5 MB 30.9 MB/s eta 0:00:01\n",
      "   ---------------------------------------  2.5/2.5 MB 32.3 MB/s eta 0:00:01\n",
      "   ---------------------------------------- 2.5/2.5 MB 26.8 MB/s eta 0:00:00\n",
      "Downloading regex-2023.12.25-cp311-cp311-win_amd64.whl (269 kB)\n",
      "   ---------------------------------------- 0.0/269.5 kB ? eta -:--:--\n",
      "   --------------------------------------- 269.5/269.5 kB 16.2 MB/s eta 0:00:00\n",
      "Using cached yapf-0.40.2-py3-none-any.whl (254 kB)\n",
      "Downloading importlib_metadata-7.1.0-py3-none-any.whl (24 kB)\n",
      "Using cached tomli-2.0.1-py3-none-any.whl (12 kB)\n",
      "Downloading zipp-3.18.1-py3-none-any.whl (8.2 kB)\n",
      "Building wheels for collected packages: mmcv-full\n",
      "  Building wheel for mmcv-full (setup.py): started\n",
      "  Building wheel for mmcv-full (setup.py): finished with status 'done'\n",
      "  Created wheel for mmcv-full: filename=mmcv_full-1.7.2-py2.py3-none-any.whl size=929341 sha256=5de3cf53b8140d9c2f827d5b0a8d775753bfffb413169681878aec5629b84174\n",
      "  Stored in directory: c:\\users\\61640\\appdata\\local\\pip\\cache\\wheels\\4a\\27\\7f\\15d0b51889e45303437b10644ee233f66d2e4f164e3a7c2b20\n",
      "Successfully built mmcv-full\n",
      "Installing collected packages: addict, zipp, tomli, regex, Pillow, numpy, opencv-python, importlib-metadata, yapf, mmcv-full\n",
      "Successfully installed Pillow-10.3.0 addict-2.4.0 importlib-metadata-7.1.0 mmcv-full-1.7.2 numpy-1.26.4 opencv-python-4.9.0.80 regex-2023.12.25 tomli-2.0.1 yapf-0.40.2 zipp-3.18.1\n"
     ]
    }
   ],
   "source": [
    "# 安装mmcv -full\n",
    "!pip install mmcv-full -f https://download.openmmlab.com/mmcv/dist/cu113/torch1.10.0/index.html"
   ]
  },
  {
   "cell_type": "markdown",
   "id": "4df3fa7c-23d2-4db1-a12f-8fafbe96b16d",
   "metadata": {},
   "source": [
    "## 下载中文字体文件"
   ]
  },
  {
   "cell_type": "code",
   "execution_count": 3,
   "id": "a18e57f9-0ece-4d34-a0fd-0642a778a3b6",
   "metadata": {
    "ExecuteTime": {
     "end_time": "2024-04-16T13:07:28.954742Z",
     "start_time": "2024-04-16T13:07:28.916250400Z"
    }
   },
   "outputs": [
    {
     "name": "stderr",
     "output_type": "stream",
     "text": [
      "'wget' is not recognized as an internal or external command,\n",
      "operable program or batch file.\n"
     ]
    }
   ],
   "source": [
    "!wget https://zihao-openmmlab.obs.cn-east-3.myhuaweicloud.com/20220716-mmclassification/dataset/SimHei.ttf\n"
   ]
  },
  {
   "cell_type": "markdown",
   "id": "6f098343-61c2-4a3d-a5c4-9bb858f43246",
   "metadata": {},
   "source": [
    "## 下载 ImageNet 1000类别信息"
   ]
  },
  {
   "cell_type": "code",
   "execution_count": 3,
   "id": "6b393608-3102-48c6-b031-e36cdae73260",
   "metadata": {
    "ExecuteTime": {
     "end_time": "2024-04-09T11:20:49.955854700Z",
     "start_time": "2024-04-09T11:20:49.892594700Z"
    }
   },
   "outputs": [
    {
     "name": "stderr",
     "output_type": "stream",
     "text": [
      "'wget' is not recognized as an internal or external command,\n",
      "operable program or batch file.\n"
     ]
    }
   ],
   "source": [
    "!wget https://zihao-openmmlab.obs.cn-east-3.myhuaweicloud.com/20220716-mmclassification/dataset/meta_data/imagenet_class_index.csv\n"
   ]
  },
  {
   "cell_type": "markdown",
   "id": "5628a6f7-e356-4d45-95ee-17fcb316b3c7",
   "metadata": {},
   "source": [
    "## 创建目录"
   ]
  },
  {
   "cell_type": "code",
   "execution_count": 4,
   "id": "d149db7a-5f6e-4513-b5c2-72fdf3eb3e2a",
   "metadata": {
    "ExecuteTime": {
     "end_time": "2024-04-10T12:00:36.516871200Z",
     "start_time": "2024-04-10T12:00:36.496228600Z"
    }
   },
   "outputs": [],
   "source": [
    "import os"
   ]
  },
  {
   "cell_type": "code",
   "execution_count": 5,
   "id": "97a32738-da46-4b63-8b37-8a37dbf79602",
   "metadata": {
    "ExecuteTime": {
     "end_time": "2024-04-09T11:20:54.805526700Z",
     "start_time": "2024-04-09T11:20:54.731567900Z"
    }
   },
   "outputs": [],
   "source": [
    "# 存放测试图片\n",
    "os.mkdir('test_img')\n",
    "\n",
    "# 存放结果文件\n",
    "os.mkdir('output')\n",
    "\n",
    "# 存放训练得到的模型权重\n",
    "os.mkdir('checkpoint')"
   ]
  },
  {
   "cell_type": "code",
   "execution_count": 7,
   "id": "8c96b963-310c-4b2b-a426-0a30751f0910",
   "metadata": {},
   "outputs": [
    {
     "name": "stdout",
     "output_type": "stream",
     "text": [
      "--2022-08-19 15:06:05--  https://zihao-openmmlab.obs.cn-east-3.myhuaweicloud.com/20220716-mmclassification/checkpoints/fruit30_pytorch_20220814.pth\n",
      "Connecting to 172.16.0.13:5848... connected.\n",
      "Proxy request sent, awaiting response... 200 OK\n",
      "Length: 44854477 (43M) [binary/octet-stream]\n",
      "Saving to: ‘checkpoints/fruit30_pytorch_20220814.pth’\n",
      "\n",
      "fruit30_pytorch_202 100%[===================>]  42.78M  37.2MB/s    in 1.2s    \n",
      "\n",
      "2022-08-19 15:06:07 (37.2 MB/s) - ‘checkpoints/fruit30_pytorch_20220814.pth’ saved [44854477/44854477]\n",
      "\n",
      "--2022-08-19 15:06:07--  https://zihao-openmmlab.obs.cn-east-3.myhuaweicloud.com/20220716-mmclassification/dataset/fruit30/idx_to_labels.npy\n",
      "Connecting to 172.16.0.13:5848... connected.\n",
      "Proxy request sent, awaiting response... 200 OK\n",
      "Length: 769 [binary/octet-stream]\n",
      "Saving to: ‘idx_to_labels.npy’\n",
      "\n",
      "idx_to_labels.npy   100%[===================>]     769  --.-KB/s    in 0s      \n",
      "\n",
      "2022-08-19 15:06:07 (17.5 MB/s) - ‘idx_to_labels.npy’ saved [769/769]\n"
     ]
    }
   ],
   "source": [
    "# 下载样例模型文件\n",
    "!wget https://zihao-openmmlab.obs.cn-east-3.myhuaweicloud.com/20220716-mmclassification/checkpoints/fruit30_pytorch_20220814.pth -P checkpoint\n",
    "\n",
    "# 下载 类别名称 和 ID索引号 的映射字典\n",
    "!wget https://zihao-openmmlab.obs.cn-east-3.myhuaweicloud.com/20220716-mmclassification/dataset/fruit30/labels_to_idx.npy\n",
    "!wget https://zihao-openmmlab.obs.cn-east-3.myhuaweicloud.com/20220716-mmclassification/dataset/fruit30/idx_to_labels.npy\n"
   ]
  },
  {
   "cell_type": "code",
   "execution_count": 6,
   "id": "31061098-afd0-4170-8e9a-f62a5b1de1cf",
   "metadata": {
    "ExecuteTime": {
     "end_time": "2024-04-09T11:21:05.001442500Z",
     "start_time": "2024-04-09T11:21:04.760882100Z"
    }
   },
   "outputs": [
    {
     "name": "stderr",
     "output_type": "stream",
     "text": [
      "'wget' is not recognized as an internal or external command,\n",
      "operable program or batch file.\n",
      "'wget' is not recognized as an internal or external command,\n",
      "operable program or batch file.\n",
      "'wget' is not recognized as an internal or external command,\n",
      "operable program or batch file.\n",
      "'wget' is not recognized as an internal or external command,\n",
      "operable program or batch file.\n",
      "'wget' is not recognized as an internal or external command,\n",
      "operable program or batch file.\n"
     ]
    }
   ],
   "source": [
    "# 下载测试图像文件 至 test_img 文件夹\n",
    "\n",
    "# 边牧犬，来源：https://www.woopets.fr/assets/races/000/066/big-portrait/border-collie.jpg\n",
    "!wget https://zihao-openmmlab.obs.cn-east-3.myhuaweicloud.com/20220716-mmclassification/test/border-collie.jpg -P test_img\n",
    "\n",
    "!wget https://zihao-openmmlab.obs.cn-east-3.myhuaweicloud.com/20220716-mmclassification/test/cat_dog.jpg -P test_img\n",
    "\n",
    "!wget https://zihao-openmmlab.obs.cn-east-3.myhuaweicloud.com/20220716-mmclassification/test/0818/room_video.mp4 -P test_img\n",
    "\n",
    "# 草莓图像，来源：https://www.pexels.com/zh-cn/photo/4828489/\n",
    "!wget https://zihao-openmmlab.obs.cn-east-3.myhuaweicloud.com/20220716-mmclassification/test/0818/test_草莓.jpg -P test_img\n",
    "\n",
    "# !wget https://zihao-openmmlab.obs.myhuaweicloud.com/20220716-mmclassification/test/0818/test_fruits.jpg -P test_img\n",
    "\n",
    "# !wget https://zihao-openmmlab.obs.myhuaweicloud.com/20220716-mmclassification/test/0818/test_orange_2.jpg -P test_img \n",
    "\n",
    "# !wget https://zihao-openmmlab.obs.myhuaweicloud.com/20220716-mmclassification/test/0818/test_bananan.jpg -P test_img\n",
    "\n",
    "# !wget https://zihao-openmmlab.obs.myhuaweicloud.com/20220716-mmclassification/test/0818/test_kiwi.jpg -P test_img\n",
    "\n",
    "# !wget https://zihao-openmmlab.obs.myhuaweicloud.com/20220716-mmclassification/test/0818/test_石榴.jpg -P test_img\n",
    "\n",
    "# !wget https://zihao-openmmlab.obs.myhuaweicloud.com/20220716-mmclassification/test/0818/test_orange.jpg -P test_img\n",
    "\n",
    "# !wget https://zihao-openmmlab.obs.myhuaweicloud.com/20220716-mmclassification/test/0818/test_lemon.jpg -P test_img\n",
    "\n",
    "# !wget https://zihao-openmmlab.obs.myhuaweicloud.com/20220716-mmclassification/test/0818/test_火龙果.jpg -P test_img\n",
    "\n",
    "# !wget https://zihao-openmmlab.obs.cn-east-3.myhuaweicloud.com/20220716-mmclassification/test/watermelon1.jpg -P test_img\n",
    "\n",
    "# !wget https://zihao-openmmlab.obs.cn-east-3.myhuaweicloud.com/20220716-mmclassification/test/banana1.jpg -P test_img\n",
    "\n",
    "# 下载测试视频文件 至 test_img 文件夹\n",
    "\n",
    "!wget https://zihao-openmmlab.obs.myhuaweicloud.com/20220716-mmclassification/test/0818/fruits_video.mp4 -P test_img \n"
   ]
  },
  {
   "cell_type": "markdown",
   "id": "7a228df1-1bf2-44aa-9bc2-e0946621d749",
   "metadata": {},
   "source": [
    "## 安装torchcam"
   ]
  },
  {
   "cell_type": "code",
   "execution_count": 2,
   "id": "9bdd3de9-0be3-4591-9c66-54ca9b870b16",
   "metadata": {
    "ExecuteTime": {
     "end_time": "2024-04-11T06:32:09.322875900Z",
     "start_time": "2024-04-11T06:32:09.269957200Z"
    }
   },
   "outputs": [
    {
     "name": "stderr",
     "output_type": "stream",
     "text": [
      "'rm' is not recognized as an internal or external command,\n",
      "operable program or batch file.\n"
     ]
    }
   ],
   "source": [
    "# 删除原有的 torch-cam 目录（如有）\n",
    "!rm -rf torch-cam"
   ]
  },
  {
   "cell_type": "code",
   "execution_count": 5,
   "id": "e47cbba1-247e-49d5-b3de-9c2adba7598c",
   "metadata": {
    "ExecuteTime": {
     "end_time": "2024-04-16T13:10:03.827370600Z",
     "start_time": "2024-04-16T13:08:07.556814100Z"
    }
   },
   "outputs": [
    {
     "name": "stderr",
     "output_type": "stream",
     "text": [
      "Cloning into 'torch-cam'...\n"
     ]
    },
    {
     "name": "stdout",
     "output_type": "stream",
     "text": [
      "Obtaining file:///E:/MV-Code-202018010103-Lucy/main/Train_Custom_Dataset/%E5%9B%BE%E5%83%8F%E5%88%86%E7%B1%BB/6-%E5%8F%AF%E8%A7%A3%E9%87%8A%E6%80%A7%E5%88%86%E6%9E%90%E3%80%81%E6%98%BE%E8%91%97%E6%80%A7%E5%88%86%E6%9E%90/1.torch-cam%E5%B7%A5%E5%85%B7%E5%8C%85%EF%BC%9ACAM%E7%83%AD%E5%8A%9B%E5%9B%BE/torch-cam\n",
      "  Installing build dependencies: started\n",
      "  Installing build dependencies: finished with status 'done'\n",
      "  Checking if build backend supports build_editable: started\n",
      "  Checking if build backend supports build_editable: finished with status 'done'\n",
      "  Getting requirements to build editable: started\n",
      "  Getting requirements to build editable: finished with status 'done'\n",
      "  Preparing editable metadata (pyproject.toml): started\n",
      "  Preparing editable metadata (pyproject.toml): finished with status 'done'\n",
      "Collecting torch<3.0.0,>=2.0.0 (from torchcam==0.4.1.dev0)\n",
      "  Using cached torch-2.2.2-cp311-cp311-win_amd64.whl.metadata (26 kB)\n",
      "Requirement already satisfied: numpy<2.0.0,>=1.17.2 in d:\\software\\anaconda\\envs\\pt2\\lib\\site-packages (from torchcam==0.4.1.dev0) (1.26.4)\n",
      "Requirement already satisfied: Pillow!=9.2.0,>=8.4.0 in d:\\software\\anaconda\\envs\\pt2\\lib\\site-packages (from torchcam==0.4.1.dev0) (10.3.0)\n",
      "Collecting matplotlib<4.0.0,>=3.7.0 (from torchcam==0.4.1.dev0)\n",
      "  Downloading matplotlib-3.8.4-cp311-cp311-win_amd64.whl.metadata (5.9 kB)\n",
      "Collecting contourpy>=1.0.1 (from matplotlib<4.0.0,>=3.7.0->torchcam==0.4.1.dev0)\n",
      "  Downloading contourpy-1.2.1-cp311-cp311-win_amd64.whl.metadata (5.8 kB)\n",
      "Collecting cycler>=0.10 (from matplotlib<4.0.0,>=3.7.0->torchcam==0.4.1.dev0)\n",
      "  Using cached cycler-0.12.1-py3-none-any.whl.metadata (3.8 kB)\n",
      "Collecting fonttools>=4.22.0 (from matplotlib<4.0.0,>=3.7.0->torchcam==0.4.1.dev0)\n",
      "  Downloading fonttools-4.51.0-cp311-cp311-win_amd64.whl.metadata (162 kB)\n",
      "     ---------------------------------------- 0.0/162.8 kB ? eta -:--:--\n",
      "     ---------------------------------------- 0.0/162.8 kB ? eta -:--:--\n",
      "     -- ------------------------------------- 10.2/162.8 kB ? eta -:--:--\n",
      "     -- ------------------------------------- 10.2/162.8 kB ? eta -:--:--\n",
      "     ------------- ----------------------- 61.4/162.8 kB 550.5 kB/s eta 0:00:01\n",
      "     ------------------------ ----------- 112.6/162.8 kB 656.4 kB/s eta 0:00:01\n",
      "     ------------------------------- ---- 143.4/162.8 kB 778.5 kB/s eta 0:00:01\n",
      "     ------------------------------- ---- 143.4/162.8 kB 778.5 kB/s eta 0:00:01\n",
      "     ------------------------------- ---- 143.4/162.8 kB 778.5 kB/s eta 0:00:01\n",
      "     ------------------------------- ---- 143.4/162.8 kB 778.5 kB/s eta 0:00:01\n",
      "     ------------------------------------ 162.8/162.8 kB 406.7 kB/s eta 0:00:00\n",
      "Collecting kiwisolver>=1.3.1 (from matplotlib<4.0.0,>=3.7.0->torchcam==0.4.1.dev0)\n",
      "  Downloading kiwisolver-1.4.5-cp311-cp311-win_amd64.whl.metadata (6.5 kB)\n",
      "Requirement already satisfied: packaging>=20.0 in d:\\software\\anaconda\\envs\\pt2\\lib\\site-packages (from matplotlib<4.0.0,>=3.7.0->torchcam==0.4.1.dev0) (24.0)\n",
      "Collecting pyparsing>=2.3.1 (from matplotlib<4.0.0,>=3.7.0->torchcam==0.4.1.dev0)\n",
      "  Downloading pyparsing-3.1.2-py3-none-any.whl.metadata (5.1 kB)\n",
      "Requirement already satisfied: python-dateutil>=2.7 in d:\\software\\anaconda\\envs\\pt2\\lib\\site-packages (from matplotlib<4.0.0,>=3.7.0->torchcam==0.4.1.dev0) (2.9.0.post0)\n",
      "Collecting filelock (from torch<3.0.0,>=2.0.0->torchcam==0.4.1.dev0)\n",
      "  Downloading filelock-3.13.4-py3-none-any.whl.metadata (2.8 kB)\n",
      "Requirement already satisfied: typing-extensions>=4.8.0 in d:\\software\\anaconda\\envs\\pt2\\lib\\site-packages (from torch<3.0.0,>=2.0.0->torchcam==0.4.1.dev0) (4.11.0)\n",
      "Collecting sympy (from torch<3.0.0,>=2.0.0->torchcam==0.4.1.dev0)\n",
      "  Using cached sympy-1.12-py3-none-any.whl.metadata (12 kB)\n",
      "Collecting networkx (from torch<3.0.0,>=2.0.0->torchcam==0.4.1.dev0)\n",
      "  Downloading networkx-3.3-py3-none-any.whl.metadata (5.1 kB)\n",
      "Requirement already satisfied: jinja2 in d:\\software\\anaconda\\envs\\pt2\\lib\\site-packages (from torch<3.0.0,>=2.0.0->torchcam==0.4.1.dev0) (3.1.3)\n",
      "Collecting fsspec (from torch<3.0.0,>=2.0.0->torchcam==0.4.1.dev0)\n",
      "  Using cached fsspec-2024.3.1-py3-none-any.whl.metadata (6.8 kB)\n",
      "Requirement already satisfied: six>=1.5 in d:\\software\\anaconda\\envs\\pt2\\lib\\site-packages (from python-dateutil>=2.7->matplotlib<4.0.0,>=3.7.0->torchcam==0.4.1.dev0) (1.16.0)\n",
      "Requirement already satisfied: MarkupSafe>=2.0 in d:\\software\\anaconda\\envs\\pt2\\lib\\site-packages (from jinja2->torch<3.0.0,>=2.0.0->torchcam==0.4.1.dev0) (2.1.5)\n",
      "Collecting mpmath>=0.19 (from sympy->torch<3.0.0,>=2.0.0->torchcam==0.4.1.dev0)\n",
      "  Using cached mpmath-1.3.0-py3-none-any.whl.metadata (8.6 kB)\n",
      "Downloading matplotlib-3.8.4-cp311-cp311-win_amd64.whl (7.7 MB)\n",
      "   ---------------------------------------- 0.0/7.7 MB ? eta -:--:--\n",
      "    --------------------------------------- 0.1/7.7 MB 3.2 MB/s eta 0:00:03\n",
      "   - -------------------------------------- 0.2/7.7 MB 2.9 MB/s eta 0:00:03\n",
      "   -- ------------------------------------- 0.5/7.7 MB 3.6 MB/s eta 0:00:02\n",
      "   ---- ----------------------------------- 1.0/7.7 MB 5.5 MB/s eta 0:00:02\n",
      "   -------- ------------------------------- 1.7/7.7 MB 7.8 MB/s eta 0:00:01\n",
      "   ------------ --------------------------- 2.5/7.7 MB 9.2 MB/s eta 0:00:01\n",
      "   ---------------- ----------------------- 3.2/7.7 MB 10.9 MB/s eta 0:00:01\n",
      "   -------------------- ------------------- 3.8/7.7 MB 10.6 MB/s eta 0:00:01\n",
      "   ------------------------- -------------- 4.8/7.7 MB 11.7 MB/s eta 0:00:01\n",
      "   ------------------------- -------------- 4.8/7.7 MB 11.7 MB/s eta 0:00:01\n",
      "   ------------------------------------ --- 6.9/7.7 MB 13.9 MB/s eta 0:00:01\n",
      "   ---------------------------------------- 7.7/7.7 MB 14.0 MB/s eta 0:00:00\n",
      "Downloading torch-2.2.2-cp311-cp311-win_amd64.whl (198.6 MB)\n",
      "   ---------------------------------------- 0.0/198.6 MB ? eta -:--:--\n",
      "   ---------------------------------------- 0.4/198.6 MB ? eta -:--:--\n",
      "    --------------------------------------- 2.8/198.6 MB 36.1 MB/s eta 0:00:06\n",
      "    --------------------------------------- 4.6/198.6 MB 36.6 MB/s eta 0:00:06\n",
      "   - -------------------------------------- 5.4/198.6 MB 31.6 MB/s eta 0:00:07\n",
      "   - -------------------------------------- 8.8/198.6 MB 40.0 MB/s eta 0:00:05\n",
      "   - -------------------------------------- 9.5/198.6 MB 40.3 MB/s eta 0:00:05\n",
      "   - -------------------------------------- 9.5/198.6 MB 40.3 MB/s eta 0:00:05\n",
      "   - -------------------------------------- 9.8/198.6 MB 27.1 MB/s eta 0:00:07\n",
      "   -- ------------------------------------- 11.7/198.6 MB 32.8 MB/s eta 0:00:06\n",
      "   -- ------------------------------------- 13.3/198.6 MB 28.5 MB/s eta 0:00:07\n",
      "   --- ------------------------------------ 16.6/198.6 MB 32.8 MB/s eta 0:00:06\n",
      "   --- ------------------------------------ 18.9/198.6 MB 34.4 MB/s eta 0:00:06\n",
      "   --- ------------------------------------ 18.9/198.6 MB 34.4 MB/s eta 0:00:06\n",
      "   --- ------------------------------------ 18.9/198.6 MB 34.4 MB/s eta 0:00:06\n",
      "   --- ------------------------------------ 18.9/198.6 MB 34.4 MB/s eta 0:00:06\n",
      "   --- ------------------------------------ 18.9/198.6 MB 34.4 MB/s eta 0:00:06\n",
      "   ---- ----------------------------------- 21.3/198.6 MB 27.3 MB/s eta 0:00:07\n",
      "   ---- ----------------------------------- 21.3/198.6 MB 27.3 MB/s eta 0:00:07\n",
      "   ---- ----------------------------------- 23.0/198.6 MB 25.1 MB/s eta 0:00:07\n",
      "   ---- ----------------------------------- 23.0/198.6 MB 25.1 MB/s eta 0:00:07\n",
      "   ----- ---------------------------------- 26.3/198.6 MB 21.9 MB/s eta 0:00:08\n",
      "   ----- ---------------------------------- 26.3/198.6 MB 21.9 MB/s eta 0:00:08\n",
      "   ----- ---------------------------------- 26.3/198.6 MB 21.9 MB/s eta 0:00:08\n",
      "   ----- ---------------------------------- 27.1/198.6 MB 17.7 MB/s eta 0:00:10\n",
      "   ----- ---------------------------------- 27.1/198.6 MB 17.7 MB/s eta 0:00:10\n",
      "   ----- ---------------------------------- 27.1/198.6 MB 17.7 MB/s eta 0:00:10\n",
      "   ----- ---------------------------------- 27.7/198.6 MB 14.6 MB/s eta 0:00:12\n",
      "   ----- ---------------------------------- 27.7/198.6 MB 14.6 MB/s eta 0:00:12\n",
      "   ------ --------------------------------- 31.5/198.6 MB 17.7 MB/s eta 0:00:10\n",
      "   ------- -------------------------------- 37.0/198.6 MB 34.4 MB/s eta 0:00:05\n",
      "   ------- -------------------------------- 37.8/198.6 MB 54.4 MB/s eta 0:00:03\n",
      "   ------- -------------------------------- 37.8/198.6 MB 54.4 MB/s eta 0:00:03\n",
      "   ------- -------------------------------- 37.8/198.6 MB 54.4 MB/s eta 0:00:03\n",
      "   ------- -------------------------------- 37.8/198.6 MB 54.4 MB/s eta 0:00:03\n",
      "   ------- -------------------------------- 37.8/198.6 MB 54.4 MB/s eta 0:00:03\n",
      "   ------- -------------------------------- 37.8/198.6 MB 54.4 MB/s eta 0:00:03\n",
      "   ------- -------------------------------- 37.8/198.6 MB 54.4 MB/s eta 0:00:03\n",
      "   ------- -------------------------------- 37.8/198.6 MB 54.4 MB/s eta 0:00:03\n",
      "   ------- -------------------------------- 37.8/198.6 MB 54.4 MB/s eta 0:00:03\n",
      "   ------- -------------------------------- 37.8/198.6 MB 54.4 MB/s eta 0:00:03\n",
      "   ------- -------------------------------- 37.8/198.6 MB 54.4 MB/s eta 0:00:03\n",
      "   ------- -------------------------------- 38.7/198.6 MB 17.2 MB/s eta 0:00:10\n",
      "   ------- -------------------------------- 38.7/198.6 MB 16.4 MB/s eta 0:00:10\n",
      "   ------- -------------------------------- 39.7/198.6 MB 15.2 MB/s eta 0:00:11\n",
      "   -------- ------------------------------- 41.8/198.6 MB 13.6 MB/s eta 0:00:12\n",
      "   -------- ------------------------------- 42.0/198.6 MB 13.1 MB/s eta 0:00:12\n",
      "   -------- ------------------------------- 42.2/198.6 MB 12.4 MB/s eta 0:00:13\n",
      "   -------- ------------------------------- 42.6/198.6 MB 11.9 MB/s eta 0:00:14\n",
      "   -------- ------------------------------- 42.6/198.6 MB 11.9 MB/s eta 0:00:14\n",
      "   -------- ------------------------------- 42.6/198.6 MB 11.9 MB/s eta 0:00:14\n",
      "   -------- ------------------------------- 42.6/198.6 MB 11.9 MB/s eta 0:00:14\n",
      "   -------- ------------------------------- 43.6/198.6 MB 9.8 MB/s eta 0:00:16\n",
      "   -------- ------------------------------- 43.6/198.6 MB 9.8 MB/s eta 0:00:16\n",
      "   -------- ------------------------------- 43.7/198.6 MB 9.0 MB/s eta 0:00:18\n",
      "   --------- ------------------------------ 45.5/198.6 MB 8.6 MB/s eta 0:00:18\n",
      "   --------- ------------------------------ 45.5/198.6 MB 8.6 MB/s eta 0:00:18\n",
      "   --------- ------------------------------ 45.6/198.6 MB 8.0 MB/s eta 0:00:20\n",
      "   --------- ------------------------------ 46.2/198.6 MB 7.9 MB/s eta 0:00:20\n",
      "   --------- ------------------------------ 47.4/198.6 MB 7.6 MB/s eta 0:00:20\n",
      "   --------- ------------------------------ 47.4/198.6 MB 7.6 MB/s eta 0:00:20\n",
      "   --------- ------------------------------ 48.4/198.6 MB 11.1 MB/s eta 0:00:14\n",
      "   --------- ------------------------------ 49.5/198.6 MB 11.7 MB/s eta 0:00:13\n",
      "   ---------- ----------------------------- 50.9/198.6 MB 11.7 MB/s eta 0:00:13\n",
      "   ---------- ----------------------------- 53.0/198.6 MB 18.2 MB/s eta 0:00:09\n",
      "   ---------- ----------------------------- 53.6/198.6 MB 17.2 MB/s eta 0:00:09\n",
      "   ---------- ----------------------------- 53.6/198.6 MB 17.2 MB/s eta 0:00:09\n",
      "   ---------- ----------------------------- 53.6/198.6 MB 17.2 MB/s eta 0:00:09\n",
      "   ---------- ----------------------------- 53.6/198.6 MB 14.2 MB/s eta 0:00:11\n",
      "   ---------- ----------------------------- 53.6/198.6 MB 14.2 MB/s eta 0:00:11\n",
      "   ---------- ----------------------------- 54.6/198.6 MB 14.6 MB/s eta 0:00:10\n",
      "   ----------- ---------------------------- 55.1/198.6 MB 13.4 MB/s eta 0:00:11\n",
      "   ----------- ---------------------------- 55.1/198.6 MB 13.4 MB/s eta 0:00:11\n",
      "   ----------- ---------------------------- 56.3/198.6 MB 13.9 MB/s eta 0:00:11\n",
      "   ----------- ---------------------------- 57.2/198.6 MB 13.9 MB/s eta 0:00:11\n",
      "   ----------- ---------------------------- 57.9/198.6 MB 15.6 MB/s eta 0:00:10\n",
      "   ----------- ---------------------------- 57.9/198.6 MB 15.6 MB/s eta 0:00:10\n",
      "   ----------- ---------------------------- 58.4/198.6 MB 13.6 MB/s eta 0:00:11\n",
      "   ------------ --------------------------- 59.8/198.6 MB 13.9 MB/s eta 0:00:10\n",
      "   ------------ --------------------------- 60.5/198.6 MB 13.6 MB/s eta 0:00:11\n",
      "   ------------ --------------------------- 61.2/198.6 MB 13.1 MB/s eta 0:00:11\n",
      "   ------------ --------------------------- 61.5/198.6 MB 12.6 MB/s eta 0:00:11\n",
      "   ------------ --------------------------- 61.5/198.6 MB 12.6 MB/s eta 0:00:11\n",
      "   ------------ --------------------------- 63.2/198.6 MB 11.5 MB/s eta 0:00:12\n",
      "   ------------ --------------------------- 63.8/198.6 MB 13.1 MB/s eta 0:00:11\n",
      "   ------------ --------------------------- 64.4/198.6 MB 13.9 MB/s eta 0:00:10\n",
      "   ------------ --------------------------- 64.4/198.6 MB 13.9 MB/s eta 0:00:10\n",
      "   ------------- -------------------------- 65.0/198.6 MB 13.4 MB/s eta 0:00:11\n",
      "   ------------- -------------------------- 65.3/198.6 MB 14.9 MB/s eta 0:00:09\n",
      "   ------------- -------------------------- 65.8/198.6 MB 14.2 MB/s eta 0:00:10\n",
      "   ------------- -------------------------- 67.8/198.6 MB 14.2 MB/s eta 0:00:10\n",
      "   ------------- -------------------------- 67.9/198.6 MB 14.2 MB/s eta 0:00:10\n",
      "   ------------- -------------------------- 67.9/198.6 MB 14.2 MB/s eta 0:00:10\n",
      "   -------------- ------------------------- 69.8/198.6 MB 14.6 MB/s eta 0:00:09\n",
      "   -------------- ------------------------- 70.3/198.6 MB 14.2 MB/s eta 0:00:10\n",
      "   -------------- ------------------------- 70.3/198.6 MB 14.2 MB/s eta 0:00:10\n",
      "   -------------- ------------------------- 71.4/198.6 MB 13.6 MB/s eta 0:00:10\n",
      "   -------------- ------------------------- 71.8/198.6 MB 16.4 MB/s eta 0:00:08\n",
      "   -------------- ------------------------- 71.8/198.6 MB 14.2 MB/s eta 0:00:09\n",
      "   -------------- ------------------------- 73.2/198.6 MB 14.6 MB/s eta 0:00:09\n",
      "   -------------- ------------------------- 73.2/198.6 MB 14.6 MB/s eta 0:00:09\n",
      "   --------------- ------------------------ 75.0/198.6 MB 15.6 MB/s eta 0:00:08\n",
      "   --------------- ------------------------ 75.4/198.6 MB 16.0 MB/s eta 0:00:08\n",
      "   --------------- ------------------------ 75.4/198.6 MB 16.0 MB/s eta 0:00:08\n",
      "   --------------- ------------------------ 76.9/198.6 MB 15.2 MB/s eta 0:00:08\n",
      "   --------------- ------------------------ 76.9/198.6 MB 15.2 MB/s eta 0:00:08\n",
      "   --------------- ------------------------ 78.2/198.6 MB 16.4 MB/s eta 0:00:08\n",
      "   --------------- ------------------------ 78.9/198.6 MB 15.6 MB/s eta 0:00:08\n",
      "   ---------------- ----------------------- 79.6/198.6 MB 14.2 MB/s eta 0:00:09\n",
      "   ---------------- ----------------------- 80.3/198.6 MB 14.2 MB/s eta 0:00:09\n",
      "   ---------------- ----------------------- 80.9/198.6 MB 16.0 MB/s eta 0:00:08\n",
      "   ---------------- ----------------------- 81.6/198.6 MB 14.9 MB/s eta 0:00:08\n",
      "   ---------------- ----------------------- 82.3/198.6 MB 15.6 MB/s eta 0:00:08\n",
      "   ---------------- ----------------------- 82.9/198.6 MB 14.9 MB/s eta 0:00:08\n",
      "   ---------------- ----------------------- 83.6/198.6 MB 16.4 MB/s eta 0:00:08\n",
      "   ---------------- ----------------------- 84.3/198.6 MB 15.2 MB/s eta 0:00:08\n",
      "   ----------------- ---------------------- 85.0/198.6 MB 14.6 MB/s eta 0:00:08\n",
      "   ----------------- ---------------------- 85.6/198.6 MB 14.2 MB/s eta 0:00:08\n",
      "   ----------------- ---------------------- 86.3/198.6 MB 15.6 MB/s eta 0:00:08\n",
      "   ----------------- ---------------------- 86.9/198.6 MB 14.6 MB/s eta 0:00:08\n",
      "   ----------------- ---------------------- 87.6/198.6 MB 14.9 MB/s eta 0:00:08\n",
      "   ----------------- ---------------------- 88.3/198.6 MB 14.6 MB/s eta 0:00:08\n",
      "   ----------------- ---------------------- 89.0/198.6 MB 14.5 MB/s eta 0:00:08\n",
      "   ------------------ --------------------- 89.9/198.6 MB 14.9 MB/s eta 0:00:08\n",
      "   ------------------ --------------------- 90.7/198.6 MB 14.9 MB/s eta 0:00:08\n",
      "   ------------------ --------------------- 91.5/198.6 MB 15.2 MB/s eta 0:00:08\n",
      "   ------------------ --------------------- 92.4/198.6 MB 15.6 MB/s eta 0:00:07\n",
      "   ------------------ --------------------- 93.3/198.6 MB 16.0 MB/s eta 0:00:07\n",
      "   ------------------- -------------------- 94.4/198.6 MB 16.8 MB/s eta 0:00:07\n",
      "   ------------------- -------------------- 95.2/198.6 MB 17.2 MB/s eta 0:00:07\n",
      "   ------------------- -------------------- 96.4/198.6 MB 18.2 MB/s eta 0:00:06\n",
      "   ------------------- -------------------- 97.4/198.6 MB 18.7 MB/s eta 0:00:06\n",
      "   ------------------- -------------------- 98.6/198.6 MB 19.9 MB/s eta 0:00:06\n",
      "   -------------------- ------------------- 99.8/198.6 MB 21.1 MB/s eta 0:00:05\n",
      "   ------------------- ------------------- 100.9/198.6 MB 22.6 MB/s eta 0:00:05\n",
      "   -------------------- ------------------ 102.1/198.6 MB 23.4 MB/s eta 0:00:05\n",
      "   -------------------- ------------------ 103.4/198.6 MB 24.2 MB/s eta 0:00:04\n",
      "   -------------------- ------------------ 103.7/198.6 MB 24.2 MB/s eta 0:00:04\n",
      "   -------------------- ------------------ 105.0/198.6 MB 23.4 MB/s eta 0:00:05\n",
      "   -------------------- ------------------ 106.8/198.6 MB 26.2 MB/s eta 0:00:04\n",
      "   -------------------- ------------------ 106.8/198.6 MB 26.2 MB/s eta 0:00:04\n",
      "   --------------------- ----------------- 109.7/198.6 MB 27.3 MB/s eta 0:00:04\n",
      "   --------------------- ----------------- 109.7/198.6 MB 27.3 MB/s eta 0:00:04\n",
      "   ---------------------- ---------------- 112.6/198.6 MB 28.5 MB/s eta 0:00:04\n",
      "   ---------------------- ---------------- 113.7/198.6 MB 28.5 MB/s eta 0:00:03\n",
      "   ---------------------- ---------------- 114.9/198.6 MB 31.2 MB/s eta 0:00:03\n",
      "   ---------------------- ---------------- 115.7/198.6 MB 29.8 MB/s eta 0:00:03\n",
      "   ---------------------- ---------------- 115.7/198.6 MB 29.8 MB/s eta 0:00:03\n",
      "   ----------------------- --------------- 119.3/198.6 MB 29.7 MB/s eta 0:00:03\n",
      "   ----------------------- --------------- 120.9/198.6 MB 34.4 MB/s eta 0:00:03\n",
      "   ------------------------ -------------- 122.4/198.6 MB 31.2 MB/s eta 0:00:03\n",
      "   ------------------------ -------------- 124.4/198.6 MB 32.8 MB/s eta 0:00:03\n",
      "   ------------------------ -------------- 125.5/198.6 MB 32.8 MB/s eta 0:00:03\n",
      "   ------------------------ -------------- 127.2/198.6 MB 38.5 MB/s eta 0:00:02\n",
      "   ------------------------ -------------- 127.2/198.6 MB 38.5 MB/s eta 0:00:02\n",
      "   ------------------------ -------------- 127.2/198.6 MB 38.5 MB/s eta 0:00:02\n",
      "   ------------------------ -------------- 127.2/198.6 MB 38.5 MB/s eta 0:00:02\n",
      "   ------------------------- ------------- 128.3/198.6 MB 24.2 MB/s eta 0:00:03\n",
      "   -------------------------- ------------ 133.4/198.6 MB 29.8 MB/s eta 0:00:03\n",
      "   -------------------------- ------------ 136.2/198.6 MB 32.8 MB/s eta 0:00:02\n",
      "   --------------------------- ----------- 138.4/198.6 MB 65.6 MB/s eta 0:00:01\n",
      "   --------------------------- ----------- 140.1/198.6 MB 59.5 MB/s eta 0:00:01\n",
      "   --------------------------- ----------- 142.0/198.6 MB 50.4 MB/s eta 0:00:02\n",
      "   ---------------------------- ---------- 143.7/198.6 MB 46.7 MB/s eta 0:00:02\n",
      "   ---------------------------- ---------- 143.7/198.6 MB 46.7 MB/s eta 0:00:02\n",
      "   ---------------------------- ---------- 146.3/198.6 MB 36.3 MB/s eta 0:00:02\n",
      "   ----------------------------- --------- 150.1/198.6 MB 43.7 MB/s eta 0:00:02\n",
      "   ----------------------------- --------- 152.0/198.6 MB 43.5 MB/s eta 0:00:02\n",
      "   ------------------------------ -------- 153.8/198.6 MB 43.5 MB/s eta 0:00:02\n",
      "   ------------------------------ -------- 156.1/198.6 MB 54.7 MB/s eta 0:00:01\n",
      "   ------------------------------ -------- 157.1/198.6 MB 50.4 MB/s eta 0:00:01\n",
      "   ------------------------------ -------- 157.1/198.6 MB 50.4 MB/s eta 0:00:01\n",
      "   ------------------------------- ------- 157.9/198.6 MB 32.7 MB/s eta 0:00:02\n",
      "   ------------------------------- ------- 162.1/198.6 MB 34.4 MB/s eta 0:00:02\n",
      "   -------------------------------- ------ 163.4/198.6 MB 38.5 MB/s eta 0:00:01\n",
      "   -------------------------------- ------ 163.4/198.6 MB 38.5 MB/s eta 0:00:01\n",
      "   -------------------------------- ------ 163.4/198.6 MB 38.5 MB/s eta 0:00:01\n",
      "   -------------------------------- ------ 165.5/198.6 MB 26.2 MB/s eta 0:00:02\n",
      "   --------------------------------- ----- 169.3/198.6 MB 40.9 MB/s eta 0:00:01\n",
      "   --------------------------------- ----- 170.0/198.6 MB 36.4 MB/s eta 0:00:01\n",
      "   ---------------------------------- ---- 173.1/198.6 MB 32.8 MB/s eta 0:00:01\n",
      "   ---------------------------------- ---- 175.0/198.6 MB 50.4 MB/s eta 0:00:01\n",
      "   ---------------------------------- ---- 175.1/198.6 MB 46.7 MB/s eta 0:00:01\n",
      "   ---------------------------------- ---- 175.1/198.6 MB 46.7 MB/s eta 0:00:01\n",
      "   ---------------------------------- ---- 175.1/198.6 MB 46.7 MB/s eta 0:00:01\n",
      "   ---------------------------------- ---- 175.1/198.6 MB 46.7 MB/s eta 0:00:01\n",
      "   ---------------------------------- ---- 176.0/198.6 MB 28.5 MB/s eta 0:00:01\n",
      "   ----------------------------------- --- 178.9/198.6 MB 25.1 MB/s eta 0:00:01\n",
      "   ----------------------------------- --- 179.7/198.6 MB 23.4 MB/s eta 0:00:01\n",
      "   ----------------------------------- --- 180.0/198.6 MB 22.6 MB/s eta 0:00:01\n",
      "   ----------------------------------- --- 180.4/198.6 MB 21.1 MB/s eta 0:00:01\n",
      "   ------------------------------------ -- 185.4/198.6 MB 40.9 MB/s eta 0:00:01\n",
      "   ------------------------------------ -- 185.8/198.6 MB 38.5 MB/s eta 0:00:01\n",
      "   ------------------------------------ -- 185.8/198.6 MB 38.5 MB/s eta 0:00:01\n",
      "   ------------------------------------ -- 185.8/198.6 MB 38.5 MB/s eta 0:00:01\n",
      "   ------------------------------------ -- 187.2/198.6 MB 27.3 MB/s eta 0:00:01\n",
      "   ------------------------------------ -- 187.2/198.6 MB 23.4 MB/s eta 0:00:01\n",
      "   ------------------------------------ -- 188.3/198.6 MB 21.9 MB/s eta 0:00:01\n",
      "   ------------------------------------- - 189.5/198.6 MB 21.8 MB/s eta 0:00:01\n",
      "   ------------------------------------- - 191.2/198.6 MB 25.2 MB/s eta 0:00:01\n",
      "   ------------------------------------- - 192.8/198.6 MB 23.4 MB/s eta 0:00:01\n",
      "   ------------------------------------- - 192.8/198.6 MB 23.4 MB/s eta 0:00:01\n",
      "   --------------------------------------  193.9/198.6 MB 20.5 MB/s eta 0:00:01\n",
      "   --------------------------------------  196.8/198.6 MB 26.2 MB/s eta 0:00:01\n",
      "   --------------------------------------  198.6/198.6 MB 32.7 MB/s eta 0:00:01\n",
      "   --------------------------------------  198.6/198.6 MB 32.7 MB/s eta 0:00:01\n",
      "   --------------------------------------  198.6/198.6 MB 32.7 MB/s eta 0:00:01\n",
      "   --------------------------------------  198.6/198.6 MB 32.7 MB/s eta 0:00:01\n",
      "   --------------------------------------  198.6/198.6 MB 32.7 MB/s eta 0:00:01\n",
      "   --------------------------------------  198.6/198.6 MB 32.7 MB/s eta 0:00:01\n",
      "   --------------------------------------- 198.6/198.6 MB 17.2 MB/s eta 0:00:00\n",
      "Downloading contourpy-1.2.1-cp311-cp311-win_amd64.whl (188 kB)\n",
      "   ---------------------------------------- 0.0/188.2 kB ? eta -:--:--\n",
      "   --------------------------------------- 188.2/188.2 kB 11.1 MB/s eta 0:00:00\n",
      "Using cached cycler-0.12.1-py3-none-any.whl (8.3 kB)\n",
      "Downloading fonttools-4.51.0-cp311-cp311-win_amd64.whl (2.2 MB)\n",
      "   ---------------------------------------- 0.0/2.2 MB ? eta -:--:--\n",
      "   ---------------------------------------- 2.2/2.2 MB 70.3 MB/s eta 0:00:00\n",
      "Downloading kiwisolver-1.4.5-cp311-cp311-win_amd64.whl (56 kB)\n",
      "   ---------------------------------------- 0.0/56.1 kB ? eta -:--:--\n",
      "   ---------------------------------------- 56.1/56.1 kB ? eta 0:00:00\n",
      "Downloading pyparsing-3.1.2-py3-none-any.whl (103 kB)\n",
      "   ---------------------------------------- 0.0/103.2 kB ? eta -:--:--\n",
      "   ---------------------------------------- 103.2/103.2 kB 5.8 MB/s eta 0:00:00\n",
      "Downloading filelock-3.13.4-py3-none-any.whl (11 kB)\n",
      "Using cached fsspec-2024.3.1-py3-none-any.whl (171 kB)\n",
      "Downloading networkx-3.3-py3-none-any.whl (1.7 MB)\n",
      "   ---------------------------------------- 0.0/1.7 MB ? eta -:--:--\n",
      "   - -------------------------------------- 0.1/1.7 MB ? eta -:--:--\n",
      "   ---------------------------------------  1.7/1.7 MB 26.8 MB/s eta 0:00:01\n",
      "   ---------------------------------------- 1.7/1.7 MB 21.4 MB/s eta 0:00:00\n",
      "Using cached sympy-1.12-py3-none-any.whl (5.7 MB)\n",
      "Using cached mpmath-1.3.0-py3-none-any.whl (536 kB)\n",
      "Building wheels for collected packages: torchcam\n",
      "  Building editable for torchcam (pyproject.toml): started\n",
      "  Building editable for torchcam (pyproject.toml): finished with status 'done'\n",
      "  Created wheel for torchcam: filename=torchcam-0.4.1.dev0-0.editable-py3-none-any.whl size=16548 sha256=3cd757f1c839644874ae698e814868cf1974673fc0da8834e756a7d24cb08289\n",
      "  Stored in directory: C:\\Users\\61640\\AppData\\Local\\Temp\\pip-ephem-wheel-cache-yq3f045t\\wheels\\bc\\00\\25\\e15f623ddccb4fee3da36ab1ca9f0812c8820420925c30c120\n",
      "Successfully built torchcam\n",
      "Installing collected packages: mpmath, sympy, pyparsing, networkx, kiwisolver, fsspec, fonttools, filelock, cycler, contourpy, torch, matplotlib, torchcam\n",
      "Successfully installed contourpy-1.2.1 cycler-0.12.1 filelock-3.13.4 fonttools-4.51.0 fsspec-2024.3.1 kiwisolver-1.4.5 matplotlib-3.8.4 mpmath-1.3.0 networkx-3.3 pyparsing-3.1.2 sympy-1.12 torch-2.2.2 torchcam-0.4.1.dev0\n"
     ]
    }
   ],
   "source": [
    "# 下载安装 torch-cam\n",
    "!git clone https://github.com/frgfm/torch-cam.git\n",
    "!pip install -e torch-cam/."
   ]
  },
  {
   "cell_type": "markdown",
   "id": "4b73a1d2-e44c-4fce-ac3f-c5d164aae612",
   "metadata": {},
   "source": [
    "## 重启kernel"
   ]
  },
  {
   "cell_type": "code",
   "execution_count": 1,
   "id": "e243519e-ab7f-4ec5-8be2-cd9207e869d9",
   "metadata": {
    "ExecuteTime": {
     "end_time": "2024-04-16T13:12:48.978706Z",
     "start_time": "2024-04-16T13:12:46.418777900Z"
    }
   },
   "outputs": [],
   "source": [
    "# 验证安装成功\n",
    "import torchcam"
   ]
  },
  {
   "cell_type": "markdown",
   "id": "5740f4ff-7de4-450f-9d91-b1cadf8f0d52",
   "metadata": {},
   "source": [
    "## 设置matplotlib中文字体"
   ]
  },
  {
   "cell_type": "code",
   "execution_count": 8,
   "id": "12f5d4c9-aa6c-41ce-9094-08118eb6fba1",
   "metadata": {
    "ExecuteTime": {
     "end_time": "2024-04-16T13:12:18.544057600Z",
     "start_time": "2024-04-16T13:12:17.828851100Z"
    }
   },
   "outputs": [],
   "source": [
    "import matplotlib.pyplot as plt\n",
    "%matplotlib inline"
   ]
  },
  {
   "cell_type": "code",
   "execution_count": 9,
   "id": "875f443b-c943-42fe-bb3b-9dfbf01f28f8",
   "metadata": {
    "ExecuteTime": {
     "end_time": "2024-04-16T13:12:18.930201500Z",
     "start_time": "2024-04-16T13:12:18.904069600Z"
    }
   },
   "outputs": [],
   "source": [
    "# # windows操作系统\n",
    "plt.rcParams['font.sans-serif']=['SimHei']  # 用来正常显示中文标签 \n",
    "plt.rcParams['axes.unicode_minus']=False  # 用来正常显示负号"
   ]
  },
  {
   "cell_type": "code",
   "execution_count": 6,
   "id": "b693a006-5a40-49b7-b1da-a2f4e822f140",
   "metadata": {},
   "outputs": [],
   "source": [
    "# Mac操作系统，参考 https://www.ngui.cc/51cto/show-727683.html\n",
    "# 下载 simhei.ttf 字体文件\n",
    "# !wget https://zihao-openmmlab.obs.cn-east-3.myhuaweicloud.com/20220716-mmclassification/dataset/SimHei.ttf"
   ]
  },
  {
   "cell_type": "code",
   "execution_count": 6,
   "id": "ec933a1e-fb24-48ac-a945-69f2149c5301",
   "metadata": {
    "ExecuteTime": {
     "end_time": "2024-04-10T11:42:25.745991400Z",
     "start_time": "2024-04-10T11:42:23.836274100Z"
    }
   },
   "outputs": [
    {
     "name": "stderr",
     "output_type": "stream",
     "text": [
      "'wget' is not recognized as an internal or external command,\n",
      "operable program or batch file.\n",
      "'rm' is not recognized as an internal or external command,\n",
      "operable program or batch file.\n"
     ]
    }
   ],
   "source": [
    "# Linux操作系统，例如 云GPU平台：https://featurize.cn/?s=d7ce99f842414bfcaea5662a97581bd1\n",
    "# 如果报错 Unable to establish SSL connection.，重新运行本代码块即可\n",
    "!wget https://zihao-openmmlab.obs.cn-east-3.myhuaweicloud.com/20220716-mmclassification/dataset/SimHei.ttf -O /environment/miniconda3/lib/python3.7/site-packages/matplotlib/mpl-data/fonts/ttf/SimHei.ttf --no-check-certificate\n",
    "!rm -rf /home/featurize/.cache/matplotlib\n",
    "\n",
    "import matplotlib\n",
    "import matplotlib.pyplot as plt\n",
    "%matplotlib inline\n",
    "matplotlib.rc(\"font\",family='SimHei') # 中文字体\n",
    "plt.rcParams['axes.unicode_minus']=False  # 用来正常显示负号"
   ]
  },
  {
   "cell_type": "code",
   "execution_count": 10,
   "id": "da0ce49d-5ff5-471d-b19e-4037a2e1dd20",
   "metadata": {
    "ExecuteTime": {
     "end_time": "2024-04-16T13:12:22.000106100Z",
     "start_time": "2024-04-16T13:12:21.796622Z"
    }
   },
   "outputs": [
    {
     "data": {
      "text/plain": "<Figure size 640x480 with 1 Axes>",
      "image/png": "[encoded data removed]"
     },
     "metadata": {},
     "output_type": "display_data"
    }
   ],
   "source": [
    "plt.plot([1,2,3], [100,500,300])\n",
    "plt.title('matplotlib中文字体测试', fontsize=25)\n",
    "plt.xlabel('X轴', fontsize=15)\n",
    "plt.ylabel('Y轴', fontsize=15)\n",
    "plt.show()"
   ]
  },
  {
   "cell_type": "markdown",
   "id": "f69b7337-b6b5-427e-8bc3-9949c6936d61",
   "metadata": {},
   "source": [
    "如果上图绘制不成功，重启kernel后重新运行`设置matplotlib中文字体`部分的代码即可"
   ]
  },
  {
   "cell_type": "code",
   "execution_count": null,
   "id": "a5010060-9e40-4385-860f-50d7c6962b6e",
   "metadata": {},
   "outputs": [],
   "source": []
  }
 ],
 "metadata": {
  "kernelspec": {
   "display_name": "Python 3 (ipykernel)",
   "language": "python",
   "name": "python3"
  },
  "language_info": {
   "codemirror_mode": {
    "name": "ipython",
    "version": 3
   },
   "file_extension": ".py",
   "mimetype": "text/x-python",
   "name": "python",
   "nbconvert_exporter": "python",
   "pygments_lexer": "ipython3",
   "version": "3.7.10"
  }
 },
 "nbformat": 4,
 "nbformat_minor": 5
}
