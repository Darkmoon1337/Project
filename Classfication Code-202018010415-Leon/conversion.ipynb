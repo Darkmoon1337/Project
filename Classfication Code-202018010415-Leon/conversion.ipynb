{
 "cells": [
  {
   "cell_type": "raw",
   "source": [],
   "metadata": {
    "collapsed": false
   },
   "id": "3347cf3f56cfeda4"
  },
  {
   "cell_type": "code",
   "execution_count": 1,
   "outputs": [],
   "source": [
    "import tensorflow as tf"
   ],
   "metadata": {
    "collapsed": false,
    "ExecuteTime": {
     "end_time": "2024-04-09T05:10:42.154148200Z",
     "start_time": "2024-04-09T05:10:33.302524800Z"
    }
   },
   "id": "badad6319a73efbe"
  },
  {
   "cell_type": "code",
   "execution_count": 2,
   "outputs": [],
   "source": [
    "loaded_model = tf.keras.models.load_model(\"E:\\MV-Code-202018010103-Lucy\\Model\\model1_se1.h5\")"
   ],
   "metadata": {
    "collapsed": false,
    "ExecuteTime": {
     "end_time": "2024-04-09T05:10:54.875243100Z",
     "start_time": "2024-04-09T05:10:53.325877400Z"
    }
   },
   "id": "5c788ea4972238f9"
  },
  {
   "cell_type": "code",
   "execution_count": 3,
   "outputs": [
    {
     "name": "stdout",
     "output_type": "stream",
     "text": [
      "Requirement already satisfied: tf2onnx in d:\\software\\anaconda\\envs\\pytorch\\lib\\site-packages (1.16.1)\n",
      "Requirement already satisfied: numpy>=1.14.1 in d:\\software\\anaconda\\envs\\pytorch\\lib\\site-packages (from tf2onnx) (1.24.1)\n",
      "Requirement already satisfied: onnx>=1.4.1 in d:\\software\\anaconda\\envs\\pytorch\\lib\\site-packages (from tf2onnx) (1.16.0)\n",
      "Requirement already satisfied: requests in d:\\software\\anaconda\\envs\\pytorch\\lib\\site-packages (from tf2onnx) (2.31.0)\n",
      "Requirement already satisfied: six in d:\\software\\anaconda\\envs\\pytorch\\lib\\site-packages (from tf2onnx) (1.15.0)\n",
      "Requirement already satisfied: flatbuffers>=1.12 in d:\\software\\anaconda\\envs\\pytorch\\lib\\site-packages (from tf2onnx) (24.3.25)\n",
      "Requirement already satisfied: protobuf~=3.20 in d:\\software\\anaconda\\envs\\pytorch\\lib\\site-packages (from tf2onnx) (3.20.3)\n",
      "Requirement already satisfied: charset-normalizer<4,>=2 in d:\\software\\anaconda\\envs\\pytorch\\lib\\site-packages (from requests->tf2onnx) (2.0.4)\n",
      "Requirement already satisfied: idna<4,>=2.5 in d:\\software\\anaconda\\envs\\pytorch\\lib\\site-packages (from requests->tf2onnx) (3.4)\n",
      "Requirement already satisfied: urllib3<3,>=1.21.1 in d:\\software\\anaconda\\envs\\pytorch\\lib\\site-packages (from requests->tf2onnx) (1.26.13)\n",
      "Requirement already satisfied: certifi>=2017.4.17 in d:\\software\\anaconda\\envs\\pytorch\\lib\\site-packages (from requests->tf2onnx) (2022.12.7)\n"
     ]
    },
    {
     "name": "stderr",
     "output_type": "stream",
     "text": [
      "\n",
      "[notice] A new release of pip is available: 23.3.1 -> 24.0\n",
      "[notice] To update, run: python.exe -m pip install --upgrade pip\n"
     ]
    },
    {
     "name": "stdout",
     "output_type": "stream",
     "text": [
      "Requirement already satisfied: onnx2pytorch in d:\\software\\anaconda\\envs\\pytorch\\lib\\site-packages (0.4.1)\n",
      "Requirement already satisfied: torch>=1.4.0 in d:\\software\\anaconda\\envs\\pytorch\\lib\\site-packages (from onnx2pytorch) (2.1.0)\n",
      "Requirement already satisfied: onnx>=1.6.0 in d:\\software\\anaconda\\envs\\pytorch\\lib\\site-packages (from onnx2pytorch) (1.16.0)\n",
      "Requirement already satisfied: torchvision>=0.9.0 in d:\\software\\anaconda\\envs\\pytorch\\lib\\site-packages (from onnx2pytorch) (0.15.2a0)\n",
      "Requirement already satisfied: numpy>=1.20 in d:\\software\\anaconda\\envs\\pytorch\\lib\\site-packages (from onnx>=1.6.0->onnx2pytorch) (1.24.1)\n",
      "Requirement already satisfied: protobuf>=3.20.2 in d:\\software\\anaconda\\envs\\pytorch\\lib\\site-packages (from onnx>=1.6.0->onnx2pytorch) (3.20.3)\n",
      "Requirement already satisfied: filelock in d:\\software\\anaconda\\envs\\pytorch\\lib\\site-packages (from torch>=1.4.0->onnx2pytorch) (3.9.0)\n",
      "Requirement already satisfied: typing-extensions in d:\\software\\anaconda\\envs\\pytorch\\lib\\site-packages (from torch>=1.4.0->onnx2pytorch) (4.4.0)\n",
      "Requirement already satisfied: sympy in d:\\software\\anaconda\\envs\\pytorch\\lib\\site-packages (from torch>=1.4.0->onnx2pytorch) (1.11.1)\n",
      "Requirement already satisfied: networkx in d:\\software\\anaconda\\envs\\pytorch\\lib\\site-packages (from torch>=1.4.0->onnx2pytorch) (3.0)\n",
      "Requirement already satisfied: jinja2 in d:\\software\\anaconda\\envs\\pytorch\\lib\\site-packages (from torch>=1.4.0->onnx2pytorch) (3.1.2)\n",
      "Requirement already satisfied: fsspec in d:\\software\\anaconda\\envs\\pytorch\\lib\\site-packages (from torch>=1.4.0->onnx2pytorch) (2023.4.0)\n",
      "Requirement already satisfied: requests in d:\\software\\anaconda\\envs\\pytorch\\lib\\site-packages (from torchvision>=0.9.0->onnx2pytorch) (2.31.0)\n",
      "Requirement already satisfied: pillow!=8.3.*,>=5.3.0 in d:\\software\\anaconda\\envs\\pytorch\\lib\\site-packages (from torchvision>=0.9.0->onnx2pytorch) (10.0.1)\n",
      "Requirement already satisfied: MarkupSafe>=2.0 in d:\\software\\anaconda\\envs\\pytorch\\lib\\site-packages (from jinja2->torch>=1.4.0->onnx2pytorch) (2.1.1)\n",
      "Requirement already satisfied: charset-normalizer<4,>=2 in d:\\software\\anaconda\\envs\\pytorch\\lib\\site-packages (from requests->torchvision>=0.9.0->onnx2pytorch) (2.0.4)\n",
      "Requirement already satisfied: idna<4,>=2.5 in d:\\software\\anaconda\\envs\\pytorch\\lib\\site-packages (from requests->torchvision>=0.9.0->onnx2pytorch) (3.4)\n",
      "Requirement already satisfied: urllib3<3,>=1.21.1 in d:\\software\\anaconda\\envs\\pytorch\\lib\\site-packages (from requests->torchvision>=0.9.0->onnx2pytorch) (1.26.13)\n",
      "Requirement already satisfied: certifi>=2017.4.17 in d:\\software\\anaconda\\envs\\pytorch\\lib\\site-packages (from requests->torchvision>=0.9.0->onnx2pytorch) (2022.12.7)\n",
      "Requirement already satisfied: mpmath>=0.19 in d:\\software\\anaconda\\envs\\pytorch\\lib\\site-packages (from sympy->torch>=1.4.0->onnx2pytorch) (1.3.0)\n"
     ]
    },
    {
     "name": "stderr",
     "output_type": "stream",
     "text": [
      "\n",
      "[notice] A new release of pip is available: 23.3.1 -> 24.0\n",
      "[notice] To update, run: python.exe -m pip install --upgrade pip\n"
     ]
    }
   ],
   "source": [
    "!pip install tf2onnx\n",
    "!pip install onnx2pytorch"
   ],
   "metadata": {
    "collapsed": false,
    "ExecuteTime": {
     "end_time": "2024-04-09T05:11:01.430463200Z",
     "start_time": "2024-04-09T05:10:56.006828900Z"
    }
   },
   "id": "78175e541371b6ef"
  },
  {
   "cell_type": "code",
   "execution_count": 4,
   "outputs": [],
   "source": [
    "import tf2onnx\n",
    "import onnx\n",
    "output_path = r'E:\\MV-Code-202018010103-Lucy\\Model\\full_model.pth'\n",
    "# Convert the model to ONNX format\n",
    "onnx_model, _ = tf2onnx.convert.from_keras(loaded_model)\n",
    "onnx.save_model(onnx_model, output_path)\n",
    "\n"
   ],
   "metadata": {
    "collapsed": false,
    "ExecuteTime": {
     "end_time": "2024-04-09T05:12:50.876510200Z",
     "start_time": "2024-04-09T05:12:48.928936900Z"
    }
   },
   "id": "d362880f4b87547d"
  },
  {
   "cell_type": "code",
   "execution_count": 3,
   "outputs": [
    {
     "name": "stderr",
     "output_type": "stream",
     "text": [
      "D:\\Software\\anaconda\\envs\\Pytorch\\lib\\site-packages\\onnx2pytorch\\convert\\layer.py:30: UserWarning: The given NumPy array is not writable, and PyTorch does not support non-writable tensors. This means writing to this tensor will result in undefined behavior. You may want to copy the array to protect its data or make it writable before converting it to a tensor. This type of warning will be suppressed for the rest of this program. (Triggered internally at C:\\cb\\pytorch_1000000000000\\work\\torch\\csrc\\utils\\tensor_numpy.cpp:212.)\n",
      "  layer.weight.data = torch.from_numpy(numpy_helper.to_array(weight))\n"
     ]
    },
    {
     "data": {
      "text/plain": "ConvertModel(\n  (Transpose_model_2/conv2d_8/BiasAdd__6:0): Transpose()\n  (Conv_model_2/conv2d_8/BiasAdd:0): Conv2d(3, 32, kernel_size=(3, 3), stride=(1, 1), padding=(1, 1))\n  (Relu_model_2/conv2d_8/Relu:0): ReLU(inplace=True)\n  (BatchNormalization_model_2/batch_normalization_8/FusedBatchNormV3:0): BatchNormWrapper(\n    (bnu): BatchNormUnsafe(32, eps=0.0010000000474974513, momentum=0.1, affine=True, track_running_stats=True)\n  )\n  (GlobalAveragePool_model_2/global_average_pooling2d_10/Mean:0): GlobalAveragePool()\n  (Squeeze_model_2/global_average_pooling2d_10/Mean_Squeeze__221:0): Squeeze()\n  (Reshape_model_2/reshape_8/Reshape:0): Reshape(shape=[-1  1  1 32])\n  (Shape_model_2/dense_20/Tensordot/Shape:0): Shape()\n  (Cast_model_2/dense_20/Tensordot/Shape__30:0): Cast(dtype=torch.int32)\n  (Gather_model_2/dense_20/Tensordot/GatherV2:0): Gather()\n  (Cast_model_2/dense_20/Tensordot__37:0): Cast(dtype=torch.int64)\n  (Reshape_model_2/dense_20/Tensordot/Reshape:0): Reshape(shape=[-1 32])\n  (MatMul_model_2/dense_20/Tensordot/MatMul:0): Linear(in_features=32, out_features=4, bias=False)\n  (Reshape_model_2/dense_20/Tensordot:0): Reshape(shape=None)\n  (Add_model_2/dense_20/BiasAdd:0): Add()\n  (Relu_model_2/dense_20/Relu:0): ReLU(inplace=True)\n  (Shape_model_2/dense_21/Tensordot/Shape:0): Shape()\n  (Cast_model_2/dense_21/Tensordot/Shape__38:0): Cast(dtype=torch.int32)\n  (Gather_model_2/dense_21/Tensordot/GatherV2:0): Gather()\n  (Cast_model_2/dense_21/Tensordot__45:0): Cast(dtype=torch.int64)\n  (Reshape_model_2/dense_21/Tensordot/Reshape:0): Reshape(shape=[-1  4])\n  (MatMul_model_2/dense_21/Tensordot/MatMul:0): Linear(in_features=4, out_features=32, bias=False)\n  (Reshape_model_2/dense_21/Tensordot:0): Reshape(shape=None)\n  (Add_model_2/dense_21/BiasAdd:0): Add()\n  (Sigmoid_model_2/dense_21/Sigmoid:0): Sigmoid()\n  (Transpose_Transpose__180:0): Transpose()\n  (Mul_model_2/multiply_8/mul:0): mul()\n  (Transpose_model_2/max_pooling2d_6/MaxPool__46:0): Transpose()\n  (MaxPool_model_2/max_pooling2d_6/MaxPool:0): MaxPool2d(kernel_size=(2, 2), stride=(2, 2), padding=0, dilation=1, ceil_mode=False)\n  (Conv_model_2/conv2d_9/BiasAdd:0): Conv2d(32, 64, kernel_size=(3, 3), stride=(1, 1), padding=(1, 1))\n  (Relu_model_2/conv2d_9/Relu:0): ReLU(inplace=True)\n  (BatchNormalization_model_2/batch_normalization_9/FusedBatchNormV3:0): BatchNormWrapper(\n    (bnu): BatchNormUnsafe(64, eps=0.0010000000474974513, momentum=0.1, affine=True, track_running_stats=True)\n  )\n  (GlobalAveragePool_model_2/global_average_pooling2d_11/Mean:0): GlobalAveragePool()\n  (Squeeze_model_2/global_average_pooling2d_11/Mean_Squeeze__227:0): Squeeze()\n  (Reshape_model_2/reshape_9/Reshape:0): Reshape(shape=[-1  1  1 64])\n  (Shape_model_2/dense_22/Tensordot/Shape:0): Shape()\n  (Cast_model_2/dense_22/Tensordot/Shape__74:0): Cast(dtype=torch.int32)\n  (Gather_model_2/dense_22/Tensordot/GatherV2:0): Gather()\n  (Cast_model_2/dense_22/Tensordot__81:0): Cast(dtype=torch.int64)\n  (Reshape_model_2/dense_22/Tensordot/Reshape:0): Reshape(shape=[-1 64])\n  (MatMul_model_2/dense_22/Tensordot/MatMul:0): Linear(in_features=64, out_features=8, bias=False)\n  (Reshape_model_2/dense_22/Tensordot:0): Reshape(shape=None)\n  (Add_model_2/dense_22/BiasAdd:0): Add()\n  (Relu_model_2/dense_22/Relu:0): ReLU(inplace=True)\n  (Shape_model_2/dense_23/Tensordot/Shape:0): Shape()\n  (Cast_model_2/dense_23/Tensordot/Shape__82:0): Cast(dtype=torch.int32)\n  (Gather_model_2/dense_23/Tensordot/GatherV2:0): Gather()\n  (Cast_model_2/dense_23/Tensordot__89:0): Cast(dtype=torch.int64)\n  (Reshape_model_2/dense_23/Tensordot/Reshape:0): Reshape(shape=[-1  8])\n  (MatMul_model_2/dense_23/Tensordot/MatMul:0): Linear(in_features=8, out_features=64, bias=False)\n  (Reshape_model_2/dense_23/Tensordot:0): Reshape(shape=None)\n  (Add_model_2/dense_23/BiasAdd:0): Add()\n  (Sigmoid_model_2/dense_23/Sigmoid:0): Sigmoid()\n  (Transpose_Transpose__184:0): Transpose()\n  (Mul_model_2/multiply_9/mul:0): mul()\n  (Transpose_model_2/max_pooling2d_7/MaxPool__90:0): Transpose()\n  (MaxPool_model_2/max_pooling2d_7/MaxPool:0): MaxPool2d(kernel_size=(2, 2), stride=(2, 2), padding=0, dilation=1, ceil_mode=False)\n  (Conv_model_2/conv2d_10/BiasAdd:0): Conv2d(64, 128, kernel_size=(3, 3), stride=(1, 1), padding=(1, 1))\n  (Relu_model_2/conv2d_10/Relu:0): ReLU(inplace=True)\n  (BatchNormalization_model_2/batch_normalization_10/FusedBatchNormV3:0): BatchNormWrapper(\n    (bnu): BatchNormUnsafe(128, eps=0.0010000000474974513, momentum=0.1, affine=True, track_running_stats=True)\n  )\n  (GlobalAveragePool_model_2/global_average_pooling2d_12/Mean:0): GlobalAveragePool()\n  (Squeeze_model_2/global_average_pooling2d_12/Mean_Squeeze__225:0): Squeeze()\n  (Reshape_model_2/reshape_10/Reshape:0): Reshape(shape=[ -1   1   1 128])\n  (Shape_model_2/dense_24/Tensordot/Shape:0): Shape()\n  (Cast_model_2/dense_24/Tensordot/Shape__118:0): Cast(dtype=torch.int32)\n  (Gather_model_2/dense_24/Tensordot/GatherV2:0): Gather()\n  (Cast_model_2/dense_24/Tensordot__125:0): Cast(dtype=torch.int64)\n  (Reshape_model_2/dense_24/Tensordot/Reshape:0): Reshape(shape=[ -1 128])\n  (MatMul_model_2/dense_24/Tensordot/MatMul:0): Linear(in_features=128, out_features=16, bias=False)\n  (Reshape_model_2/dense_24/Tensordot:0): Reshape(shape=None)\n  (Add_model_2/dense_24/BiasAdd:0): Add()\n  (Relu_model_2/dense_24/Relu:0): ReLU(inplace=True)\n  (Shape_model_2/dense_25/Tensordot/Shape:0): Shape()\n  (Cast_model_2/dense_25/Tensordot/Shape__126:0): Cast(dtype=torch.int32)\n  (Gather_model_2/dense_25/Tensordot/GatherV2:0): Gather()\n  (Cast_model_2/dense_25/Tensordot__133:0): Cast(dtype=torch.int64)\n  (Reshape_model_2/dense_25/Tensordot/Reshape:0): Reshape(shape=[-1 16])\n  (MatMul_model_2/dense_25/Tensordot/MatMul:0): Linear(in_features=16, out_features=128, bias=False)\n  (Reshape_model_2/dense_25/Tensordot:0): Reshape(shape=None)\n  (Add_model_2/dense_25/BiasAdd:0): Add()\n  (Sigmoid_model_2/dense_25/Sigmoid:0): Sigmoid()\n  (Transpose_Transpose__188:0): Transpose()\n  (Mul_model_2/multiply_10/mul:0): mul()\n  (Transpose_model_2/conv2d_11/BiasAdd__134:0): Transpose()\n  (Conv_model_2/conv2d_11/BiasAdd:0): Conv2d(128, 128, kernel_size=(3, 3), stride=(1, 1), padding=(1, 1))\n  (Relu_model_2/conv2d_11/Relu:0): ReLU(inplace=True)\n  (BatchNormalization_model_2/batch_normalization_11/FusedBatchNormV3:0): BatchNormWrapper(\n    (bnu): BatchNormUnsafe(128, eps=0.0010000000474974513, momentum=0.1, affine=True, track_running_stats=True)\n  )\n  (GlobalAveragePool_model_2/global_average_pooling2d_13/Mean:0): GlobalAveragePool()\n  (Squeeze_model_2/global_average_pooling2d_13/Mean_Squeeze__219:0): Squeeze()\n  (Reshape_model_2/reshape_11/Reshape:0): Reshape(shape=[ -1   1   1 128])\n  (Shape_model_2/dense_26/Tensordot/Shape:0): Shape()\n  (Cast_model_2/dense_26/Tensordot/Shape__158:0): Cast(dtype=torch.int32)\n  (Gather_model_2/dense_26/Tensordot/GatherV2:0): Gather()\n  (Cast_model_2/dense_26/Tensordot__165:0): Cast(dtype=torch.int64)\n  (Reshape_model_2/dense_26/Tensordot/Reshape:0): Reshape(shape=[ -1 128])\n  (MatMul_model_2/dense_26/Tensordot/MatMul:0): Linear(in_features=128, out_features=16, bias=False)\n  (Reshape_model_2/dense_26/Tensordot:0): Reshape(shape=None)\n  (Add_model_2/dense_26/BiasAdd:0): Add()\n  (Relu_model_2/dense_26/Relu:0): ReLU(inplace=True)\n  (Shape_model_2/dense_27/Tensordot/Shape:0): Shape()\n  (Cast_model_2/dense_27/Tensordot/Shape__166:0): Cast(dtype=torch.int32)\n  (Gather_model_2/dense_27/Tensordot/GatherV2:0): Gather()\n  (Cast_model_2/dense_27/Tensordot__173:0): Cast(dtype=torch.int64)\n  (Reshape_model_2/dense_27/Tensordot/Reshape:0): Reshape(shape=[-1 16])\n  (MatMul_model_2/dense_27/Tensordot/MatMul:0): Linear(in_features=16, out_features=128, bias=False)\n  (Reshape_model_2/dense_27/Tensordot:0): Reshape(shape=None)\n  (Add_model_2/dense_27/BiasAdd:0): Add()\n  (Sigmoid_model_2/dense_27/Sigmoid:0): Sigmoid()\n  (Transpose_Transpose__192:0): Transpose()\n  (Mul_model_2/multiply_11/mul:0): mul()\n  (Transpose_model_2/max_pooling2d_8/MaxPool__174:0): Transpose()\n  (MaxPool_model_2/max_pooling2d_8/MaxPool:0): MaxPool2d(kernel_size=(2, 2), stride=(2, 2), padding=0, dilation=1, ceil_mode=False)\n  (GlobalAveragePool_model_2/global_average_pooling2d_14/Mean:0): GlobalAveragePool()\n  (Squeeze_model_2/global_average_pooling2d_14/Mean_Squeeze__223:0): Squeeze()\n  (MatMul_model_2/dense_28/BiasAdd:0): Linear(in_features=128, out_features=256, bias=True)\n  (Relu_model_2/dense_28/Relu:0): ReLU(inplace=True)\n  (MatMul_model_2/dense_29/BiasAdd:0): Linear(in_features=256, out_features=1, bias=True)\n  (Sigmoid_dense_29): Sigmoid()\n)"
     },
     "execution_count": 3,
     "metadata": {},
     "output_type": "execute_result"
    }
   ],
   "source": [
    "import onnx\n",
    "from onnx2pytorch import ConvertModel\n",
    "import torch\n",
    "\n",
    "# 加载 ONNX 模型文件\n",
    "onnx_model_path = r\"E:\\MV-Code-202018010103-Lucy\\Model\\full_model.onnx\"\n",
    "onnx_model = onnx.load(onnx_model_path)\n",
    "\n",
    "# 将 ONNX 模型转换为 PyTorch 模型\n",
    "pytorch_model = ConvertModel(onnx_model)\n",
    "\n",
    "# 保存 PyTorch 模型\n",
    "torch_model_path = r'E:\\MV-Code-202018010103-Lucy\\Model\\full_model.pth'\n",
    "torch.save(pytorch_model, torch_model_path)\n",
    "\n",
    "# 输出 PyTorch 模型以验证\n",
    "pytorch_model\n"
   ],
   "metadata": {
    "collapsed": false,
    "ExecuteTime": {
     "end_time": "2024-04-09T05:19:30.870640500Z",
     "start_time": "2024-04-09T05:19:30.765854700Z"
    }
   },
   "id": "3f0d48524713d74c"
  },
  {
   "cell_type": "code",
   "execution_count": 2,
   "outputs": [
    {
     "ename": "NameError",
     "evalue": "name 'pytorch_model' is not defined",
     "output_type": "error",
     "traceback": [
      "\u001B[1;31m---------------------------------------------------------------------------\u001B[0m",
      "\u001B[1;31mNameError\u001B[0m                                 Traceback (most recent call last)",
      "Cell \u001B[1;32mIn[2], line 2\u001B[0m\n\u001B[0;32m      1\u001B[0m \u001B[38;5;28;01mimport\u001B[39;00m \u001B[38;5;21;01mtorch\u001B[39;00m\n\u001B[1;32m----> 2\u001B[0m torch\u001B[38;5;241m.\u001B[39msave(\u001B[43mpytorch_model\u001B[49m, \u001B[38;5;124mr\u001B[39m\u001B[38;5;124m'\u001B[39m\u001B[38;5;124mE:\u001B[39m\u001B[38;5;124m\\\u001B[39m\u001B[38;5;124mMV-Code-202018010103-Lucy\u001B[39m\u001B[38;5;124m\\\u001B[39m\u001B[38;5;124mModel\u001B[39m\u001B[38;5;124m\\\u001B[39m\u001B[38;5;124mfull_model.pth\u001B[39m\u001B[38;5;124m'\u001B[39m)\n",
      "\u001B[1;31mNameError\u001B[0m: name 'pytorch_model' is not defined"
     ]
    }
   ],
   "source": [
    "import torch\n",
    "torch.save(pytorch_model, r'E:\\MV-Code-202018010103-Lucy\\Model\\full_model.pth')"
   ],
   "metadata": {
    "collapsed": false,
    "ExecuteTime": {
     "end_time": "2024-04-09T05:04:15.676643Z",
     "start_time": "2024-04-09T05:04:08.617700700Z"
    }
   },
   "id": "e70a64727e1a7f44"
  }
 ],
 "metadata": {
  "kernelspec": {
   "name": "python3",
   "language": "python",
   "display_name": "Python 3 (ipykernel)"
  },
  "language_info": {
   "codemirror_mode": {
    "name": "ipython",
    "version": 2
   },
   "file_extension": ".py",
   "mimetype": "text/x-python",
   "name": "python",
   "nbconvert_exporter": "python",
   "pygments_lexer": "ipython2",
   "version": "2.7.6"
  }
 },
 "nbformat": 4,
 "nbformat_minor": 5
}
